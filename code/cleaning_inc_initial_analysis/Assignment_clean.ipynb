{
 "cells": [
  {
   "cell_type": "code",
   "execution_count": 1,
   "metadata": {},
   "outputs": [],
   "source": [
    "import pandas as pd"
   ]
  },
  {
   "cell_type": "code",
   "execution_count": 2,
   "metadata": {},
   "outputs": [],
   "source": [
    "import numpy as np"
   ]
  },
  {
   "cell_type": "code",
   "execution_count": null,
   "metadata": {},
   "outputs": [],
   "source": []
  },
  {
   "cell_type": "code",
   "execution_count": 3,
   "metadata": {},
   "outputs": [],
   "source": [
    "# Access the Data. The data is grouped into quarterly files downloaded from Bris City Council website. Need to import all 8 quarterly data files and add the month ending for the Quarter for each file\n",
    "df_complaints_q2fy19 = pd.read_csv('../Assignment/animal-related-complaints-q2_fy19.csv')"
   ]
  },
  {
   "cell_type": "code",
   "execution_count": 4,
   "metadata": {},
   "outputs": [
    {
     "data": {
      "text/html": [
       "<div>\n",
       "<style scoped>\n",
       "    .dataframe tbody tr th:only-of-type {\n",
       "        vertical-align: middle;\n",
       "    }\n",
       "\n",
       "    .dataframe tbody tr th {\n",
       "        vertical-align: top;\n",
       "    }\n",
       "\n",
       "    .dataframe thead th {\n",
       "        text-align: right;\n",
       "    }\n",
       "</style>\n",
       "<table border=\"1\" class=\"dataframe\">\n",
       "  <thead>\n",
       "    <tr style=\"text-align: right;\">\n",
       "      <th></th>\n",
       "      <th>Category: Nature</th>\n",
       "      <th>Category: Type</th>\n",
       "      <th>Category: Reporting Level</th>\n",
       "      <th>Location: Suburb</th>\n",
       "      <th>Quarter_Ending</th>\n",
       "    </tr>\n",
       "  </thead>\n",
       "  <tbody>\n",
       "    <tr>\n",
       "      <th>0</th>\n",
       "      <td>Animal</td>\n",
       "      <td>Cat</td>\n",
       "      <td>Wandering</td>\n",
       "      <td>GAYTHORNE</td>\n",
       "      <td>2018-12</td>\n",
       "    </tr>\n",
       "    <tr>\n",
       "      <th>1</th>\n",
       "      <td>Animal</td>\n",
       "      <td>Dog</td>\n",
       "      <td>Fencing Issues</td>\n",
       "      <td>CHAPEL HILL</td>\n",
       "      <td>2018-12</td>\n",
       "    </tr>\n",
       "    <tr>\n",
       "      <th>2</th>\n",
       "      <td>Animal</td>\n",
       "      <td>Attack</td>\n",
       "      <td>Attack On A Person</td>\n",
       "      <td>ASPLEY</td>\n",
       "      <td>2018-12</td>\n",
       "    </tr>\n",
       "    <tr>\n",
       "      <th>3</th>\n",
       "      <td>Animal</td>\n",
       "      <td>Attack</td>\n",
       "      <td>NaN</td>\n",
       "      <td>JAMBOREE HEIGHTS</td>\n",
       "      <td>2018-12</td>\n",
       "    </tr>\n",
       "    <tr>\n",
       "      <th>4</th>\n",
       "      <td>Animal</td>\n",
       "      <td>Cat</td>\n",
       "      <td>Wandering</td>\n",
       "      <td>ASHGROVE</td>\n",
       "      <td>2018-12</td>\n",
       "    </tr>\n",
       "    <tr>\n",
       "      <th>...</th>\n",
       "      <td>...</td>\n",
       "      <td>...</td>\n",
       "      <td>...</td>\n",
       "      <td>...</td>\n",
       "      <td>...</td>\n",
       "    </tr>\n",
       "    <tr>\n",
       "      <th>1963</th>\n",
       "      <td>Animal</td>\n",
       "      <td>Other Animal</td>\n",
       "      <td>Fox</td>\n",
       "      <td>CHANDLER</td>\n",
       "      <td>2018-12</td>\n",
       "    </tr>\n",
       "    <tr>\n",
       "      <th>1964</th>\n",
       "      <td>Animal</td>\n",
       "      <td>Other Animal</td>\n",
       "      <td>Fencing Issues</td>\n",
       "      <td>COOPERS PLAINS</td>\n",
       "      <td>2018-12</td>\n",
       "    </tr>\n",
       "    <tr>\n",
       "      <th>1965</th>\n",
       "      <td>Animal</td>\n",
       "      <td>Dog</td>\n",
       "      <td>Fencing Issues</td>\n",
       "      <td>ZILLMERE</td>\n",
       "      <td>2018-12</td>\n",
       "    </tr>\n",
       "    <tr>\n",
       "      <th>1966</th>\n",
       "      <td>Animal</td>\n",
       "      <td>Dog</td>\n",
       "      <td>Fencing Issues</td>\n",
       "      <td>ZILLMERE</td>\n",
       "      <td>2018-12</td>\n",
       "    </tr>\n",
       "    <tr>\n",
       "      <th>1967</th>\n",
       "      <td>Animal</td>\n",
       "      <td>Other Animal</td>\n",
       "      <td>Fox</td>\n",
       "      <td>JAMBOREE HEIGHTS</td>\n",
       "      <td>2018-12</td>\n",
       "    </tr>\n",
       "  </tbody>\n",
       "</table>\n",
       "<p>1968 rows × 5 columns</p>\n",
       "</div>"
      ],
      "text/plain": [
       "     Category: Nature Category: Type Category: Reporting Level  \\\n",
       "0              Animal            Cat                 Wandering   \n",
       "1              Animal            Dog            Fencing Issues   \n",
       "2              Animal         Attack        Attack On A Person   \n",
       "3              Animal         Attack                       NaN   \n",
       "4              Animal            Cat                 Wandering   \n",
       "...               ...            ...                       ...   \n",
       "1963           Animal   Other Animal                       Fox   \n",
       "1964           Animal   Other Animal            Fencing Issues   \n",
       "1965           Animal            Dog            Fencing Issues   \n",
       "1966           Animal            Dog            Fencing Issues   \n",
       "1967           Animal   Other Animal                       Fox   \n",
       "\n",
       "      Location: Suburb Quarter_Ending  \n",
       "0            GAYTHORNE        2018-12  \n",
       "1          CHAPEL HILL        2018-12  \n",
       "2               ASPLEY        2018-12  \n",
       "3     JAMBOREE HEIGHTS        2018-12  \n",
       "4             ASHGROVE        2018-12  \n",
       "...                ...            ...  \n",
       "1963          CHANDLER        2018-12  \n",
       "1964    COOPERS PLAINS        2018-12  \n",
       "1965          ZILLMERE        2018-12  \n",
       "1966          ZILLMERE        2018-12  \n",
       "1967  JAMBOREE HEIGHTS        2018-12  \n",
       "\n",
       "[1968 rows x 5 columns]"
      ]
     },
     "execution_count": 4,
     "metadata": {},
     "output_type": "execute_result"
    }
   ],
   "source": [
    "#add the specific date column 'Quarter_Ending'. This is required as date is only referenced in file name, not the actual data values.\n",
    "df_complaints_q2fy19['Quarter_Ending'] = '2018-12'\n",
    "df_complaints_q2fy19"
   ]
  },
  {
   "cell_type": "code",
   "execution_count": 5,
   "metadata": {},
   "outputs": [],
   "source": [
    "#complete same process for remaining 7 files for each of the quarterly data periods\n",
    "df_complaints_q3fy19 = pd.read_csv('../Assignment/animal-related-complaints-q3_fy19.csv')"
   ]
  },
  {
   "cell_type": "code",
   "execution_count": 6,
   "metadata": {},
   "outputs": [
    {
     "data": {
      "text/html": [
       "<div>\n",
       "<style scoped>\n",
       "    .dataframe tbody tr th:only-of-type {\n",
       "        vertical-align: middle;\n",
       "    }\n",
       "\n",
       "    .dataframe tbody tr th {\n",
       "        vertical-align: top;\n",
       "    }\n",
       "\n",
       "    .dataframe thead th {\n",
       "        text-align: right;\n",
       "    }\n",
       "</style>\n",
       "<table border=\"1\" class=\"dataframe\">\n",
       "  <thead>\n",
       "    <tr style=\"text-align: right;\">\n",
       "      <th></th>\n",
       "      <th>Category: Nature</th>\n",
       "      <th>Category: Type</th>\n",
       "      <th>Category: Reporting Level</th>\n",
       "      <th>Location: Suburb</th>\n",
       "      <th>Office: Responsible Office</th>\n",
       "      <th>Quarter_Ending</th>\n",
       "    </tr>\n",
       "  </thead>\n",
       "  <tbody>\n",
       "    <tr>\n",
       "      <th>0</th>\n",
       "      <td>Animal</td>\n",
       "      <td>Dog</td>\n",
       "      <td>Wandering</td>\n",
       "      <td>STAFFORD</td>\n",
       "      <td>City Safety (Animal Management)</td>\n",
       "      <td>2019-03</td>\n",
       "    </tr>\n",
       "    <tr>\n",
       "      <th>1</th>\n",
       "      <td>Animal</td>\n",
       "      <td>Cat Trapping</td>\n",
       "      <td>NaN</td>\n",
       "      <td>TARRAGINDI</td>\n",
       "      <td>Environmental Management Team</td>\n",
       "      <td>2019-03</td>\n",
       "    </tr>\n",
       "    <tr>\n",
       "      <th>2</th>\n",
       "      <td>Animal</td>\n",
       "      <td>Attack</td>\n",
       "      <td>Attack On An Animal</td>\n",
       "      <td>ACACIA RIDGE</td>\n",
       "      <td>Enforcement Animal Attack</td>\n",
       "      <td>2019-03</td>\n",
       "    </tr>\n",
       "    <tr>\n",
       "      <th>3</th>\n",
       "      <td>Animal</td>\n",
       "      <td>Cat Trapping</td>\n",
       "      <td>NaN</td>\n",
       "      <td>FITZGIBBON</td>\n",
       "      <td>Environmental Management Team</td>\n",
       "      <td>2019-03</td>\n",
       "    </tr>\n",
       "    <tr>\n",
       "      <th>4</th>\n",
       "      <td>Animal</td>\n",
       "      <td>Cat Trapping</td>\n",
       "      <td>NaN</td>\n",
       "      <td>MANLY WEST</td>\n",
       "      <td>Environmental Management Team</td>\n",
       "      <td>2019-03</td>\n",
       "    </tr>\n",
       "    <tr>\n",
       "      <th>...</th>\n",
       "      <td>...</td>\n",
       "      <td>...</td>\n",
       "      <td>...</td>\n",
       "      <td>...</td>\n",
       "      <td>...</td>\n",
       "      <td>...</td>\n",
       "    </tr>\n",
       "    <tr>\n",
       "      <th>1785</th>\n",
       "      <td>Animal</td>\n",
       "      <td>Cat Trapping</td>\n",
       "      <td>NaN</td>\n",
       "      <td>DEAGON</td>\n",
       "      <td>Environmental Management Team</td>\n",
       "      <td>2019-03</td>\n",
       "    </tr>\n",
       "    <tr>\n",
       "      <th>1786</th>\n",
       "      <td>Animal</td>\n",
       "      <td>Other Animal</td>\n",
       "      <td>Fox</td>\n",
       "      <td>SHERWOOD</td>\n",
       "      <td>Environmental Management Team</td>\n",
       "      <td>2019-03</td>\n",
       "    </tr>\n",
       "    <tr>\n",
       "      <th>1787</th>\n",
       "      <td>Animal</td>\n",
       "      <td>Dog</td>\n",
       "      <td>Wandering</td>\n",
       "      <td>SEVENTEEN MILE ROCKS</td>\n",
       "      <td>City Safety (Animal Management)</td>\n",
       "      <td>2019-03</td>\n",
       "    </tr>\n",
       "    <tr>\n",
       "      <th>1788</th>\n",
       "      <td>Animal</td>\n",
       "      <td>Cat Trapping</td>\n",
       "      <td>NaN</td>\n",
       "      <td>CLAYFIELD</td>\n",
       "      <td>Environmental Management Team</td>\n",
       "      <td>2019-03</td>\n",
       "    </tr>\n",
       "    <tr>\n",
       "      <th>1789</th>\n",
       "      <td>Animal</td>\n",
       "      <td>Cat</td>\n",
       "      <td>Wandering</td>\n",
       "      <td>FITZGIBBON</td>\n",
       "      <td>City Safety Assessments Team</td>\n",
       "      <td>2019-03</td>\n",
       "    </tr>\n",
       "  </tbody>\n",
       "</table>\n",
       "<p>1790 rows × 6 columns</p>\n",
       "</div>"
      ],
      "text/plain": [
       "     Category: Nature Category: Type Category: Reporting Level  \\\n",
       "0              Animal            Dog                 Wandering   \n",
       "1              Animal   Cat Trapping                       NaN   \n",
       "2              Animal         Attack       Attack On An Animal   \n",
       "3              Animal   Cat Trapping                       NaN   \n",
       "4              Animal   Cat Trapping                       NaN   \n",
       "...               ...            ...                       ...   \n",
       "1785           Animal   Cat Trapping                       NaN   \n",
       "1786           Animal   Other Animal                       Fox   \n",
       "1787           Animal            Dog                 Wandering   \n",
       "1788           Animal   Cat Trapping                       NaN   \n",
       "1789           Animal            Cat                 Wandering   \n",
       "\n",
       "          Location: Suburb       Office: Responsible Office Quarter_Ending  \n",
       "0                 STAFFORD  City Safety (Animal Management)        2019-03  \n",
       "1               TARRAGINDI    Environmental Management Team        2019-03  \n",
       "2             ACACIA RIDGE        Enforcement Animal Attack        2019-03  \n",
       "3               FITZGIBBON    Environmental Management Team        2019-03  \n",
       "4               MANLY WEST    Environmental Management Team        2019-03  \n",
       "...                    ...                              ...            ...  \n",
       "1785                DEAGON    Environmental Management Team        2019-03  \n",
       "1786              SHERWOOD    Environmental Management Team        2019-03  \n",
       "1787  SEVENTEEN MILE ROCKS  City Safety (Animal Management)        2019-03  \n",
       "1788             CLAYFIELD    Environmental Management Team        2019-03  \n",
       "1789            FITZGIBBON     City Safety Assessments Team        2019-03  \n",
       "\n",
       "[1790 rows x 6 columns]"
      ]
     },
     "execution_count": 6,
     "metadata": {},
     "output_type": "execute_result"
    }
   ],
   "source": [
    "df_complaints_q3fy19['Quarter_Ending'] = '2019-03'\n",
    "df_complaints_q3fy19"
   ]
  },
  {
   "cell_type": "code",
   "execution_count": null,
   "metadata": {},
   "outputs": [],
   "source": []
  },
  {
   "cell_type": "code",
   "execution_count": 7,
   "metadata": {},
   "outputs": [],
   "source": [
    "df_complaints_q4fy19 = pd.read_csv('../Assignment/animal-related-complaints-q4_fy19.csv')"
   ]
  },
  {
   "cell_type": "code",
   "execution_count": 8,
   "metadata": {},
   "outputs": [],
   "source": [
    "df_complaints_q4fy19['Quarter_Ending'] = '2019-06'"
   ]
  },
  {
   "cell_type": "code",
   "execution_count": null,
   "metadata": {},
   "outputs": [],
   "source": []
  },
  {
   "cell_type": "code",
   "execution_count": 9,
   "metadata": {},
   "outputs": [],
   "source": [
    "df_complaints_q1fy20 = pd.read_csv('../Assignment/animal-related-complaints-q1_fy20.csv')"
   ]
  },
  {
   "cell_type": "code",
   "execution_count": 10,
   "metadata": {},
   "outputs": [],
   "source": [
    "df_complaints_q1fy20['Quarter_Ending'] = '2019-09'"
   ]
  },
  {
   "cell_type": "code",
   "execution_count": null,
   "metadata": {},
   "outputs": [],
   "source": []
  },
  {
   "cell_type": "code",
   "execution_count": 11,
   "metadata": {},
   "outputs": [],
   "source": [
    "df_complaints_q2fy20 = pd.read_csv('../Assignment/animal-related-complaints-q2_fy20.csv')"
   ]
  },
  {
   "cell_type": "code",
   "execution_count": 12,
   "metadata": {},
   "outputs": [],
   "source": [
    " df_complaints_q2fy20['Quarter_Ending'] = '2019-12'"
   ]
  },
  {
   "cell_type": "code",
   "execution_count": null,
   "metadata": {},
   "outputs": [],
   "source": []
  },
  {
   "cell_type": "code",
   "execution_count": 13,
   "metadata": {},
   "outputs": [],
   "source": [
    "df_complaints_q3fy20 = pd.read_csv('../Assignment/animal-related-complaints-q3_fy20.csv')"
   ]
  },
  {
   "cell_type": "code",
   "execution_count": 14,
   "metadata": {},
   "outputs": [],
   "source": [
    " df_complaints_q3fy20['Quarter_Ending'] = '2020-03'"
   ]
  },
  {
   "cell_type": "code",
   "execution_count": null,
   "metadata": {},
   "outputs": [],
   "source": []
  },
  {
   "cell_type": "code",
   "execution_count": 15,
   "metadata": {},
   "outputs": [],
   "source": [
    "df_complaints_q4fy20 = pd.read_csv('../Assignment/animal-related-complaints-q4_fy20.csv')"
   ]
  },
  {
   "cell_type": "code",
   "execution_count": 16,
   "metadata": {},
   "outputs": [],
   "source": [
    " df_complaints_q4fy20['Quarter_Ending'] = '2020-06'"
   ]
  },
  {
   "cell_type": "code",
   "execution_count": null,
   "metadata": {},
   "outputs": [],
   "source": []
  },
  {
   "cell_type": "code",
   "execution_count": 17,
   "metadata": {},
   "outputs": [],
   "source": [
    "df_complaints_q1fy21 = pd.read_csv('../Assignment/animal-related-complaints-q1_fy21.csv')"
   ]
  },
  {
   "cell_type": "code",
   "execution_count": 18,
   "metadata": {},
   "outputs": [],
   "source": [
    "df_complaints_q1fy21['Quarter_Ending'] = '2020-09'"
   ]
  },
  {
   "cell_type": "code",
   "execution_count": null,
   "metadata": {},
   "outputs": [],
   "source": []
  },
  {
   "cell_type": "code",
   "execution_count": null,
   "metadata": {},
   "outputs": [],
   "source": []
  },
  {
   "cell_type": "code",
   "execution_count": 19,
   "metadata": {},
   "outputs": [],
   "source": [
    "#combine the 8 files into one data set\n",
    "combined_8qtrs = pd.concat([df_complaints_q2fy19, df_complaints_q3fy19, df_complaints_q4fy19, df_complaints_q1fy20, df_complaints_q2fy20, df_complaints_q3fy20, df_complaints_q4fy20, df_complaints_q1fy21], axis=0)"
   ]
  },
  {
   "cell_type": "code",
   "execution_count": 20,
   "metadata": {},
   "outputs": [
    {
     "data": {
      "text/html": [
       "<div>\n",
       "<style scoped>\n",
       "    .dataframe tbody tr th:only-of-type {\n",
       "        vertical-align: middle;\n",
       "    }\n",
       "\n",
       "    .dataframe tbody tr th {\n",
       "        vertical-align: top;\n",
       "    }\n",
       "\n",
       "    .dataframe thead th {\n",
       "        text-align: right;\n",
       "    }\n",
       "</style>\n",
       "<table border=\"1\" class=\"dataframe\">\n",
       "  <thead>\n",
       "    <tr style=\"text-align: right;\">\n",
       "      <th></th>\n",
       "      <th>Category: Nature</th>\n",
       "      <th>Category: Type</th>\n",
       "      <th>Category: Reporting Level</th>\n",
       "      <th>Location: Suburb</th>\n",
       "      <th>Quarter_Ending</th>\n",
       "      <th>Office: Responsible Office</th>\n",
       "    </tr>\n",
       "  </thead>\n",
       "  <tbody>\n",
       "    <tr>\n",
       "      <th>0</th>\n",
       "      <td>Animal</td>\n",
       "      <td>Cat</td>\n",
       "      <td>Wandering</td>\n",
       "      <td>GAYTHORNE</td>\n",
       "      <td>2018-12</td>\n",
       "      <td>NaN</td>\n",
       "    </tr>\n",
       "    <tr>\n",
       "      <th>1</th>\n",
       "      <td>Animal</td>\n",
       "      <td>Dog</td>\n",
       "      <td>Fencing Issues</td>\n",
       "      <td>CHAPEL HILL</td>\n",
       "      <td>2018-12</td>\n",
       "      <td>NaN</td>\n",
       "    </tr>\n",
       "    <tr>\n",
       "      <th>2</th>\n",
       "      <td>Animal</td>\n",
       "      <td>Attack</td>\n",
       "      <td>Attack On A Person</td>\n",
       "      <td>ASPLEY</td>\n",
       "      <td>2018-12</td>\n",
       "      <td>NaN</td>\n",
       "    </tr>\n",
       "    <tr>\n",
       "      <th>3</th>\n",
       "      <td>Animal</td>\n",
       "      <td>Attack</td>\n",
       "      <td>NaN</td>\n",
       "      <td>JAMBOREE HEIGHTS</td>\n",
       "      <td>2018-12</td>\n",
       "      <td>NaN</td>\n",
       "    </tr>\n",
       "    <tr>\n",
       "      <th>4</th>\n",
       "      <td>Animal</td>\n",
       "      <td>Cat</td>\n",
       "      <td>Wandering</td>\n",
       "      <td>ASHGROVE</td>\n",
       "      <td>2018-12</td>\n",
       "      <td>NaN</td>\n",
       "    </tr>\n",
       "    <tr>\n",
       "      <th>...</th>\n",
       "      <td>...</td>\n",
       "      <td>...</td>\n",
       "      <td>...</td>\n",
       "      <td>...</td>\n",
       "      <td>...</td>\n",
       "      <td>...</td>\n",
       "    </tr>\n",
       "    <tr>\n",
       "      <th>2595</th>\n",
       "      <td>Animal</td>\n",
       "      <td>Attack</td>\n",
       "      <td>NaN</td>\n",
       "      <td>BRACKEN RIDGE</td>\n",
       "      <td>2020-09</td>\n",
       "      <td>NaN</td>\n",
       "    </tr>\n",
       "    <tr>\n",
       "      <th>2596</th>\n",
       "      <td>Animal</td>\n",
       "      <td>Dog</td>\n",
       "      <td>Wandering</td>\n",
       "      <td>GREENSLOPES</td>\n",
       "      <td>2020-09</td>\n",
       "      <td>NaN</td>\n",
       "    </tr>\n",
       "    <tr>\n",
       "      <th>2597</th>\n",
       "      <td>Animal</td>\n",
       "      <td>Dog</td>\n",
       "      <td>Fencing Issues</td>\n",
       "      <td>ANNERLEY</td>\n",
       "      <td>2020-09</td>\n",
       "      <td>NaN</td>\n",
       "    </tr>\n",
       "    <tr>\n",
       "      <th>2598</th>\n",
       "      <td>Animal</td>\n",
       "      <td>Attack</td>\n",
       "      <td>Attack On An Animal</td>\n",
       "      <td>FERNY GROVE</td>\n",
       "      <td>2020-09</td>\n",
       "      <td>NaN</td>\n",
       "    </tr>\n",
       "    <tr>\n",
       "      <th>2599</th>\n",
       "      <td>Animal</td>\n",
       "      <td>Dog</td>\n",
       "      <td>Unregistered</td>\n",
       "      <td>MITCHELTON</td>\n",
       "      <td>2020-09</td>\n",
       "      <td>NaN</td>\n",
       "    </tr>\n",
       "  </tbody>\n",
       "</table>\n",
       "<p>17240 rows × 6 columns</p>\n",
       "</div>"
      ],
      "text/plain": [
       "     Category: Nature Category: Type Category: Reporting Level  \\\n",
       "0              Animal            Cat                 Wandering   \n",
       "1              Animal            Dog            Fencing Issues   \n",
       "2              Animal         Attack        Attack On A Person   \n",
       "3              Animal         Attack                       NaN   \n",
       "4              Animal            Cat                 Wandering   \n",
       "...               ...            ...                       ...   \n",
       "2595           Animal         Attack                       NaN   \n",
       "2596           Animal            Dog                 Wandering   \n",
       "2597           Animal            Dog            Fencing Issues   \n",
       "2598           Animal         Attack       Attack On An Animal   \n",
       "2599           Animal            Dog              Unregistered   \n",
       "\n",
       "      Location: Suburb Quarter_Ending Office: Responsible Office  \n",
       "0            GAYTHORNE        2018-12                        NaN  \n",
       "1          CHAPEL HILL        2018-12                        NaN  \n",
       "2               ASPLEY        2018-12                        NaN  \n",
       "3     JAMBOREE HEIGHTS        2018-12                        NaN  \n",
       "4             ASHGROVE        2018-12                        NaN  \n",
       "...                ...            ...                        ...  \n",
       "2595     BRACKEN RIDGE        2020-09                        NaN  \n",
       "2596       GREENSLOPES        2020-09                        NaN  \n",
       "2597          ANNERLEY        2020-09                        NaN  \n",
       "2598       FERNY GROVE        2020-09                        NaN  \n",
       "2599        MITCHELTON        2020-09                        NaN  \n",
       "\n",
       "[17240 rows x 6 columns]"
      ]
     },
     "execution_count": 20,
     "metadata": {},
     "output_type": "execute_result"
    }
   ],
   "source": [
    "#check the data\n",
    "combined_8qtrs.head(-10)"
   ]
  },
  {
   "cell_type": "code",
   "execution_count": 21,
   "metadata": {},
   "outputs": [
    {
     "data": {
      "text/plain": [
       "<bound method DataFrame.info of      Category: Nature Category: Type Category: Reporting Level  \\\n",
       "0              Animal            Cat                 Wandering   \n",
       "1              Animal            Dog            Fencing Issues   \n",
       "2              Animal         Attack        Attack On A Person   \n",
       "3              Animal         Attack                       NaN   \n",
       "4              Animal            Cat                 Wandering   \n",
       "...               ...            ...                       ...   \n",
       "2605           Animal            Dog                 Wandering   \n",
       "2606           Animal         Attack             Not An Attack   \n",
       "2607           Animal            Dog      Park Patrol Reactive   \n",
       "2608           Animal            Cat                       NaN   \n",
       "2609           Animal            Cat                       NaN   \n",
       "\n",
       "      Location: Suburb Quarter_Ending Office: Responsible Office  \n",
       "0            GAYTHORNE        2018-12                        NaN  \n",
       "1          CHAPEL HILL        2018-12                        NaN  \n",
       "2               ASPLEY        2018-12                        NaN  \n",
       "3     JAMBOREE HEIGHTS        2018-12                        NaN  \n",
       "4             ASHGROVE        2018-12                        NaN  \n",
       "...                ...            ...                        ...  \n",
       "2605         CHERMSIDE        2020-09                        NaN  \n",
       "2606          BOONDALL        2020-09                        NaN  \n",
       "2607            NUDGEE        2020-09                        NaN  \n",
       "2608          ZILLMERE        2020-09                        NaN  \n",
       "2609           GEEBUNG        2020-09                        NaN  \n",
       "\n",
       "[17250 rows x 6 columns]>"
      ]
     },
     "execution_count": 21,
     "metadata": {},
     "output_type": "execute_result"
    }
   ],
   "source": [
    "#check the data\n",
    "combined_8qtrs.info"
   ]
  },
  {
   "cell_type": "code",
   "execution_count": null,
   "metadata": {},
   "outputs": [],
   "source": []
  },
  {
   "cell_type": "code",
   "execution_count": 22,
   "metadata": {},
   "outputs": [
    {
     "data": {
      "text/plain": [
       "(26,\n",
       " array(['Wandering', 'Fencing Issues', 'Attack On A Person', nan,\n",
       "        'Unregistered', 'Attack On An Animal', 'Nuisance Animal', 'Rabbit',\n",
       "        'Defecating In Public', 'Fox', 'Not An Attack', 'Wild Dog',\n",
       "        'Odour', 'Menacing', 'Too Many Animals', 'Deer',\n",
       "        'Pest / Feral Animal', 'Feral Cat', 'Dangerous', 'Surrender',\n",
       "        'Feral Pig', 'Insufficient Space', 'Dog', 'Feral Goat',\n",
       "        'Park Patrol Reactive', 'Park Patrol Proactive'], dtype=object))"
      ]
     },
     "execution_count": 22,
     "metadata": {},
     "output_type": "execute_result"
    }
   ],
   "source": [
    "#review the values for key columns to check they look ok\n",
    "len(combined_8qtrs['Category: Reporting Level'].unique()), combined_8qtrs['Category: Reporting Level'].unique()"
   ]
  },
  {
   "cell_type": "code",
   "execution_count": 23,
   "metadata": {},
   "outputs": [
    {
     "data": {
      "text/plain": [
       "(188,\n",
       " array(['GAYTHORNE', 'CHAPEL HILL', 'ASPLEY', 'JAMBOREE HEIGHTS',\n",
       "        'ASHGROVE', 'KENMORE', 'MOUNT GRAVATT EAST', 'ACACIA RIDGE',\n",
       "        'DARRA', 'WISHART', 'ZILLMERE', 'STAFFORD HEIGHTS', 'KEPERRA',\n",
       "        'FORTITUDE VALLEY', 'CHANDLER', 'GUMDALE', 'CARSELDINE', 'RUNCORN',\n",
       "        'CAMP HILL', 'SHORNCLIFFE', 'NUDGEE BEACH', 'DUTTON PARK',\n",
       "        'GEEBUNG', 'ASCOT', 'SHERWOOD', 'FERNY GROVE', 'ARCHERFIELD',\n",
       "        'WYNNUM WEST', 'BRACKEN RIDGE', 'NORTHGATE', 'MOUNT COOT-THA',\n",
       "        'BRISBANE CITY', 'WYNNUM', 'INALA', 'BRIGHTON', 'PADDINGTON',\n",
       "        'TINGALPA', 'MITCHELTON', 'BOONDALL', 'HOLLAND PARK WEST',\n",
       "        'NUNDAH', 'PULLENVALE', 'KEDRON', 'FAIRFIELD', 'ALDERLEY',\n",
       "        'YERONGA', 'SALISBURY', 'MORNINGSIDE', 'GREENSLOPES',\n",
       "        'SINNAMON PARK', 'CARINDALE', 'MANLY', 'WOOLLOONGABBA', 'WESTLAKE',\n",
       "        'WACOL', 'MURARRIE', 'UPPER BROOKFIELD', 'UPPER MOUNT GRAVATT',\n",
       "        'WINDSOR', 'KHOLO', 'KARANA DOWNS', 'RED HILL',\n",
       "        'EIGHT MILE PLAINS', 'CORINDA', 'OXLEY', 'BALD HILLS', 'MACGREGOR',\n",
       "        'KELVIN GROVE', 'ROCHEDALE', 'DREWVALE', 'KURABY', 'BARDON',\n",
       "        'JINDALEE', 'HOLLAND PARK', 'SANDGATE', 'ANNERLEY', 'MIDDLE PARK',\n",
       "        'FOREST LAKE', 'COOPERS PLAINS', 'MOOROOKA', 'CARINA',\n",
       "        'BROOKFIELD', nan, 'STRETTON', 'KANGAROO POINT', 'WAKERLEY',\n",
       "        'LOTA', 'FIG TREE POCKET', 'HAWTHORNE', 'THE GAP', 'HAMILTON',\n",
       "        'MOUNT GRAVATT', 'MCDOWALL', 'MILTON', 'BALMORAL', 'ELLEN GROVE',\n",
       "        'NORMAN PARK', 'CARINA HEIGHTS', 'EVERTON PARK', 'PINJARRA HILLS',\n",
       "        'BOWEN HILLS', 'COORPAROO', 'RICHLANDS', 'WOOLOOWIN',\n",
       "        'WAVELL HEIGHTS', 'TARRAGINDI', 'GRACEVILLE', 'NEWMARKET',\n",
       "        'ROBERTSON', 'AUCHENFLOWER', 'NUDGEE', 'CHERMSIDE',\n",
       "        'SUNNYBANK HILLS', 'KALINGA', 'PETRIE TERRACE', 'HEMMANT',\n",
       "        'WILLAWONG', 'GRANGE', 'INDOOROOPILLY', 'RANSOME', 'CLAYFIELD',\n",
       "        'NEW FARM', 'HENDRA', 'HERSTON', 'SUNNYBANK', 'BELMONT',\n",
       "        'STONES CORNER', 'VIRGINIA', 'MANLY WEST', 'BULIMBA', 'STAFFORD',\n",
       "        'SEVEN HILLS', 'BANYO', 'HEATHWOOD', 'CHERMSIDE WEST',\n",
       "        'HIGHGATE HILL', 'ALGESTER', 'FITZGIBBON', 'EAST BRISBANE',\n",
       "        'RIVERHILLS', 'DURACK', 'KARAWATHA', 'MOUNT CROSBY',\n",
       "        'SEVENTEEN MILE ROCKS', 'TARINGA', 'DOOLANDELLA', 'WEST END',\n",
       "        'ST LUCIA', 'CALAMVALE', 'ANSTEAD', 'MANSFIELD', 'PARKINSON',\n",
       "        'TAIGUM', 'BRIDGEMAN DOWNS', 'TOOWONG', 'LUTWYCHE', 'CHELMER',\n",
       "        'UPPER KEDRON', 'BELLBOWRIE', 'NEWSTEAD', 'MOUNT OMMANEY',\n",
       "        'PINKENBA', 'GORDON PARK', 'CHUWAR', 'CANNON HILL', 'MACKENZIE',\n",
       "        'ENOGGERA', 'WILSTON', 'MOGGILL', 'DEAGON', 'BURBANK', 'ROCKLEA',\n",
       "        'ALBION', 'SPRING HILL', 'BRISBANE AIRPORT', 'PALLARA',\n",
       "        'LAKE MANCHESTER', 'NATHAN', 'KENMORE HILLS', 'SOUTH BRISBANE',\n",
       "        'TENERIFFE', 'SUMNER', 'YEERONGPILLY', 'TENNYSON', 'LYTTON',\n",
       "        'EAGLE FARM', 'PORT OF BRISBANE', 'MORETON ISLAND'], dtype=object))"
      ]
     },
     "execution_count": 23,
     "metadata": {},
     "output_type": "execute_result"
    }
   ],
   "source": [
    "len(combined_8qtrs['Location: Suburb'].unique()), combined_8qtrs['Location: Suburb'].unique()"
   ]
  },
  {
   "cell_type": "code",
   "execution_count": 24,
   "metadata": {},
   "outputs": [
    {
     "data": {
      "text/plain": [
       "(5,\n",
       " array(['Cat', 'Dog', 'Attack', 'Other Animal', 'Cat Trapping'],\n",
       "       dtype=object))"
      ]
     },
     "execution_count": 24,
     "metadata": {},
     "output_type": "execute_result"
    }
   ],
   "source": [
    "len(combined_8qtrs['Category: Type'].unique()), combined_8qtrs['Category: Type'].unique()"
   ]
  },
  {
   "cell_type": "code",
   "execution_count": 25,
   "metadata": {},
   "outputs": [
    {
     "data": {
      "text/plain": [
       "<bound method NDFrame.describe of      Category: Nature Category: Type Category: Reporting Level  \\\n",
       "0              Animal            Cat                 Wandering   \n",
       "1              Animal            Dog            Fencing Issues   \n",
       "2              Animal         Attack        Attack On A Person   \n",
       "3              Animal         Attack                       NaN   \n",
       "4              Animal            Cat                 Wandering   \n",
       "...               ...            ...                       ...   \n",
       "2605           Animal            Dog                 Wandering   \n",
       "2606           Animal         Attack             Not An Attack   \n",
       "2607           Animal            Dog      Park Patrol Reactive   \n",
       "2608           Animal            Cat                       NaN   \n",
       "2609           Animal            Cat                       NaN   \n",
       "\n",
       "      Location: Suburb Quarter_Ending Office: Responsible Office  \n",
       "0            GAYTHORNE        2018-12                        NaN  \n",
       "1          CHAPEL HILL        2018-12                        NaN  \n",
       "2               ASPLEY        2018-12                        NaN  \n",
       "3     JAMBOREE HEIGHTS        2018-12                        NaN  \n",
       "4             ASHGROVE        2018-12                        NaN  \n",
       "...                ...            ...                        ...  \n",
       "2605         CHERMSIDE        2020-09                        NaN  \n",
       "2606          BOONDALL        2020-09                        NaN  \n",
       "2607            NUDGEE        2020-09                        NaN  \n",
       "2608          ZILLMERE        2020-09                        NaN  \n",
       "2609           GEEBUNG        2020-09                        NaN  \n",
       "\n",
       "[17250 rows x 6 columns]>"
      ]
     },
     "execution_count": 25,
     "metadata": {},
     "output_type": "execute_result"
    }
   ],
   "source": [
    "#further inspection of data quality\n",
    "combined_8qtrs.describe"
   ]
  },
  {
   "cell_type": "code",
   "execution_count": 26,
   "metadata": {},
   "outputs": [
    {
     "data": {
      "text/plain": [
       "Category: Nature                  0\n",
       "Category: Type                    0\n",
       "Category: Reporting Level      2895\n",
       "Location: Suburb                178\n",
       "Quarter_Ending                    0\n",
       "Office: Responsible Office    13317\n",
       "dtype: int64"
      ]
     },
     "execution_count": 26,
     "metadata": {},
     "output_type": "execute_result"
    }
   ],
   "source": [
    "#check for missing data\n",
    "combined_8qtrs.isna().sum()"
   ]
  },
  {
   "cell_type": "code",
   "execution_count": 27,
   "metadata": {},
   "outputs": [
    {
     "data": {
      "text/plain": [
       "Category: Nature               0.000000\n",
       "Category: Type                 0.000000\n",
       "Category: Reporting Level     16.782609\n",
       "Location: Suburb               1.031884\n",
       "Quarter_Ending                 0.000000\n",
       "Office: Responsible Office    77.200000\n",
       "dtype: float64"
      ]
     },
     "execution_count": 27,
     "metadata": {},
     "output_type": "execute_result"
    }
   ],
   "source": [
    "#check % missing values for columms\n",
    "missing_values = (combined_8qtrs.isna().sum() / combined_8qtrs.shape[0]) * 100\n",
    "missing_values"
   ]
  },
  {
   "cell_type": "code",
   "execution_count": 28,
   "metadata": {},
   "outputs": [
    {
     "data": {
      "text/plain": [
       "Category: Nature               0.000000\n",
       "Category: Type                 0.000000\n",
       "Category: Reporting Level     16.782609\n",
       "Location: Suburb               1.031884\n",
       "Quarter_Ending                 0.000000\n",
       "Office: Responsible Office    77.200000\n",
       "dtype: float64"
      ]
     },
     "execution_count": 28,
     "metadata": {},
     "output_type": "execute_result"
    }
   ],
   "source": [
    "missing_values[(missing_values <= 10) & (missing_values > 0)].head(10)\n",
    "missing_values"
   ]
  },
  {
   "cell_type": "code",
   "execution_count": 29,
   "metadata": {},
   "outputs": [
    {
     "data": {
      "text/plain": [
       "Location: Suburb    1.031884\n",
       "dtype: float64"
      ]
     },
     "execution_count": 29,
     "metadata": {},
     "output_type": "execute_result"
    }
   ],
   "source": [
    "#idendify columns with less than 10% missing values but GT 0\n",
    "missing_values[(missing_values <= 10) & (missing_values >0)].head()"
   ]
  },
  {
   "cell_type": "code",
   "execution_count": null,
   "metadata": {},
   "outputs": [],
   "source": []
  },
  {
   "cell_type": "code",
   "execution_count": 30,
   "metadata": {},
   "outputs": [],
   "source": [
    "#given the small size and critical nature of 'suburb' categoryto whole analysis, decision taken to drop missing suburb data\n",
    "mask_drop_row = (missing_values <= 10) & (missing_values > 0)"
   ]
  },
  {
   "cell_type": "code",
   "execution_count": 31,
   "metadata": {},
   "outputs": [
    {
     "data": {
      "text/plain": [
       "['Location: Suburb']"
      ]
     },
     "execution_count": 31,
     "metadata": {},
     "output_type": "execute_result"
    }
   ],
   "source": [
    "row_to_drop = list((missing_values[(missing_values <= 10) & (missing_values > 0)]).index)\n",
    "row_to_drop"
   ]
  },
  {
   "cell_type": "code",
   "execution_count": 32,
   "metadata": {},
   "outputs": [],
   "source": [
    "df_clean = combined_8qtrs.dropna(subset=row_to_drop, axis=0).copy()"
   ]
  },
  {
   "cell_type": "code",
   "execution_count": 33,
   "metadata": {},
   "outputs": [
    {
     "data": {
      "text/plain": [
       "Category: Nature               0.000000\n",
       "Category: Type                 0.000000\n",
       "Category: Reporting Level     16.928304\n",
       "Location: Suburb               0.000000\n",
       "Quarter_Ending                 0.000000\n",
       "Office: Responsible Office    77.079428\n",
       "dtype: float64"
      ]
     },
     "execution_count": 33,
     "metadata": {},
     "output_type": "execute_result"
    }
   ],
   "source": [
    "# check the change and understand the % missing data now\n",
    "(df_clean.isna().sum() / df_clean.shape[0]) * 100"
   ]
  },
  {
   "cell_type": "code",
   "execution_count": 34,
   "metadata": {},
   "outputs": [],
   "source": [
    "# remove Responsible Office column as very high proportion of missing data so this data of little value\n",
    "df_clean.drop('Office: Responsible Office', axis=1, inplace=True)"
   ]
  },
  {
   "cell_type": "code",
   "execution_count": 35,
   "metadata": {},
   "outputs": [
    {
     "data": {
      "text/html": [
       "<div>\n",
       "<style scoped>\n",
       "    .dataframe tbody tr th:only-of-type {\n",
       "        vertical-align: middle;\n",
       "    }\n",
       "\n",
       "    .dataframe tbody tr th {\n",
       "        vertical-align: top;\n",
       "    }\n",
       "\n",
       "    .dataframe thead th {\n",
       "        text-align: right;\n",
       "    }\n",
       "</style>\n",
       "<table border=\"1\" class=\"dataframe\">\n",
       "  <thead>\n",
       "    <tr style=\"text-align: right;\">\n",
       "      <th></th>\n",
       "      <th>Category: Nature</th>\n",
       "      <th>Category: Type</th>\n",
       "      <th>Category: Reporting Level</th>\n",
       "      <th>Location: Suburb</th>\n",
       "      <th>Quarter_Ending</th>\n",
       "    </tr>\n",
       "  </thead>\n",
       "  <tbody>\n",
       "    <tr>\n",
       "      <th>0</th>\n",
       "      <td>Animal</td>\n",
       "      <td>Cat</td>\n",
       "      <td>Wandering</td>\n",
       "      <td>GAYTHORNE</td>\n",
       "      <td>2018-12</td>\n",
       "    </tr>\n",
       "    <tr>\n",
       "      <th>1</th>\n",
       "      <td>Animal</td>\n",
       "      <td>Dog</td>\n",
       "      <td>Fencing Issues</td>\n",
       "      <td>CHAPEL HILL</td>\n",
       "      <td>2018-12</td>\n",
       "    </tr>\n",
       "    <tr>\n",
       "      <th>2</th>\n",
       "      <td>Animal</td>\n",
       "      <td>Attack</td>\n",
       "      <td>Attack On A Person</td>\n",
       "      <td>ASPLEY</td>\n",
       "      <td>2018-12</td>\n",
       "    </tr>\n",
       "    <tr>\n",
       "      <th>3</th>\n",
       "      <td>Animal</td>\n",
       "      <td>Attack</td>\n",
       "      <td>NaN</td>\n",
       "      <td>JAMBOREE HEIGHTS</td>\n",
       "      <td>2018-12</td>\n",
       "    </tr>\n",
       "    <tr>\n",
       "      <th>4</th>\n",
       "      <td>Animal</td>\n",
       "      <td>Cat</td>\n",
       "      <td>Wandering</td>\n",
       "      <td>ASHGROVE</td>\n",
       "      <td>2018-12</td>\n",
       "    </tr>\n",
       "  </tbody>\n",
       "</table>\n",
       "</div>"
      ],
      "text/plain": [
       "  Category: Nature Category: Type Category: Reporting Level  Location: Suburb  \\\n",
       "0           Animal            Cat                 Wandering         GAYTHORNE   \n",
       "1           Animal            Dog            Fencing Issues       CHAPEL HILL   \n",
       "2           Animal         Attack        Attack On A Person            ASPLEY   \n",
       "3           Animal         Attack                       NaN  JAMBOREE HEIGHTS   \n",
       "4           Animal            Cat                 Wandering          ASHGROVE   \n",
       "\n",
       "  Quarter_Ending  \n",
       "0        2018-12  \n",
       "1        2018-12  \n",
       "2        2018-12  \n",
       "3        2018-12  \n",
       "4        2018-12  "
      ]
     },
     "execution_count": 35,
     "metadata": {},
     "output_type": "execute_result"
    }
   ],
   "source": [
    "#check change\n",
    "\n",
    "df_clean.head()"
   ]
  },
  {
   "cell_type": "code",
   "execution_count": null,
   "metadata": {},
   "outputs": [],
   "source": []
  },
  {
   "cell_type": "code",
   "execution_count": null,
   "metadata": {},
   "outputs": [],
   "source": []
  },
  {
   "cell_type": "code",
   "execution_count": 36,
   "metadata": {},
   "outputs": [
    {
     "data": {
      "text/html": [
       "<div>\n",
       "<style scoped>\n",
       "    .dataframe tbody tr th:only-of-type {\n",
       "        vertical-align: middle;\n",
       "    }\n",
       "\n",
       "    .dataframe tbody tr th {\n",
       "        vertical-align: top;\n",
       "    }\n",
       "\n",
       "    .dataframe thead th {\n",
       "        text-align: right;\n",
       "    }\n",
       "</style>\n",
       "<table border=\"1\" class=\"dataframe\">\n",
       "  <thead>\n",
       "    <tr style=\"text-align: right;\">\n",
       "      <th></th>\n",
       "      <th>Category: Nature</th>\n",
       "      <th>Category: Type</th>\n",
       "      <th>Category: Reporting Level</th>\n",
       "      <th>Location: Suburb</th>\n",
       "      <th>Quarter_Ending</th>\n",
       "    </tr>\n",
       "  </thead>\n",
       "  <tbody>\n",
       "    <tr>\n",
       "      <th>0</th>\n",
       "      <td>Animal</td>\n",
       "      <td>Dog</td>\n",
       "      <td>Wandering</td>\n",
       "      <td>INALA</td>\n",
       "      <td>2020-06</td>\n",
       "    </tr>\n",
       "  </tbody>\n",
       "</table>\n",
       "</div>"
      ],
      "text/plain": [
       "  Category: Nature Category: Type Category: Reporting Level Location: Suburb  \\\n",
       "0           Animal            Dog                 Wandering            INALA   \n",
       "\n",
       "  Quarter_Ending  \n",
       "0        2020-06  "
      ]
     },
     "execution_count": 36,
     "metadata": {},
     "output_type": "execute_result"
    }
   ],
   "source": [
    "#check most common / frequent values for each column to get indication on Reporting_Level missing data solution\n",
    "df_clean.mode()"
   ]
  },
  {
   "cell_type": "code",
   "execution_count": 37,
   "metadata": {},
   "outputs": [
    {
     "name": "stdout",
     "output_type": "stream",
     "text": [
      "<class 'pandas.core.frame.DataFrame'>\n",
      "Int64Index: 17072 entries, 0 to 2609\n",
      "Data columns (total 5 columns):\n",
      " #   Column                     Non-Null Count  Dtype \n",
      "---  ------                     --------------  ----- \n",
      " 0   Category: Nature           17072 non-null  object\n",
      " 1   Category: Type             17072 non-null  object\n",
      " 2   Category: Reporting Level  14182 non-null  object\n",
      " 3   Location: Suburb           17072 non-null  object\n",
      " 4   Quarter_Ending             17072 non-null  object\n",
      "dtypes: object(5)\n",
      "memory usage: 800.2+ KB\n"
     ]
    }
   ],
   "source": [
    "#re-check data types\n",
    "df_clean.info()"
   ]
  },
  {
   "cell_type": "code",
   "execution_count": null,
   "metadata": {},
   "outputs": [],
   "source": []
  },
  {
   "cell_type": "code",
   "execution_count": 38,
   "metadata": {},
   "outputs": [
    {
     "name": "stdout",
     "output_type": "stream",
     "text": [
      "      Nature    Type       Reporting_Level            Suburb Quarter_Ending\n",
      "0     Animal     Cat             Wandering         GAYTHORNE        2018-12\n",
      "1     Animal     Dog        Fencing Issues       CHAPEL HILL        2018-12\n",
      "2     Animal  Attack    Attack On A Person            ASPLEY        2018-12\n",
      "3     Animal  Attack                   NaN  JAMBOREE HEIGHTS        2018-12\n",
      "4     Animal     Cat             Wandering          ASHGROVE        2018-12\n",
      "...      ...     ...                   ...               ...            ...\n",
      "2605  Animal     Dog             Wandering         CHERMSIDE        2020-09\n",
      "2606  Animal  Attack         Not An Attack          BOONDALL        2020-09\n",
      "2607  Animal     Dog  Park Patrol Reactive            NUDGEE        2020-09\n",
      "2608  Animal     Cat                   NaN          ZILLMERE        2020-09\n",
      "2609  Animal     Cat                   NaN           GEEBUNG        2020-09\n",
      "\n",
      "[17072 rows x 5 columns]\n"
     ]
    }
   ],
   "source": [
    "#simplify column titles\n",
    "df_clean.rename(columns={'Category: Nature': 'Nature', 'Category: Type': 'Type', 'Category: Reporting Level': 'Reporting_Level', 'Location: Suburb': 'Suburb'}, inplace=True)\n",
    "print(df_clean)"
   ]
  },
  {
   "cell_type": "code",
   "execution_count": 39,
   "metadata": {},
   "outputs": [
    {
     "data": {
      "text/html": [
       "<div>\n",
       "<style scoped>\n",
       "    .dataframe tbody tr th:only-of-type {\n",
       "        vertical-align: middle;\n",
       "    }\n",
       "\n",
       "    .dataframe tbody tr th {\n",
       "        vertical-align: top;\n",
       "    }\n",
       "\n",
       "    .dataframe thead th {\n",
       "        text-align: right;\n",
       "    }\n",
       "</style>\n",
       "<table border=\"1\" class=\"dataframe\">\n",
       "  <thead>\n",
       "    <tr style=\"text-align: right;\">\n",
       "      <th></th>\n",
       "      <th>Nature</th>\n",
       "      <th>Type</th>\n",
       "      <th>Reporting_Level</th>\n",
       "      <th>Suburb</th>\n",
       "      <th>Quarter_Ending</th>\n",
       "    </tr>\n",
       "  </thead>\n",
       "  <tbody>\n",
       "    <tr>\n",
       "      <th>0</th>\n",
       "      <td>Animal</td>\n",
       "      <td>Cat</td>\n",
       "      <td>Wandering</td>\n",
       "      <td>GAYTHORNE</td>\n",
       "      <td>2018-12</td>\n",
       "    </tr>\n",
       "    <tr>\n",
       "      <th>1</th>\n",
       "      <td>Animal</td>\n",
       "      <td>Dog</td>\n",
       "      <td>Fencing Issues</td>\n",
       "      <td>CHAPEL HILL</td>\n",
       "      <td>2018-12</td>\n",
       "    </tr>\n",
       "    <tr>\n",
       "      <th>2</th>\n",
       "      <td>Animal</td>\n",
       "      <td>Attack</td>\n",
       "      <td>Attack On A Person</td>\n",
       "      <td>ASPLEY</td>\n",
       "      <td>2018-12</td>\n",
       "    </tr>\n",
       "    <tr>\n",
       "      <th>3</th>\n",
       "      <td>Animal</td>\n",
       "      <td>Attack</td>\n",
       "      <td>NaN</td>\n",
       "      <td>JAMBOREE HEIGHTS</td>\n",
       "      <td>2018-12</td>\n",
       "    </tr>\n",
       "    <tr>\n",
       "      <th>4</th>\n",
       "      <td>Animal</td>\n",
       "      <td>Cat</td>\n",
       "      <td>Wandering</td>\n",
       "      <td>ASHGROVE</td>\n",
       "      <td>2018-12</td>\n",
       "    </tr>\n",
       "  </tbody>\n",
       "</table>\n",
       "</div>"
      ],
      "text/plain": [
       "   Nature    Type     Reporting_Level            Suburb Quarter_Ending\n",
       "0  Animal     Cat           Wandering         GAYTHORNE        2018-12\n",
       "1  Animal     Dog      Fencing Issues       CHAPEL HILL        2018-12\n",
       "2  Animal  Attack  Attack On A Person            ASPLEY        2018-12\n",
       "3  Animal  Attack                 NaN  JAMBOREE HEIGHTS        2018-12\n",
       "4  Animal     Cat           Wandering          ASHGROVE        2018-12"
      ]
     },
     "execution_count": 39,
     "metadata": {},
     "output_type": "execute_result"
    }
   ],
   "source": [
    "#check new df\n",
    "df_clean.head()"
   ]
  },
  {
   "cell_type": "code",
   "execution_count": 40,
   "metadata": {},
   "outputs": [
    {
     "data": {
      "text/plain": [
       "count         14182\n",
       "unique           25\n",
       "top       Wandering\n",
       "freq           4292\n",
       "Name: Reporting_Level, dtype: object"
      ]
     },
     "execution_count": 40,
     "metadata": {},
     "output_type": "execute_result"
    }
   ],
   "source": [
    "#do some more inspection on Reporting Level and missing data\n",
    "df_clean['Reporting_Level'].describe()"
   ]
  },
  {
   "cell_type": "code",
   "execution_count": 41,
   "metadata": {},
   "outputs": [],
   "source": [
    "#decision taken to use the Mode as most frequent value to fill the missing data for Reporting_level\n",
    "df_clean['Reporting_Level'] = df_clean['Reporting_Level'].fillna(df_clean['Reporting_Level'].mode()[0])"
   ]
  },
  {
   "cell_type": "code",
   "execution_count": 42,
   "metadata": {},
   "outputs": [
    {
     "name": "stdout",
     "output_type": "stream",
     "text": [
      "<class 'pandas.core.frame.DataFrame'>\n",
      "Int64Index: 17072 entries, 0 to 2609\n",
      "Data columns (total 5 columns):\n",
      " #   Column           Non-Null Count  Dtype \n",
      "---  ------           --------------  ----- \n",
      " 0   Nature           17072 non-null  object\n",
      " 1   Type             17072 non-null  object\n",
      " 2   Reporting_Level  17072 non-null  object\n",
      " 3   Suburb           17072 non-null  object\n",
      " 4   Quarter_Ending   17072 non-null  object\n",
      "dtypes: object(5)\n",
      "memory usage: 800.2+ KB\n"
     ]
    }
   ],
   "source": [
    "#check changes\n",
    "df_clean.info()"
   ]
  },
  {
   "cell_type": "code",
   "execution_count": 43,
   "metadata": {},
   "outputs": [
    {
     "data": {
      "text/plain": [
       "0"
      ]
     },
     "execution_count": 43,
     "metadata": {},
     "output_type": "execute_result"
    }
   ],
   "source": [
    "#check if any data still missing\n",
    "df_clean.isnull().sum().sum()"
   ]
  },
  {
   "cell_type": "code",
   "execution_count": 44,
   "metadata": {},
   "outputs": [
    {
     "data": {
      "text/plain": [
       "False"
      ]
     },
     "execution_count": 44,
     "metadata": {},
     "output_type": "execute_result"
    }
   ],
   "source": [
    "#re-check no missing values\n",
    "df_clean.isnull().values.any()"
   ]
  },
  {
   "cell_type": "code",
   "execution_count": 45,
   "metadata": {},
   "outputs": [
    {
     "data": {
      "text/html": [
       "<div>\n",
       "<style scoped>\n",
       "    .dataframe tbody tr th:only-of-type {\n",
       "        vertical-align: middle;\n",
       "    }\n",
       "\n",
       "    .dataframe tbody tr th {\n",
       "        vertical-align: top;\n",
       "    }\n",
       "\n",
       "    .dataframe thead th {\n",
       "        text-align: right;\n",
       "    }\n",
       "</style>\n",
       "<table border=\"1\" class=\"dataframe\">\n",
       "  <thead>\n",
       "    <tr style=\"text-align: right;\">\n",
       "      <th></th>\n",
       "      <th>Nature</th>\n",
       "      <th>Type</th>\n",
       "      <th>Reporting_Level</th>\n",
       "      <th>Suburb</th>\n",
       "      <th>Quarter_Ending</th>\n",
       "    </tr>\n",
       "  </thead>\n",
       "  <tbody>\n",
       "    <tr>\n",
       "      <th>0</th>\n",
       "      <td>Animal</td>\n",
       "      <td>Cat</td>\n",
       "      <td>Wandering</td>\n",
       "      <td>GAYTHORNE</td>\n",
       "      <td>2018-12</td>\n",
       "    </tr>\n",
       "    <tr>\n",
       "      <th>1</th>\n",
       "      <td>Animal</td>\n",
       "      <td>Dog</td>\n",
       "      <td>Fencing Issues</td>\n",
       "      <td>CHAPEL HILL</td>\n",
       "      <td>2018-12</td>\n",
       "    </tr>\n",
       "    <tr>\n",
       "      <th>2</th>\n",
       "      <td>Animal</td>\n",
       "      <td>Attack</td>\n",
       "      <td>Attack On A Person</td>\n",
       "      <td>ASPLEY</td>\n",
       "      <td>2018-12</td>\n",
       "    </tr>\n",
       "    <tr>\n",
       "      <th>3</th>\n",
       "      <td>Animal</td>\n",
       "      <td>Attack</td>\n",
       "      <td>Wandering</td>\n",
       "      <td>JAMBOREE HEIGHTS</td>\n",
       "      <td>2018-12</td>\n",
       "    </tr>\n",
       "    <tr>\n",
       "      <th>4</th>\n",
       "      <td>Animal</td>\n",
       "      <td>Cat</td>\n",
       "      <td>Wandering</td>\n",
       "      <td>ASHGROVE</td>\n",
       "      <td>2018-12</td>\n",
       "    </tr>\n",
       "  </tbody>\n",
       "</table>\n",
       "</div>"
      ],
      "text/plain": [
       "   Nature    Type     Reporting_Level            Suburb Quarter_Ending\n",
       "0  Animal     Cat           Wandering         GAYTHORNE        2018-12\n",
       "1  Animal     Dog      Fencing Issues       CHAPEL HILL        2018-12\n",
       "2  Animal  Attack  Attack On A Person            ASPLEY        2018-12\n",
       "3  Animal  Attack           Wandering  JAMBOREE HEIGHTS        2018-12\n",
       "4  Animal     Cat           Wandering          ASHGROVE        2018-12"
      ]
     },
     "execution_count": 45,
     "metadata": {},
     "output_type": "execute_result"
    }
   ],
   "source": [
    "#re-check the dataframe\n",
    "df_clean.head()"
   ]
  },
  {
   "cell_type": "code",
   "execution_count": 46,
   "metadata": {},
   "outputs": [
    {
     "data": {
      "text/plain": [
       "Index(['nature', 'type', 'reporting_level', 'suburb', 'quarter_ending'], dtype='object')"
      ]
     },
     "execution_count": 46,
     "metadata": {},
     "output_type": "execute_result"
    }
   ],
   "source": [
    "# normalise the columns in terms of the column title case\n",
    "df_clean.columns = [col.lower() for col in df_clean.columns]\n",
    "df_clean.columns"
   ]
  },
  {
   "cell_type": "code",
   "execution_count": 47,
   "metadata": {},
   "outputs": [
    {
     "data": {
      "text/html": [
       "<div>\n",
       "<style scoped>\n",
       "    .dataframe tbody tr th:only-of-type {\n",
       "        vertical-align: middle;\n",
       "    }\n",
       "\n",
       "    .dataframe tbody tr th {\n",
       "        vertical-align: top;\n",
       "    }\n",
       "\n",
       "    .dataframe thead th {\n",
       "        text-align: right;\n",
       "    }\n",
       "</style>\n",
       "<table border=\"1\" class=\"dataframe\">\n",
       "  <thead>\n",
       "    <tr style=\"text-align: right;\">\n",
       "      <th></th>\n",
       "      <th>nature</th>\n",
       "      <th>type</th>\n",
       "      <th>reporting_level</th>\n",
       "      <th>suburb</th>\n",
       "      <th>quarter_ending</th>\n",
       "    </tr>\n",
       "  </thead>\n",
       "  <tbody>\n",
       "    <tr>\n",
       "      <th>count</th>\n",
       "      <td>17072</td>\n",
       "      <td>17072</td>\n",
       "      <td>17072</td>\n",
       "      <td>17072</td>\n",
       "      <td>17072</td>\n",
       "    </tr>\n",
       "    <tr>\n",
       "      <th>unique</th>\n",
       "      <td>1</td>\n",
       "      <td>5</td>\n",
       "      <td>25</td>\n",
       "      <td>187</td>\n",
       "      <td>8</td>\n",
       "    </tr>\n",
       "    <tr>\n",
       "      <th>top</th>\n",
       "      <td>Animal</td>\n",
       "      <td>Dog</td>\n",
       "      <td>Wandering</td>\n",
       "      <td>INALA</td>\n",
       "      <td>2020-06</td>\n",
       "    </tr>\n",
       "    <tr>\n",
       "      <th>freq</th>\n",
       "      <td>17072</td>\n",
       "      <td>8017</td>\n",
       "      <td>7182</td>\n",
       "      <td>563</td>\n",
       "      <td>2784</td>\n",
       "    </tr>\n",
       "  </tbody>\n",
       "</table>\n",
       "</div>"
      ],
      "text/plain": [
       "        nature   type reporting_level suburb quarter_ending\n",
       "count    17072  17072           17072  17072          17072\n",
       "unique       1      5              25    187              8\n",
       "top     Animal    Dog       Wandering  INALA        2020-06\n",
       "freq     17072   8017            7182    563           2784"
      ]
     },
     "execution_count": 47,
     "metadata": {},
     "output_type": "execute_result"
    }
   ],
   "source": [
    "#check new column titles\n",
    "df_clean.describe()"
   ]
  },
  {
   "cell_type": "code",
   "execution_count": 48,
   "metadata": {},
   "outputs": [
    {
     "data": {
      "text/plain": [
       "False"
      ]
     },
     "execution_count": 48,
     "metadata": {},
     "output_type": "execute_result"
    }
   ],
   "source": [
    "#re-check no missing values\n",
    "df_clean.isnull().values.any()"
   ]
  },
  {
   "cell_type": "code",
   "execution_count": 49,
   "metadata": {},
   "outputs": [
    {
     "data": {
      "text/html": [
       "<div>\n",
       "<style scoped>\n",
       "    .dataframe tbody tr th:only-of-type {\n",
       "        vertical-align: middle;\n",
       "    }\n",
       "\n",
       "    .dataframe tbody tr th {\n",
       "        vertical-align: top;\n",
       "    }\n",
       "\n",
       "    .dataframe thead th {\n",
       "        text-align: right;\n",
       "    }\n",
       "</style>\n",
       "<table border=\"1\" class=\"dataframe\">\n",
       "  <thead>\n",
       "    <tr style=\"text-align: right;\">\n",
       "      <th></th>\n",
       "      <th>nature</th>\n",
       "      <th>type</th>\n",
       "      <th>reporting_level</th>\n",
       "      <th>suburb</th>\n",
       "      <th>quarter_ending</th>\n",
       "    </tr>\n",
       "  </thead>\n",
       "  <tbody>\n",
       "    <tr>\n",
       "      <th>0</th>\n",
       "      <td>Animal</td>\n",
       "      <td>Dog</td>\n",
       "      <td>Wandering</td>\n",
       "      <td>INALA</td>\n",
       "      <td>2020-06</td>\n",
       "    </tr>\n",
       "  </tbody>\n",
       "</table>\n",
       "</div>"
      ],
      "text/plain": [
       "   nature type reporting_level suburb quarter_ending\n",
       "0  Animal  Dog       Wandering  INALA        2020-06"
      ]
     },
     "execution_count": 49,
     "metadata": {},
     "output_type": "execute_result"
    }
   ],
   "source": [
    "#Find type, suburb, reporting level and QTR with most complaints\n",
    "df_clean.mode()"
   ]
  },
  {
   "cell_type": "code",
   "execution_count": 50,
   "metadata": {},
   "outputs": [],
   "source": [
    "#upload this cleaned file as the base set of data for the analysis contained the total records over the 24 month (8 quarter period)\n",
    "df_clean.to_csv(r'..\\assignment\\clean_2years_complaints.csv', index = False)"
   ]
  },
  {
   "cell_type": "code",
   "execution_count": 51,
   "metadata": {},
   "outputs": [],
   "source": [
    "#We can already easily see that the most complaints are Dogs, most common complaint level is Wandering, most complaint suburb is Inala and biggest QTR is the Quarter ending June 2020"
   ]
  },
  {
   "cell_type": "code",
   "execution_count": 52,
   "metadata": {},
   "outputs": [],
   "source": [
    "#Create new df with total data for the 2 year period to compare to Brisbane Local government population by suburb data to get per capita results\n",
    "#Add all the 3 total categories by suburb for complaints, attacks and reporting office to match with LGA suburb population snapshot as of last Census"
   ]
  },
  {
   "cell_type": "code",
   "execution_count": null,
   "metadata": {},
   "outputs": [],
   "source": []
  },
  {
   "cell_type": "code",
   "execution_count": 53,
   "metadata": {},
   "outputs": [],
   "source": [
    "#We will also create additional data sets which create totals over different categories to help with the analysis and allow us to gain per capita information by suburb by joining the complaint data with ABS data on population by suburb"
   ]
  },
  {
   "cell_type": "code",
   "execution_count": 54,
   "metadata": {},
   "outputs": [
    {
     "data": {
      "text/plain": [
       "INALA               563\n",
       "BRACKEN RIDGE       330\n",
       "CHERMSIDE           304\n",
       "FOREST LAKE         293\n",
       "WYNNUM              258\n",
       "                   ... \n",
       "LAKE MANCHESTER       5\n",
       "EAGLE FARM            5\n",
       "MORETON ISLAND        2\n",
       "TENNYSON              2\n",
       "PORT OF BRISBANE      1\n",
       "Name: suburb, Length: 187, dtype: int64"
      ]
     },
     "execution_count": 54,
     "metadata": {},
     "output_type": "execute_result"
    }
   ],
   "source": [
    "#Initial additional data set is total complaints by suburb for the 24 month period. New dataframe created preparing the suburb column to be used for data joining/merging\n",
    "df_clean['suburb'].value_counts()"
   ]
  },
  {
   "cell_type": "code",
   "execution_count": null,
   "metadata": {},
   "outputs": [],
   "source": []
  },
  {
   "cell_type": "code",
   "execution_count": 55,
   "metadata": {},
   "outputs": [
    {
     "name": "stdout",
     "output_type": "stream",
     "text": [
      "INALA               563\n",
      "BRACKEN RIDGE       330\n",
      "CHERMSIDE           304\n",
      "FOREST LAKE         293\n",
      "WYNNUM              258\n",
      "                   ... \n",
      "LAKE MANCHESTER       5\n",
      "EAGLE FARM            5\n",
      "MORETON ISLAND        2\n",
      "TENNYSON              2\n",
      "PORT OF BRISBANE      1\n",
      "Name: suburb, Length: 187, dtype: int64\n"
     ]
    }
   ],
   "source": [
    "suburb_count = df_clean['suburb'].value_counts() \n",
    "print(suburb_count)"
   ]
  },
  {
   "cell_type": "code",
   "execution_count": 56,
   "metadata": {},
   "outputs": [
    {
     "data": {
      "text/plain": [
       "pandas.core.series.Series"
      ]
     },
     "execution_count": 56,
     "metadata": {},
     "output_type": "execute_result"
    }
   ],
   "source": [
    "type(suburb_count)"
   ]
  },
  {
   "cell_type": "code",
   "execution_count": 57,
   "metadata": {},
   "outputs": [
    {
     "data": {
      "text/html": [
       "<div>\n",
       "<style scoped>\n",
       "    .dataframe tbody tr th:only-of-type {\n",
       "        vertical-align: middle;\n",
       "    }\n",
       "\n",
       "    .dataframe tbody tr th {\n",
       "        vertical-align: top;\n",
       "    }\n",
       "\n",
       "    .dataframe thead th {\n",
       "        text-align: right;\n",
       "    }\n",
       "</style>\n",
       "<table border=\"1\" class=\"dataframe\">\n",
       "  <thead>\n",
       "    <tr style=\"text-align: right;\">\n",
       "      <th></th>\n",
       "      <th>index</th>\n",
       "      <th>suburb</th>\n",
       "    </tr>\n",
       "  </thead>\n",
       "  <tbody>\n",
       "    <tr>\n",
       "      <th>0</th>\n",
       "      <td>INALA</td>\n",
       "      <td>563</td>\n",
       "    </tr>\n",
       "    <tr>\n",
       "      <th>1</th>\n",
       "      <td>BRACKEN RIDGE</td>\n",
       "      <td>330</td>\n",
       "    </tr>\n",
       "    <tr>\n",
       "      <th>2</th>\n",
       "      <td>CHERMSIDE</td>\n",
       "      <td>304</td>\n",
       "    </tr>\n",
       "    <tr>\n",
       "      <th>3</th>\n",
       "      <td>FOREST LAKE</td>\n",
       "      <td>293</td>\n",
       "    </tr>\n",
       "    <tr>\n",
       "      <th>4</th>\n",
       "      <td>WYNNUM</td>\n",
       "      <td>258</td>\n",
       "    </tr>\n",
       "    <tr>\n",
       "      <th>...</th>\n",
       "      <td>...</td>\n",
       "      <td>...</td>\n",
       "    </tr>\n",
       "    <tr>\n",
       "      <th>182</th>\n",
       "      <td>LAKE MANCHESTER</td>\n",
       "      <td>5</td>\n",
       "    </tr>\n",
       "    <tr>\n",
       "      <th>183</th>\n",
       "      <td>EAGLE FARM</td>\n",
       "      <td>5</td>\n",
       "    </tr>\n",
       "    <tr>\n",
       "      <th>184</th>\n",
       "      <td>MORETON ISLAND</td>\n",
       "      <td>2</td>\n",
       "    </tr>\n",
       "    <tr>\n",
       "      <th>185</th>\n",
       "      <td>TENNYSON</td>\n",
       "      <td>2</td>\n",
       "    </tr>\n",
       "    <tr>\n",
       "      <th>186</th>\n",
       "      <td>PORT OF BRISBANE</td>\n",
       "      <td>1</td>\n",
       "    </tr>\n",
       "  </tbody>\n",
       "</table>\n",
       "<p>187 rows × 2 columns</p>\n",
       "</div>"
      ],
      "text/plain": [
       "                index  suburb\n",
       "0               INALA     563\n",
       "1       BRACKEN RIDGE     330\n",
       "2           CHERMSIDE     304\n",
       "3         FOREST LAKE     293\n",
       "4              WYNNUM     258\n",
       "..                ...     ...\n",
       "182   LAKE MANCHESTER       5\n",
       "183        EAGLE FARM       5\n",
       "184    MORETON ISLAND       2\n",
       "185          TENNYSON       2\n",
       "186  PORT OF BRISBANE       1\n",
       "\n",
       "[187 rows x 2 columns]"
      ]
     },
     "execution_count": 57,
     "metadata": {},
     "output_type": "execute_result"
    }
   ],
   "source": [
    "df_suburb_count = suburb_count.reset_index()\n",
    "df_suburb_count"
   ]
  },
  {
   "cell_type": "code",
   "execution_count": 58,
   "metadata": {},
   "outputs": [],
   "source": [
    "#rename the columns to accurately reflect the data\n",
    "df_suburb_count.rename(columns={'index': 'suburb', 'suburb': 'complaints'}, inplace=True)"
   ]
  },
  {
   "cell_type": "code",
   "execution_count": 59,
   "metadata": {},
   "outputs": [
    {
     "data": {
      "text/html": [
       "<div>\n",
       "<style scoped>\n",
       "    .dataframe tbody tr th:only-of-type {\n",
       "        vertical-align: middle;\n",
       "    }\n",
       "\n",
       "    .dataframe tbody tr th {\n",
       "        vertical-align: top;\n",
       "    }\n",
       "\n",
       "    .dataframe thead th {\n",
       "        text-align: right;\n",
       "    }\n",
       "</style>\n",
       "<table border=\"1\" class=\"dataframe\">\n",
       "  <thead>\n",
       "    <tr style=\"text-align: right;\">\n",
       "      <th></th>\n",
       "      <th>suburb</th>\n",
       "      <th>complaints</th>\n",
       "    </tr>\n",
       "  </thead>\n",
       "  <tbody>\n",
       "    <tr>\n",
       "      <th>0</th>\n",
       "      <td>INALA</td>\n",
       "      <td>563</td>\n",
       "    </tr>\n",
       "    <tr>\n",
       "      <th>1</th>\n",
       "      <td>BRACKEN RIDGE</td>\n",
       "      <td>330</td>\n",
       "    </tr>\n",
       "    <tr>\n",
       "      <th>2</th>\n",
       "      <td>CHERMSIDE</td>\n",
       "      <td>304</td>\n",
       "    </tr>\n",
       "    <tr>\n",
       "      <th>3</th>\n",
       "      <td>FOREST LAKE</td>\n",
       "      <td>293</td>\n",
       "    </tr>\n",
       "    <tr>\n",
       "      <th>4</th>\n",
       "      <td>WYNNUM</td>\n",
       "      <td>258</td>\n",
       "    </tr>\n",
       "  </tbody>\n",
       "</table>\n",
       "</div>"
      ],
      "text/plain": [
       "          suburb  complaints\n",
       "0          INALA         563\n",
       "1  BRACKEN RIDGE         330\n",
       "2      CHERMSIDE         304\n",
       "3    FOREST LAKE         293\n",
       "4         WYNNUM         258"
      ]
     },
     "execution_count": 59,
     "metadata": {},
     "output_type": "execute_result"
    }
   ],
   "source": [
    "df_suburb_count.head()"
   ]
  },
  {
   "cell_type": "code",
   "execution_count": 60,
   "metadata": {},
   "outputs": [],
   "source": [
    "#df_suburb_count.set_index('suburb')"
   ]
  },
  {
   "cell_type": "code",
   "execution_count": 61,
   "metadata": {},
   "outputs": [
    {
     "data": {
      "text/plain": [
       "dtype('O')"
      ]
     },
     "execution_count": 61,
     "metadata": {},
     "output_type": "execute_result"
    }
   ],
   "source": [
    "#check suburb column dtype is consistent to be able to use for merging dataframes\n",
    "df_suburb_count.suburb.dtype"
   ]
  },
  {
   "cell_type": "code",
   "execution_count": 62,
   "metadata": {},
   "outputs": [
    {
     "data": {
      "text/plain": [
       "suburb        0\n",
       "complaints    0\n",
       "dtype: int64"
      ]
     },
     "execution_count": 62,
     "metadata": {},
     "output_type": "execute_result"
    }
   ],
   "source": [
    "#check no missing data\n",
    "df_suburb_count.isna().sum()"
   ]
  },
  {
   "cell_type": "code",
   "execution_count": 63,
   "metadata": {},
   "outputs": [
    {
     "data": {
      "text/plain": [
       "<bound method NDFrame.describe of                suburb  complaints\n",
       "0               INALA         563\n",
       "1       BRACKEN RIDGE         330\n",
       "2           CHERMSIDE         304\n",
       "3         FOREST LAKE         293\n",
       "4              WYNNUM         258\n",
       "..                ...         ...\n",
       "182   LAKE MANCHESTER           5\n",
       "183        EAGLE FARM           5\n",
       "184    MORETON ISLAND           2\n",
       "185          TENNYSON           2\n",
       "186  PORT OF BRISBANE           1\n",
       "\n",
       "[187 rows x 2 columns]>"
      ]
     },
     "execution_count": 63,
     "metadata": {},
     "output_type": "execute_result"
    }
   ],
   "source": [
    "#check the new df\n",
    "df_suburb_count.describe"
   ]
  },
  {
   "cell_type": "code",
   "execution_count": null,
   "metadata": {},
   "outputs": [],
   "source": []
  },
  {
   "cell_type": "code",
   "execution_count": 64,
   "metadata": {},
   "outputs": [],
   "source": [
    "#create additional data set with total complaints by quarter for further analysis"
   ]
  },
  {
   "cell_type": "code",
   "execution_count": 65,
   "metadata": {},
   "outputs": [
    {
     "data": {
      "text/plain": [
       "2020-06    2784\n",
       "2020-09    2601\n",
       "2019-09    2130\n",
       "2020-03    2128\n",
       "2019-06    1929\n",
       "2018-12    1890\n",
       "2019-12    1827\n",
       "2019-03    1783\n",
       "Name: quarter_ending, dtype: int64"
      ]
     },
     "execution_count": 65,
     "metadata": {},
     "output_type": "execute_result"
    }
   ],
   "source": [
    "df_clean['quarter_ending'].value_counts()"
   ]
  },
  {
   "cell_type": "code",
   "execution_count": 66,
   "metadata": {},
   "outputs": [],
   "source": [
    "complaints_by_qtr = df_clean['quarter_ending'].value_counts().iloc[::-1]"
   ]
  },
  {
   "cell_type": "code",
   "execution_count": 67,
   "metadata": {},
   "outputs": [
    {
     "data": {
      "text/plain": [
       "2019-03    1783\n",
       "2019-12    1827\n",
       "2018-12    1890\n",
       "2019-06    1929\n",
       "2020-03    2128\n",
       "2019-09    2130\n",
       "2020-09    2601\n",
       "2020-06    2784\n",
       "Name: quarter_ending, dtype: int64"
      ]
     },
     "execution_count": 67,
     "metadata": {},
     "output_type": "execute_result"
    }
   ],
   "source": [
    "complaints_by_qtr"
   ]
  },
  {
   "cell_type": "code",
   "execution_count": 68,
   "metadata": {},
   "outputs": [
    {
     "data": {
      "text/html": [
       "<div>\n",
       "<style scoped>\n",
       "    .dataframe tbody tr th:only-of-type {\n",
       "        vertical-align: middle;\n",
       "    }\n",
       "\n",
       "    .dataframe tbody tr th {\n",
       "        vertical-align: top;\n",
       "    }\n",
       "\n",
       "    .dataframe thead th {\n",
       "        text-align: right;\n",
       "    }\n",
       "</style>\n",
       "<table border=\"1\" class=\"dataframe\">\n",
       "  <thead>\n",
       "    <tr style=\"text-align: right;\">\n",
       "      <th></th>\n",
       "      <th>index</th>\n",
       "      <th>quarter_ending</th>\n",
       "    </tr>\n",
       "  </thead>\n",
       "  <tbody>\n",
       "    <tr>\n",
       "      <th>0</th>\n",
       "      <td>2019-03</td>\n",
       "      <td>1783</td>\n",
       "    </tr>\n",
       "    <tr>\n",
       "      <th>1</th>\n",
       "      <td>2019-12</td>\n",
       "      <td>1827</td>\n",
       "    </tr>\n",
       "    <tr>\n",
       "      <th>2</th>\n",
       "      <td>2018-12</td>\n",
       "      <td>1890</td>\n",
       "    </tr>\n",
       "    <tr>\n",
       "      <th>3</th>\n",
       "      <td>2019-06</td>\n",
       "      <td>1929</td>\n",
       "    </tr>\n",
       "    <tr>\n",
       "      <th>4</th>\n",
       "      <td>2020-03</td>\n",
       "      <td>2128</td>\n",
       "    </tr>\n",
       "    <tr>\n",
       "      <th>5</th>\n",
       "      <td>2019-09</td>\n",
       "      <td>2130</td>\n",
       "    </tr>\n",
       "    <tr>\n",
       "      <th>6</th>\n",
       "      <td>2020-09</td>\n",
       "      <td>2601</td>\n",
       "    </tr>\n",
       "    <tr>\n",
       "      <th>7</th>\n",
       "      <td>2020-06</td>\n",
       "      <td>2784</td>\n",
       "    </tr>\n",
       "  </tbody>\n",
       "</table>\n",
       "</div>"
      ],
      "text/plain": [
       "     index  quarter_ending\n",
       "0  2019-03            1783\n",
       "1  2019-12            1827\n",
       "2  2018-12            1890\n",
       "3  2019-06            1929\n",
       "4  2020-03            2128\n",
       "5  2019-09            2130\n",
       "6  2020-09            2601\n",
       "7  2020-06            2784"
      ]
     },
     "execution_count": 68,
     "metadata": {},
     "output_type": "execute_result"
    }
   ],
   "source": [
    "df_complaints_by_qtr = complaints_by_qtr.to_frame().reset_index()\n",
    "df_complaints_by_qtr"
   ]
  },
  {
   "cell_type": "code",
   "execution_count": 69,
   "metadata": {},
   "outputs": [],
   "source": [
    "df_complaints_by_qtr.rename(columns={'index': 'quarter_ending', 'quarter_ending': 'total_complaints'}, inplace=True)"
   ]
  },
  {
   "cell_type": "code",
   "execution_count": 70,
   "metadata": {},
   "outputs": [
    {
     "data": {
      "text/html": [
       "<div>\n",
       "<style scoped>\n",
       "    .dataframe tbody tr th:only-of-type {\n",
       "        vertical-align: middle;\n",
       "    }\n",
       "\n",
       "    .dataframe tbody tr th {\n",
       "        vertical-align: top;\n",
       "    }\n",
       "\n",
       "    .dataframe thead th {\n",
       "        text-align: right;\n",
       "    }\n",
       "</style>\n",
       "<table border=\"1\" class=\"dataframe\">\n",
       "  <thead>\n",
       "    <tr style=\"text-align: right;\">\n",
       "      <th></th>\n",
       "      <th>quarter_ending</th>\n",
       "      <th>total_complaints</th>\n",
       "    </tr>\n",
       "  </thead>\n",
       "  <tbody>\n",
       "    <tr>\n",
       "      <th>0</th>\n",
       "      <td>2019-03</td>\n",
       "      <td>1783</td>\n",
       "    </tr>\n",
       "    <tr>\n",
       "      <th>1</th>\n",
       "      <td>2019-12</td>\n",
       "      <td>1827</td>\n",
       "    </tr>\n",
       "    <tr>\n",
       "      <th>2</th>\n",
       "      <td>2018-12</td>\n",
       "      <td>1890</td>\n",
       "    </tr>\n",
       "    <tr>\n",
       "      <th>3</th>\n",
       "      <td>2019-06</td>\n",
       "      <td>1929</td>\n",
       "    </tr>\n",
       "    <tr>\n",
       "      <th>4</th>\n",
       "      <td>2020-03</td>\n",
       "      <td>2128</td>\n",
       "    </tr>\n",
       "    <tr>\n",
       "      <th>5</th>\n",
       "      <td>2019-09</td>\n",
       "      <td>2130</td>\n",
       "    </tr>\n",
       "    <tr>\n",
       "      <th>6</th>\n",
       "      <td>2020-09</td>\n",
       "      <td>2601</td>\n",
       "    </tr>\n",
       "    <tr>\n",
       "      <th>7</th>\n",
       "      <td>2020-06</td>\n",
       "      <td>2784</td>\n",
       "    </tr>\n",
       "  </tbody>\n",
       "</table>\n",
       "</div>"
      ],
      "text/plain": [
       "  quarter_ending  total_complaints\n",
       "0        2019-03              1783\n",
       "1        2019-12              1827\n",
       "2        2018-12              1890\n",
       "3        2019-06              1929\n",
       "4        2020-03              2128\n",
       "5        2019-09              2130\n",
       "6        2020-09              2601\n",
       "7        2020-06              2784"
      ]
     },
     "execution_count": 70,
     "metadata": {},
     "output_type": "execute_result"
    }
   ],
   "source": [
    "df_complaints_by_qtr"
   ]
  },
  {
   "cell_type": "code",
   "execution_count": 71,
   "metadata": {},
   "outputs": [],
   "source": [
    "#save this file for further graphical analysis"
   ]
  },
  {
   "cell_type": "code",
   "execution_count": 72,
   "metadata": {},
   "outputs": [],
   "source": [
    "df_complaints_by_qtr.to_csv(r'..\\assignment\\complaints_byqtr.csv', index = False)"
   ]
  },
  {
   "cell_type": "code",
   "execution_count": null,
   "metadata": {},
   "outputs": [],
   "source": []
  },
  {
   "cell_type": "code",
   "execution_count": null,
   "metadata": {},
   "outputs": [],
   "source": []
  },
  {
   "cell_type": "code",
   "execution_count": null,
   "metadata": {},
   "outputs": [],
   "source": []
  },
  {
   "cell_type": "code",
   "execution_count": 73,
   "metadata": {},
   "outputs": [],
   "source": [
    "#Create further data set which specifically shows the total number of complaints Types: Attack by quarter over the 2 year period"
   ]
  },
  {
   "cell_type": "code",
   "execution_count": 74,
   "metadata": {},
   "outputs": [
    {
     "data": {
      "text/plain": [
       "quarter_ending  type        \n",
       "2020-06         Dog             1612\n",
       "2020-09         Dog             1392\n",
       "2020-03         Dog             1131\n",
       "2019-09         Dog              822\n",
       "2019-12         Dog              781\n",
       "2019-03         Dog              769\n",
       "2018-12         Dog              768\n",
       "2019-06         Dog              742\n",
       "2019-09         Attack           597\n",
       "2019-06         Attack           562\n",
       "2020-06         Attack           549\n",
       "2020-09         Attack           544\n",
       "2019-03         Attack           483\n",
       "2018-12         Attack           480\n",
       "2020-03         Attack           476\n",
       "2019-12         Attack           467\n",
       "2020-09         Other Animal     314\n",
       "2019-09         Other Animal     309\n",
       "2018-12         Other Animal     304\n",
       "2019-12         Other Animal     300\n",
       "2020-06         Other Animal     295\n",
       "2019-06         Other Animal     268\n",
       "2019-09         Cat              241\n",
       "2020-03         Other Animal     226\n",
       "2019-03         Other Animal     218\n",
       "2020-09         Cat              190\n",
       "2019-06         Cat              190\n",
       "2020-06         Cat              175\n",
       "2018-12         Cat Trapping     171\n",
       "2019-06         Cat Trapping     167\n",
       "2018-12         Cat              167\n",
       "2019-03         Cat              162\n",
       "2020-03         Cat Trapping     162\n",
       "2019-09         Cat Trapping     161\n",
       "2020-09         Cat Trapping     161\n",
       "2020-06         Cat Trapping     153\n",
       "2019-03         Cat Trapping     151\n",
       "2019-12         Cat Trapping     150\n",
       "2020-03         Cat              133\n",
       "2019-12         Cat              129\n",
       "dtype: int64"
      ]
     },
     "execution_count": 74,
     "metadata": {},
     "output_type": "execute_result"
    }
   ],
   "source": [
    "#Get value counts of the relevant columns and check the data\n",
    "df_clean.value_counts(['quarter_ending', 'type'])"
   ]
  },
  {
   "cell_type": "code",
   "execution_count": 75,
   "metadata": {},
   "outputs": [
    {
     "data": {
      "text/plain": [
       "quarter_ending  type        \n",
       "2020-06         Dog             1612\n",
       "2020-09         Dog             1392\n",
       "2020-03         Dog             1131\n",
       "2019-09         Dog              822\n",
       "2019-12         Dog              781\n",
       "2019-03         Dog              769\n",
       "2018-12         Dog              768\n",
       "2019-06         Dog              742\n",
       "2019-09         Attack           597\n",
       "2019-06         Attack           562\n",
       "2020-06         Attack           549\n",
       "2020-09         Attack           544\n",
       "2019-03         Attack           483\n",
       "2018-12         Attack           480\n",
       "2020-03         Attack           476\n",
       "2019-12         Attack           467\n",
       "2020-09         Other Animal     314\n",
       "2019-09         Other Animal     309\n",
       "2018-12         Other Animal     304\n",
       "2019-12         Other Animal     300\n",
       "2020-06         Other Animal     295\n",
       "2019-06         Other Animal     268\n",
       "2019-09         Cat              241\n",
       "2020-03         Other Animal     226\n",
       "2019-03         Other Animal     218\n",
       "2020-09         Cat              190\n",
       "2019-06         Cat              190\n",
       "2020-06         Cat              175\n",
       "2018-12         Cat Trapping     171\n",
       "2019-06         Cat Trapping     167\n",
       "2018-12         Cat              167\n",
       "2019-03         Cat              162\n",
       "2020-03         Cat Trapping     162\n",
       "2019-09         Cat Trapping     161\n",
       "2020-09         Cat Trapping     161\n",
       "2020-06         Cat Trapping     153\n",
       "2019-03         Cat Trapping     151\n",
       "2019-12         Cat Trapping     150\n",
       "2020-03         Cat              133\n",
       "2019-12         Cat              129\n",
       "dtype: int64"
      ]
     },
     "execution_count": 75,
     "metadata": {},
     "output_type": "execute_result"
    }
   ],
   "source": [
    "#assign to new variable\n",
    "attack_qtr = df_clean.value_counts(['quarter_ending', 'type'])\n",
    "attack_qtr"
   ]
  },
  {
   "cell_type": "code",
   "execution_count": null,
   "metadata": {},
   "outputs": [],
   "source": []
  },
  {
   "cell_type": "code",
   "execution_count": 76,
   "metadata": {},
   "outputs": [],
   "source": [
    "#drop the unnecessary values for Type which are not equal to 'Attack'\n",
    "attack_qtr = attack_qtr.iloc[:-24]"
   ]
  },
  {
   "cell_type": "code",
   "execution_count": 77,
   "metadata": {},
   "outputs": [],
   "source": [
    "attack_qtr = attack_qtr.iloc[8:]"
   ]
  },
  {
   "cell_type": "code",
   "execution_count": 78,
   "metadata": {},
   "outputs": [
    {
     "data": {
      "text/plain": [
       "quarter_ending  type  \n",
       "2019-09         Attack    597\n",
       "2019-06         Attack    562\n",
       "2020-06         Attack    549\n",
       "2020-09         Attack    544\n",
       "2019-03         Attack    483\n",
       "2018-12         Attack    480\n",
       "2020-03         Attack    476\n",
       "2019-12         Attack    467\n",
       "dtype: int64"
      ]
     },
     "execution_count": 78,
     "metadata": {},
     "output_type": "execute_result"
    }
   ],
   "source": [
    "attack_qtr.head(8)"
   ]
  },
  {
   "cell_type": "code",
   "execution_count": 79,
   "metadata": {},
   "outputs": [],
   "source": [
    "df_hp = pd.DataFrame(attack_qtr)"
   ]
  },
  {
   "cell_type": "code",
   "execution_count": 80,
   "metadata": {},
   "outputs": [
    {
     "data": {
      "text/html": [
       "<div>\n",
       "<style scoped>\n",
       "    .dataframe tbody tr th:only-of-type {\n",
       "        vertical-align: middle;\n",
       "    }\n",
       "\n",
       "    .dataframe tbody tr th {\n",
       "        vertical-align: top;\n",
       "    }\n",
       "\n",
       "    .dataframe thead th {\n",
       "        text-align: right;\n",
       "    }\n",
       "</style>\n",
       "<table border=\"1\" class=\"dataframe\">\n",
       "  <thead>\n",
       "    <tr style=\"text-align: right;\">\n",
       "      <th></th>\n",
       "      <th></th>\n",
       "      <th>0</th>\n",
       "    </tr>\n",
       "    <tr>\n",
       "      <th>quarter_ending</th>\n",
       "      <th>type</th>\n",
       "      <th></th>\n",
       "    </tr>\n",
       "  </thead>\n",
       "  <tbody>\n",
       "    <tr>\n",
       "      <th>2019-09</th>\n",
       "      <th>Attack</th>\n",
       "      <td>597</td>\n",
       "    </tr>\n",
       "    <tr>\n",
       "      <th>2019-06</th>\n",
       "      <th>Attack</th>\n",
       "      <td>562</td>\n",
       "    </tr>\n",
       "    <tr>\n",
       "      <th>2020-06</th>\n",
       "      <th>Attack</th>\n",
       "      <td>549</td>\n",
       "    </tr>\n",
       "    <tr>\n",
       "      <th>2020-09</th>\n",
       "      <th>Attack</th>\n",
       "      <td>544</td>\n",
       "    </tr>\n",
       "    <tr>\n",
       "      <th>2019-03</th>\n",
       "      <th>Attack</th>\n",
       "      <td>483</td>\n",
       "    </tr>\n",
       "    <tr>\n",
       "      <th>2018-12</th>\n",
       "      <th>Attack</th>\n",
       "      <td>480</td>\n",
       "    </tr>\n",
       "    <tr>\n",
       "      <th>2020-03</th>\n",
       "      <th>Attack</th>\n",
       "      <td>476</td>\n",
       "    </tr>\n",
       "    <tr>\n",
       "      <th>2019-12</th>\n",
       "      <th>Attack</th>\n",
       "      <td>467</td>\n",
       "    </tr>\n",
       "  </tbody>\n",
       "</table>\n",
       "</div>"
      ],
      "text/plain": [
       "                         0\n",
       "quarter_ending type       \n",
       "2019-09        Attack  597\n",
       "2019-06        Attack  562\n",
       "2020-06        Attack  549\n",
       "2020-09        Attack  544\n",
       "2019-03        Attack  483\n",
       "2018-12        Attack  480\n",
       "2020-03        Attack  476\n",
       "2019-12        Attack  467"
      ]
     },
     "execution_count": 80,
     "metadata": {},
     "output_type": "execute_result"
    }
   ],
   "source": [
    "#check the new df\n",
    "df_hp.head(8)"
   ]
  },
  {
   "cell_type": "code",
   "execution_count": 81,
   "metadata": {},
   "outputs": [
    {
     "data": {
      "text/html": [
       "<div>\n",
       "<style scoped>\n",
       "    .dataframe tbody tr th:only-of-type {\n",
       "        vertical-align: middle;\n",
       "    }\n",
       "\n",
       "    .dataframe tbody tr th {\n",
       "        vertical-align: top;\n",
       "    }\n",
       "\n",
       "    .dataframe thead th {\n",
       "        text-align: right;\n",
       "    }\n",
       "</style>\n",
       "<table border=\"1\" class=\"dataframe\">\n",
       "  <thead>\n",
       "    <tr style=\"text-align: right;\">\n",
       "      <th></th>\n",
       "      <th>quarter_ending</th>\n",
       "      <th>type</th>\n",
       "      <th>0</th>\n",
       "    </tr>\n",
       "  </thead>\n",
       "  <tbody>\n",
       "    <tr>\n",
       "      <th>0</th>\n",
       "      <td>2019-09</td>\n",
       "      <td>Attack</td>\n",
       "      <td>597</td>\n",
       "    </tr>\n",
       "    <tr>\n",
       "      <th>1</th>\n",
       "      <td>2019-06</td>\n",
       "      <td>Attack</td>\n",
       "      <td>562</td>\n",
       "    </tr>\n",
       "    <tr>\n",
       "      <th>2</th>\n",
       "      <td>2020-06</td>\n",
       "      <td>Attack</td>\n",
       "      <td>549</td>\n",
       "    </tr>\n",
       "    <tr>\n",
       "      <th>3</th>\n",
       "      <td>2020-09</td>\n",
       "      <td>Attack</td>\n",
       "      <td>544</td>\n",
       "    </tr>\n",
       "    <tr>\n",
       "      <th>4</th>\n",
       "      <td>2019-03</td>\n",
       "      <td>Attack</td>\n",
       "      <td>483</td>\n",
       "    </tr>\n",
       "    <tr>\n",
       "      <th>5</th>\n",
       "      <td>2018-12</td>\n",
       "      <td>Attack</td>\n",
       "      <td>480</td>\n",
       "    </tr>\n",
       "    <tr>\n",
       "      <th>6</th>\n",
       "      <td>2020-03</td>\n",
       "      <td>Attack</td>\n",
       "      <td>476</td>\n",
       "    </tr>\n",
       "    <tr>\n",
       "      <th>7</th>\n",
       "      <td>2019-12</td>\n",
       "      <td>Attack</td>\n",
       "      <td>467</td>\n",
       "    </tr>\n",
       "  </tbody>\n",
       "</table>\n",
       "</div>"
      ],
      "text/plain": [
       "  quarter_ending    type    0\n",
       "0        2019-09  Attack  597\n",
       "1        2019-06  Attack  562\n",
       "2        2020-06  Attack  549\n",
       "3        2020-09  Attack  544\n",
       "4        2019-03  Attack  483\n",
       "5        2018-12  Attack  480\n",
       "6        2020-03  Attack  476\n",
       "7        2019-12  Attack  467"
      ]
     },
     "execution_count": 81,
     "metadata": {},
     "output_type": "execute_result"
    }
   ],
   "source": [
    "#reset the index, double check the shape, drop unnecessary column and set new column titles\n",
    "all_attack = df_hp.reset_index()\n",
    "all_attack"
   ]
  },
  {
   "cell_type": "code",
   "execution_count": 82,
   "metadata": {},
   "outputs": [
    {
     "data": {
      "text/plain": [
       "(8, 3)"
      ]
     },
     "execution_count": 82,
     "metadata": {},
     "output_type": "execute_result"
    }
   ],
   "source": [
    "all_attack.shape"
   ]
  },
  {
   "cell_type": "code",
   "execution_count": 83,
   "metadata": {},
   "outputs": [
    {
     "data": {
      "text/html": [
       "<div>\n",
       "<style scoped>\n",
       "    .dataframe tbody tr th:only-of-type {\n",
       "        vertical-align: middle;\n",
       "    }\n",
       "\n",
       "    .dataframe tbody tr th {\n",
       "        vertical-align: top;\n",
       "    }\n",
       "\n",
       "    .dataframe thead th {\n",
       "        text-align: right;\n",
       "    }\n",
       "</style>\n",
       "<table border=\"1\" class=\"dataframe\">\n",
       "  <thead>\n",
       "    <tr style=\"text-align: right;\">\n",
       "      <th></th>\n",
       "      <th>quarter_ending</th>\n",
       "      <th>type</th>\n",
       "      <th>attacks</th>\n",
       "    </tr>\n",
       "  </thead>\n",
       "  <tbody>\n",
       "    <tr>\n",
       "      <th>0</th>\n",
       "      <td>2019-09</td>\n",
       "      <td>Attack</td>\n",
       "      <td>597</td>\n",
       "    </tr>\n",
       "    <tr>\n",
       "      <th>1</th>\n",
       "      <td>2019-06</td>\n",
       "      <td>Attack</td>\n",
       "      <td>562</td>\n",
       "    </tr>\n",
       "    <tr>\n",
       "      <th>2</th>\n",
       "      <td>2020-06</td>\n",
       "      <td>Attack</td>\n",
       "      <td>549</td>\n",
       "    </tr>\n",
       "    <tr>\n",
       "      <th>3</th>\n",
       "      <td>2020-09</td>\n",
       "      <td>Attack</td>\n",
       "      <td>544</td>\n",
       "    </tr>\n",
       "    <tr>\n",
       "      <th>4</th>\n",
       "      <td>2019-03</td>\n",
       "      <td>Attack</td>\n",
       "      <td>483</td>\n",
       "    </tr>\n",
       "    <tr>\n",
       "      <th>5</th>\n",
       "      <td>2018-12</td>\n",
       "      <td>Attack</td>\n",
       "      <td>480</td>\n",
       "    </tr>\n",
       "    <tr>\n",
       "      <th>6</th>\n",
       "      <td>2020-03</td>\n",
       "      <td>Attack</td>\n",
       "      <td>476</td>\n",
       "    </tr>\n",
       "    <tr>\n",
       "      <th>7</th>\n",
       "      <td>2019-12</td>\n",
       "      <td>Attack</td>\n",
       "      <td>467</td>\n",
       "    </tr>\n",
       "  </tbody>\n",
       "</table>\n",
       "</div>"
      ],
      "text/plain": [
       "  quarter_ending    type  attacks\n",
       "0        2019-09  Attack      597\n",
       "1        2019-06  Attack      562\n",
       "2        2020-06  Attack      549\n",
       "3        2020-09  Attack      544\n",
       "4        2019-03  Attack      483\n",
       "5        2018-12  Attack      480\n",
       "6        2020-03  Attack      476\n",
       "7        2019-12  Attack      467"
      ]
     },
     "execution_count": 83,
     "metadata": {},
     "output_type": "execute_result"
    }
   ],
   "source": [
    "all_attack.columns = ['quarter_ending', 'type', 'attacks']\n",
    "all_attack"
   ]
  },
  {
   "cell_type": "code",
   "execution_count": 84,
   "metadata": {},
   "outputs": [
    {
     "data": {
      "text/html": [
       "<div>\n",
       "<style scoped>\n",
       "    .dataframe tbody tr th:only-of-type {\n",
       "        vertical-align: middle;\n",
       "    }\n",
       "\n",
       "    .dataframe tbody tr th {\n",
       "        vertical-align: top;\n",
       "    }\n",
       "\n",
       "    .dataframe thead th {\n",
       "        text-align: right;\n",
       "    }\n",
       "</style>\n",
       "<table border=\"1\" class=\"dataframe\">\n",
       "  <thead>\n",
       "    <tr style=\"text-align: right;\">\n",
       "      <th></th>\n",
       "      <th>quarter_ending</th>\n",
       "      <th>attacks</th>\n",
       "    </tr>\n",
       "  </thead>\n",
       "  <tbody>\n",
       "    <tr>\n",
       "      <th>0</th>\n",
       "      <td>2019-09</td>\n",
       "      <td>597</td>\n",
       "    </tr>\n",
       "    <tr>\n",
       "      <th>1</th>\n",
       "      <td>2019-06</td>\n",
       "      <td>562</td>\n",
       "    </tr>\n",
       "    <tr>\n",
       "      <th>2</th>\n",
       "      <td>2020-06</td>\n",
       "      <td>549</td>\n",
       "    </tr>\n",
       "    <tr>\n",
       "      <th>3</th>\n",
       "      <td>2020-09</td>\n",
       "      <td>544</td>\n",
       "    </tr>\n",
       "    <tr>\n",
       "      <th>4</th>\n",
       "      <td>2019-03</td>\n",
       "      <td>483</td>\n",
       "    </tr>\n",
       "    <tr>\n",
       "      <th>5</th>\n",
       "      <td>2018-12</td>\n",
       "      <td>480</td>\n",
       "    </tr>\n",
       "    <tr>\n",
       "      <th>6</th>\n",
       "      <td>2020-03</td>\n",
       "      <td>476</td>\n",
       "    </tr>\n",
       "    <tr>\n",
       "      <th>7</th>\n",
       "      <td>2019-12</td>\n",
       "      <td>467</td>\n",
       "    </tr>\n",
       "  </tbody>\n",
       "</table>\n",
       "</div>"
      ],
      "text/plain": [
       "  quarter_ending  attacks\n",
       "0        2019-09      597\n",
       "1        2019-06      562\n",
       "2        2020-06      549\n",
       "3        2020-09      544\n",
       "4        2019-03      483\n",
       "5        2018-12      480\n",
       "6        2020-03      476\n",
       "7        2019-12      467"
      ]
     },
     "execution_count": 84,
     "metadata": {},
     "output_type": "execute_result"
    }
   ],
   "source": [
    "del all_attack['type']\n",
    "all_attack"
   ]
  },
  {
   "cell_type": "code",
   "execution_count": 85,
   "metadata": {},
   "outputs": [
    {
     "data": {
      "text/html": [
       "<div>\n",
       "<style scoped>\n",
       "    .dataframe tbody tr th:only-of-type {\n",
       "        vertical-align: middle;\n",
       "    }\n",
       "\n",
       "    .dataframe tbody tr th {\n",
       "        vertical-align: top;\n",
       "    }\n",
       "\n",
       "    .dataframe thead th {\n",
       "        text-align: right;\n",
       "    }\n",
       "</style>\n",
       "<table border=\"1\" class=\"dataframe\">\n",
       "  <thead>\n",
       "    <tr style=\"text-align: right;\">\n",
       "      <th></th>\n",
       "      <th>quarter_ending</th>\n",
       "      <th>attacks</th>\n",
       "    </tr>\n",
       "  </thead>\n",
       "  <tbody>\n",
       "    <tr>\n",
       "      <th>5</th>\n",
       "      <td>2018-12</td>\n",
       "      <td>480</td>\n",
       "    </tr>\n",
       "    <tr>\n",
       "      <th>4</th>\n",
       "      <td>2019-03</td>\n",
       "      <td>483</td>\n",
       "    </tr>\n",
       "    <tr>\n",
       "      <th>1</th>\n",
       "      <td>2019-06</td>\n",
       "      <td>562</td>\n",
       "    </tr>\n",
       "    <tr>\n",
       "      <th>0</th>\n",
       "      <td>2019-09</td>\n",
       "      <td>597</td>\n",
       "    </tr>\n",
       "    <tr>\n",
       "      <th>7</th>\n",
       "      <td>2019-12</td>\n",
       "      <td>467</td>\n",
       "    </tr>\n",
       "    <tr>\n",
       "      <th>6</th>\n",
       "      <td>2020-03</td>\n",
       "      <td>476</td>\n",
       "    </tr>\n",
       "    <tr>\n",
       "      <th>2</th>\n",
       "      <td>2020-06</td>\n",
       "      <td>549</td>\n",
       "    </tr>\n",
       "    <tr>\n",
       "      <th>3</th>\n",
       "      <td>2020-09</td>\n",
       "      <td>544</td>\n",
       "    </tr>\n",
       "  </tbody>\n",
       "</table>\n",
       "</div>"
      ],
      "text/plain": [
       "  quarter_ending  attacks\n",
       "5        2018-12      480\n",
       "4        2019-03      483\n",
       "1        2019-06      562\n",
       "0        2019-09      597\n",
       "7        2019-12      467\n",
       "6        2020-03      476\n",
       "2        2020-06      549\n",
       "3        2020-09      544"
      ]
     },
     "execution_count": 85,
     "metadata": {},
     "output_type": "execute_result"
    }
   ],
   "source": [
    "all_attack = all_attack.sort_values(by ='quarter_ending', ascending=True)\n",
    "all_attack"
   ]
  },
  {
   "cell_type": "code",
   "execution_count": 86,
   "metadata": {},
   "outputs": [
    {
     "data": {
      "text/plain": [
       "<bound method DataFrame.info of   quarter_ending  attacks\n",
       "5        2018-12      480\n",
       "4        2019-03      483\n",
       "1        2019-06      562\n",
       "0        2019-09      597\n",
       "7        2019-12      467\n",
       "6        2020-03      476\n",
       "2        2020-06      549\n",
       "3        2020-09      544>"
      ]
     },
     "execution_count": 86,
     "metadata": {},
     "output_type": "execute_result"
    }
   ],
   "source": [
    "all_attack.info"
   ]
  },
  {
   "cell_type": "code",
   "execution_count": 87,
   "metadata": {},
   "outputs": [
    {
     "data": {
      "text/plain": [
       "Index(['quarter_ending', 'attacks'], dtype='object')"
      ]
     },
     "execution_count": 87,
     "metadata": {},
     "output_type": "execute_result"
    }
   ],
   "source": [
    "all_attack.columns"
   ]
  },
  {
   "cell_type": "code",
   "execution_count": 88,
   "metadata": {},
   "outputs": [],
   "source": [
    "#save this file for further graphical analysis"
   ]
  },
  {
   "cell_type": "code",
   "execution_count": 89,
   "metadata": {},
   "outputs": [],
   "source": [
    "all_attack.to_csv(r'..\\assignment\\all_attacksf.csv')"
   ]
  },
  {
   "cell_type": "code",
   "execution_count": null,
   "metadata": {},
   "outputs": [],
   "source": []
  },
  {
   "cell_type": "code",
   "execution_count": null,
   "metadata": {},
   "outputs": [],
   "source": []
  },
  {
   "cell_type": "code",
   "execution_count": 90,
   "metadata": {},
   "outputs": [],
   "source": [
    "#create further dataset to investigate totals over the 24 months for the category type 'Attacks' split by the suburb"
   ]
  },
  {
   "cell_type": "code",
   "execution_count": 91,
   "metadata": {},
   "outputs": [
    {
     "data": {
      "text/plain": [
       "suburb         type        \n",
       "INALA          Dog             267\n",
       "CHERMSIDE      Dog             236\n",
       "INALA          Attack          144\n",
       "CARINA         Dog             129\n",
       "FOREST LAKE    Dog             126\n",
       "                              ... \n",
       "DREWVALE       Cat Trapping      1\n",
       "BALMORAL       Cat               1\n",
       "EAGLE FARM     Cat Trapping      1\n",
       "               Dog               1\n",
       "HIGHGATE HILL  Cat               1\n",
       "Length: 874, dtype: int64"
      ]
     },
     "execution_count": 91,
     "metadata": {},
     "output_type": "execute_result"
    }
   ],
   "source": [
    "#get the value counts for the relevant data columns similar to previous process\n",
    "df_clean.value_counts(['suburb', 'type'])"
   ]
  },
  {
   "cell_type": "code",
   "execution_count": null,
   "metadata": {},
   "outputs": [],
   "source": []
  },
  {
   "cell_type": "code",
   "execution_count": 92,
   "metadata": {},
   "outputs": [],
   "source": [
    "attack_df = df_clean.value_counts(['suburb', 'type'])"
   ]
  },
  {
   "cell_type": "code",
   "execution_count": 93,
   "metadata": {},
   "outputs": [
    {
     "data": {
      "text/plain": [
       "suburb         type        \n",
       "INALA          Dog             267\n",
       "CHERMSIDE      Dog             236\n",
       "INALA          Attack          144\n",
       "CARINA         Dog             129\n",
       "FOREST LAKE    Dog             126\n",
       "                              ... \n",
       "DREWVALE       Cat Trapping      1\n",
       "BALMORAL       Cat               1\n",
       "EAGLE FARM     Cat Trapping      1\n",
       "               Dog               1\n",
       "HIGHGATE HILL  Cat               1\n",
       "Length: 874, dtype: int64"
      ]
     },
     "execution_count": 93,
     "metadata": {},
     "output_type": "execute_result"
    }
   ],
   "source": [
    "attack_df"
   ]
  },
  {
   "cell_type": "code",
   "execution_count": 94,
   "metadata": {},
   "outputs": [
    {
     "data": {
      "text/html": [
       "<div>\n",
       "<style scoped>\n",
       "    .dataframe tbody tr th:only-of-type {\n",
       "        vertical-align: middle;\n",
       "    }\n",
       "\n",
       "    .dataframe tbody tr th {\n",
       "        vertical-align: top;\n",
       "    }\n",
       "\n",
       "    .dataframe thead th {\n",
       "        text-align: right;\n",
       "    }\n",
       "</style>\n",
       "<table border=\"1\" class=\"dataframe\">\n",
       "  <thead>\n",
       "    <tr style=\"text-align: right;\">\n",
       "      <th></th>\n",
       "      <th>suburb</th>\n",
       "      <th>type</th>\n",
       "      <th>0</th>\n",
       "    </tr>\n",
       "  </thead>\n",
       "  <tbody>\n",
       "    <tr>\n",
       "      <th>0</th>\n",
       "      <td>INALA</td>\n",
       "      <td>Dog</td>\n",
       "      <td>267</td>\n",
       "    </tr>\n",
       "    <tr>\n",
       "      <th>1</th>\n",
       "      <td>CHERMSIDE</td>\n",
       "      <td>Dog</td>\n",
       "      <td>236</td>\n",
       "    </tr>\n",
       "    <tr>\n",
       "      <th>2</th>\n",
       "      <td>INALA</td>\n",
       "      <td>Attack</td>\n",
       "      <td>144</td>\n",
       "    </tr>\n",
       "    <tr>\n",
       "      <th>3</th>\n",
       "      <td>CARINA</td>\n",
       "      <td>Dog</td>\n",
       "      <td>129</td>\n",
       "    </tr>\n",
       "    <tr>\n",
       "      <th>4</th>\n",
       "      <td>FOREST LAKE</td>\n",
       "      <td>Dog</td>\n",
       "      <td>126</td>\n",
       "    </tr>\n",
       "    <tr>\n",
       "      <th>...</th>\n",
       "      <td>...</td>\n",
       "      <td>...</td>\n",
       "      <td>...</td>\n",
       "    </tr>\n",
       "    <tr>\n",
       "      <th>869</th>\n",
       "      <td>DREWVALE</td>\n",
       "      <td>Cat Trapping</td>\n",
       "      <td>1</td>\n",
       "    </tr>\n",
       "    <tr>\n",
       "      <th>870</th>\n",
       "      <td>BALMORAL</td>\n",
       "      <td>Cat</td>\n",
       "      <td>1</td>\n",
       "    </tr>\n",
       "    <tr>\n",
       "      <th>871</th>\n",
       "      <td>EAGLE FARM</td>\n",
       "      <td>Cat Trapping</td>\n",
       "      <td>1</td>\n",
       "    </tr>\n",
       "    <tr>\n",
       "      <th>872</th>\n",
       "      <td>EAGLE FARM</td>\n",
       "      <td>Dog</td>\n",
       "      <td>1</td>\n",
       "    </tr>\n",
       "    <tr>\n",
       "      <th>873</th>\n",
       "      <td>HIGHGATE HILL</td>\n",
       "      <td>Cat</td>\n",
       "      <td>1</td>\n",
       "    </tr>\n",
       "  </tbody>\n",
       "</table>\n",
       "<p>874 rows × 3 columns</p>\n",
       "</div>"
      ],
      "text/plain": [
       "            suburb          type    0\n",
       "0            INALA           Dog  267\n",
       "1        CHERMSIDE           Dog  236\n",
       "2            INALA        Attack  144\n",
       "3           CARINA           Dog  129\n",
       "4      FOREST LAKE           Dog  126\n",
       "..             ...           ...  ...\n",
       "869       DREWVALE  Cat Trapping    1\n",
       "870       BALMORAL           Cat    1\n",
       "871     EAGLE FARM  Cat Trapping    1\n",
       "872     EAGLE FARM           Dog    1\n",
       "873  HIGHGATE HILL           Cat    1\n",
       "\n",
       "[874 rows x 3 columns]"
      ]
     },
     "execution_count": 94,
     "metadata": {},
     "output_type": "execute_result"
    }
   ],
   "source": [
    "attack_dff = attack_df.reset_index()\n",
    "attack_dff"
   ]
  },
  {
   "cell_type": "code",
   "execution_count": 95,
   "metadata": {},
   "outputs": [
    {
     "data": {
      "text/plain": [
       "<bound method DataFrame.info of             suburb          type    0\n",
       "0            INALA           Dog  267\n",
       "1        CHERMSIDE           Dog  236\n",
       "2            INALA        Attack  144\n",
       "3           CARINA           Dog  129\n",
       "4      FOREST LAKE           Dog  126\n",
       "..             ...           ...  ...\n",
       "869       DREWVALE  Cat Trapping    1\n",
       "870       BALMORAL           Cat    1\n",
       "871     EAGLE FARM  Cat Trapping    1\n",
       "872     EAGLE FARM           Dog    1\n",
       "873  HIGHGATE HILL           Cat    1\n",
       "\n",
       "[874 rows x 3 columns]>"
      ]
     },
     "execution_count": 95,
     "metadata": {},
     "output_type": "execute_result"
    }
   ],
   "source": [
    "attack_dff.info"
   ]
  },
  {
   "cell_type": "code",
   "execution_count": 96,
   "metadata": {},
   "outputs": [
    {
     "data": {
      "text/html": [
       "<div>\n",
       "<style scoped>\n",
       "    .dataframe tbody tr th:only-of-type {\n",
       "        vertical-align: middle;\n",
       "    }\n",
       "\n",
       "    .dataframe tbody tr th {\n",
       "        vertical-align: top;\n",
       "    }\n",
       "\n",
       "    .dataframe thead th {\n",
       "        text-align: right;\n",
       "    }\n",
       "</style>\n",
       "<table border=\"1\" class=\"dataframe\">\n",
       "  <thead>\n",
       "    <tr style=\"text-align: right;\">\n",
       "      <th></th>\n",
       "      <th>suburb</th>\n",
       "      <th>type</th>\n",
       "      <th>0</th>\n",
       "    </tr>\n",
       "  </thead>\n",
       "  <tbody>\n",
       "    <tr>\n",
       "      <th>2</th>\n",
       "      <td>INALA</td>\n",
       "      <td>Attack</td>\n",
       "      <td>144</td>\n",
       "    </tr>\n",
       "    <tr>\n",
       "      <th>22</th>\n",
       "      <td>BRACKEN RIDGE</td>\n",
       "      <td>Attack</td>\n",
       "      <td>88</td>\n",
       "    </tr>\n",
       "    <tr>\n",
       "      <th>42</th>\n",
       "      <td>FOREST LAKE</td>\n",
       "      <td>Attack</td>\n",
       "      <td>69</td>\n",
       "    </tr>\n",
       "    <tr>\n",
       "      <th>46</th>\n",
       "      <td>TARRAGINDI</td>\n",
       "      <td>Attack</td>\n",
       "      <td>67</td>\n",
       "    </tr>\n",
       "    <tr>\n",
       "      <th>51</th>\n",
       "      <td>ACACIA RIDGE</td>\n",
       "      <td>Attack</td>\n",
       "      <td>64</td>\n",
       "    </tr>\n",
       "    <tr>\n",
       "      <th>...</th>\n",
       "      <td>...</td>\n",
       "      <td>...</td>\n",
       "      <td>...</td>\n",
       "    </tr>\n",
       "    <tr>\n",
       "      <th>771</th>\n",
       "      <td>SUMNER</td>\n",
       "      <td>Attack</td>\n",
       "      <td>3</td>\n",
       "    </tr>\n",
       "    <tr>\n",
       "      <th>792</th>\n",
       "      <td>YEERONGPILLY</td>\n",
       "      <td>Attack</td>\n",
       "      <td>2</td>\n",
       "    </tr>\n",
       "    <tr>\n",
       "      <th>808</th>\n",
       "      <td>ALBION</td>\n",
       "      <td>Attack</td>\n",
       "      <td>2</td>\n",
       "    </tr>\n",
       "    <tr>\n",
       "      <th>812</th>\n",
       "      <td>BURBANK</td>\n",
       "      <td>Attack</td>\n",
       "      <td>2</td>\n",
       "    </tr>\n",
       "    <tr>\n",
       "      <th>816</th>\n",
       "      <td>BOWEN HILLS</td>\n",
       "      <td>Attack</td>\n",
       "      <td>2</td>\n",
       "    </tr>\n",
       "  </tbody>\n",
       "</table>\n",
       "<p>179 rows × 3 columns</p>\n",
       "</div>"
      ],
      "text/plain": [
       "            suburb    type    0\n",
       "2            INALA  Attack  144\n",
       "22   BRACKEN RIDGE  Attack   88\n",
       "42     FOREST LAKE  Attack   69\n",
       "46      TARRAGINDI  Attack   67\n",
       "51    ACACIA RIDGE  Attack   64\n",
       "..             ...     ...  ...\n",
       "771         SUMNER  Attack    3\n",
       "792   YEERONGPILLY  Attack    2\n",
       "808         ALBION  Attack    2\n",
       "812        BURBANK  Attack    2\n",
       "816    BOWEN HILLS  Attack    2\n",
       "\n",
       "[179 rows x 3 columns]"
      ]
     },
     "execution_count": 96,
     "metadata": {},
     "output_type": "execute_result"
    }
   ],
   "source": [
    "attack_dff[attack_dff.type.str.contains('Attack',case=True)]"
   ]
  },
  {
   "cell_type": "code",
   "execution_count": 97,
   "metadata": {},
   "outputs": [],
   "source": [
    "attack_pls = attack_dff[attack_dff.type.str.contains('Attack',case=True)]"
   ]
  },
  {
   "cell_type": "code",
   "execution_count": 98,
   "metadata": {},
   "outputs": [
    {
     "data": {
      "text/html": [
       "<div>\n",
       "<style scoped>\n",
       "    .dataframe tbody tr th:only-of-type {\n",
       "        vertical-align: middle;\n",
       "    }\n",
       "\n",
       "    .dataframe tbody tr th {\n",
       "        vertical-align: top;\n",
       "    }\n",
       "\n",
       "    .dataframe thead th {\n",
       "        text-align: right;\n",
       "    }\n",
       "</style>\n",
       "<table border=\"1\" class=\"dataframe\">\n",
       "  <thead>\n",
       "    <tr style=\"text-align: right;\">\n",
       "      <th></th>\n",
       "      <th>suburb</th>\n",
       "      <th>type</th>\n",
       "      <th>0</th>\n",
       "    </tr>\n",
       "  </thead>\n",
       "  <tbody>\n",
       "    <tr>\n",
       "      <th>2</th>\n",
       "      <td>INALA</td>\n",
       "      <td>Attack</td>\n",
       "      <td>144</td>\n",
       "    </tr>\n",
       "    <tr>\n",
       "      <th>22</th>\n",
       "      <td>BRACKEN RIDGE</td>\n",
       "      <td>Attack</td>\n",
       "      <td>88</td>\n",
       "    </tr>\n",
       "    <tr>\n",
       "      <th>42</th>\n",
       "      <td>FOREST LAKE</td>\n",
       "      <td>Attack</td>\n",
       "      <td>69</td>\n",
       "    </tr>\n",
       "    <tr>\n",
       "      <th>46</th>\n",
       "      <td>TARRAGINDI</td>\n",
       "      <td>Attack</td>\n",
       "      <td>67</td>\n",
       "    </tr>\n",
       "    <tr>\n",
       "      <th>51</th>\n",
       "      <td>ACACIA RIDGE</td>\n",
       "      <td>Attack</td>\n",
       "      <td>64</td>\n",
       "    </tr>\n",
       "  </tbody>\n",
       "</table>\n",
       "</div>"
      ],
      "text/plain": [
       "           suburb    type    0\n",
       "2           INALA  Attack  144\n",
       "22  BRACKEN RIDGE  Attack   88\n",
       "42    FOREST LAKE  Attack   69\n",
       "46     TARRAGINDI  Attack   67\n",
       "51   ACACIA RIDGE  Attack   64"
      ]
     },
     "execution_count": 98,
     "metadata": {},
     "output_type": "execute_result"
    }
   ],
   "source": [
    "attack_pls.head()"
   ]
  },
  {
   "cell_type": "code",
   "execution_count": 99,
   "metadata": {},
   "outputs": [],
   "source": [
    "del attack_pls['type']"
   ]
  },
  {
   "cell_type": "code",
   "execution_count": 100,
   "metadata": {},
   "outputs": [
    {
     "data": {
      "text/html": [
       "<div>\n",
       "<style scoped>\n",
       "    .dataframe tbody tr th:only-of-type {\n",
       "        vertical-align: middle;\n",
       "    }\n",
       "\n",
       "    .dataframe tbody tr th {\n",
       "        vertical-align: top;\n",
       "    }\n",
       "\n",
       "    .dataframe thead th {\n",
       "        text-align: right;\n",
       "    }\n",
       "</style>\n",
       "<table border=\"1\" class=\"dataframe\">\n",
       "  <thead>\n",
       "    <tr style=\"text-align: right;\">\n",
       "      <th></th>\n",
       "      <th>suburb</th>\n",
       "      <th>0</th>\n",
       "    </tr>\n",
       "  </thead>\n",
       "  <tbody>\n",
       "    <tr>\n",
       "      <th>2</th>\n",
       "      <td>INALA</td>\n",
       "      <td>144</td>\n",
       "    </tr>\n",
       "    <tr>\n",
       "      <th>22</th>\n",
       "      <td>BRACKEN RIDGE</td>\n",
       "      <td>88</td>\n",
       "    </tr>\n",
       "    <tr>\n",
       "      <th>42</th>\n",
       "      <td>FOREST LAKE</td>\n",
       "      <td>69</td>\n",
       "    </tr>\n",
       "    <tr>\n",
       "      <th>46</th>\n",
       "      <td>TARRAGINDI</td>\n",
       "      <td>67</td>\n",
       "    </tr>\n",
       "    <tr>\n",
       "      <th>51</th>\n",
       "      <td>ACACIA RIDGE</td>\n",
       "      <td>64</td>\n",
       "    </tr>\n",
       "  </tbody>\n",
       "</table>\n",
       "</div>"
      ],
      "text/plain": [
       "           suburb    0\n",
       "2           INALA  144\n",
       "22  BRACKEN RIDGE   88\n",
       "42    FOREST LAKE   69\n",
       "46     TARRAGINDI   67\n",
       "51   ACACIA RIDGE   64"
      ]
     },
     "execution_count": 100,
     "metadata": {},
     "output_type": "execute_result"
    }
   ],
   "source": [
    "attack_pls.head()"
   ]
  },
  {
   "cell_type": "code",
   "execution_count": 101,
   "metadata": {},
   "outputs": [
    {
     "data": {
      "text/html": [
       "<div>\n",
       "<style scoped>\n",
       "    .dataframe tbody tr th:only-of-type {\n",
       "        vertical-align: middle;\n",
       "    }\n",
       "\n",
       "    .dataframe tbody tr th {\n",
       "        vertical-align: top;\n",
       "    }\n",
       "\n",
       "    .dataframe thead th {\n",
       "        text-align: right;\n",
       "    }\n",
       "</style>\n",
       "<table border=\"1\" class=\"dataframe\">\n",
       "  <thead>\n",
       "    <tr style=\"text-align: right;\">\n",
       "      <th></th>\n",
       "      <th>0</th>\n",
       "    </tr>\n",
       "    <tr>\n",
       "      <th>suburb</th>\n",
       "      <th></th>\n",
       "    </tr>\n",
       "  </thead>\n",
       "  <tbody>\n",
       "    <tr>\n",
       "      <th>INALA</th>\n",
       "      <td>144</td>\n",
       "    </tr>\n",
       "    <tr>\n",
       "      <th>BRACKEN RIDGE</th>\n",
       "      <td>88</td>\n",
       "    </tr>\n",
       "    <tr>\n",
       "      <th>FOREST LAKE</th>\n",
       "      <td>69</td>\n",
       "    </tr>\n",
       "    <tr>\n",
       "      <th>TARRAGINDI</th>\n",
       "      <td>67</td>\n",
       "    </tr>\n",
       "    <tr>\n",
       "      <th>ACACIA RIDGE</th>\n",
       "      <td>64</td>\n",
       "    </tr>\n",
       "    <tr>\n",
       "      <th>...</th>\n",
       "      <td>...</td>\n",
       "    </tr>\n",
       "    <tr>\n",
       "      <th>SUMNER</th>\n",
       "      <td>3</td>\n",
       "    </tr>\n",
       "    <tr>\n",
       "      <th>YEERONGPILLY</th>\n",
       "      <td>2</td>\n",
       "    </tr>\n",
       "    <tr>\n",
       "      <th>ALBION</th>\n",
       "      <td>2</td>\n",
       "    </tr>\n",
       "    <tr>\n",
       "      <th>BURBANK</th>\n",
       "      <td>2</td>\n",
       "    </tr>\n",
       "    <tr>\n",
       "      <th>BOWEN HILLS</th>\n",
       "      <td>2</td>\n",
       "    </tr>\n",
       "  </tbody>\n",
       "</table>\n",
       "<p>179 rows × 1 columns</p>\n",
       "</div>"
      ],
      "text/plain": [
       "                 0\n",
       "suburb            \n",
       "INALA          144\n",
       "BRACKEN RIDGE   88\n",
       "FOREST LAKE     69\n",
       "TARRAGINDI      67\n",
       "ACACIA RIDGE    64\n",
       "...            ...\n",
       "SUMNER           3\n",
       "YEERONGPILLY     2\n",
       "ALBION           2\n",
       "BURBANK          2\n",
       "BOWEN HILLS      2\n",
       "\n",
       "[179 rows x 1 columns]"
      ]
     },
     "execution_count": 101,
     "metadata": {},
     "output_type": "execute_result"
    }
   ],
   "source": [
    "df_attack_suburb = attack_pls.set_index('suburb')\n",
    "df_attack_suburb"
   ]
  },
  {
   "cell_type": "code",
   "execution_count": 102,
   "metadata": {},
   "outputs": [],
   "source": [
    "df_attack_suburb.rename(columns = {0:'attacks'}, inplace=True)"
   ]
  },
  {
   "cell_type": "code",
   "execution_count": 103,
   "metadata": {},
   "outputs": [
    {
     "data": {
      "text/html": [
       "<div>\n",
       "<style scoped>\n",
       "    .dataframe tbody tr th:only-of-type {\n",
       "        vertical-align: middle;\n",
       "    }\n",
       "\n",
       "    .dataframe tbody tr th {\n",
       "        vertical-align: top;\n",
       "    }\n",
       "\n",
       "    .dataframe thead th {\n",
       "        text-align: right;\n",
       "    }\n",
       "</style>\n",
       "<table border=\"1\" class=\"dataframe\">\n",
       "  <thead>\n",
       "    <tr style=\"text-align: right;\">\n",
       "      <th></th>\n",
       "      <th>suburb</th>\n",
       "      <th>attacks</th>\n",
       "    </tr>\n",
       "  </thead>\n",
       "  <tbody>\n",
       "    <tr>\n",
       "      <th>0</th>\n",
       "      <td>INALA</td>\n",
       "      <td>144</td>\n",
       "    </tr>\n",
       "    <tr>\n",
       "      <th>1</th>\n",
       "      <td>BRACKEN RIDGE</td>\n",
       "      <td>88</td>\n",
       "    </tr>\n",
       "    <tr>\n",
       "      <th>2</th>\n",
       "      <td>FOREST LAKE</td>\n",
       "      <td>69</td>\n",
       "    </tr>\n",
       "    <tr>\n",
       "      <th>3</th>\n",
       "      <td>TARRAGINDI</td>\n",
       "      <td>67</td>\n",
       "    </tr>\n",
       "    <tr>\n",
       "      <th>4</th>\n",
       "      <td>ACACIA RIDGE</td>\n",
       "      <td>64</td>\n",
       "    </tr>\n",
       "    <tr>\n",
       "      <th>...</th>\n",
       "      <td>...</td>\n",
       "      <td>...</td>\n",
       "    </tr>\n",
       "    <tr>\n",
       "      <th>174</th>\n",
       "      <td>SUMNER</td>\n",
       "      <td>3</td>\n",
       "    </tr>\n",
       "    <tr>\n",
       "      <th>175</th>\n",
       "      <td>YEERONGPILLY</td>\n",
       "      <td>2</td>\n",
       "    </tr>\n",
       "    <tr>\n",
       "      <th>176</th>\n",
       "      <td>ALBION</td>\n",
       "      <td>2</td>\n",
       "    </tr>\n",
       "    <tr>\n",
       "      <th>177</th>\n",
       "      <td>BURBANK</td>\n",
       "      <td>2</td>\n",
       "    </tr>\n",
       "    <tr>\n",
       "      <th>178</th>\n",
       "      <td>BOWEN HILLS</td>\n",
       "      <td>2</td>\n",
       "    </tr>\n",
       "  </tbody>\n",
       "</table>\n",
       "<p>179 rows × 2 columns</p>\n",
       "</div>"
      ],
      "text/plain": [
       "            suburb  attacks\n",
       "0            INALA      144\n",
       "1    BRACKEN RIDGE       88\n",
       "2      FOREST LAKE       69\n",
       "3       TARRAGINDI       67\n",
       "4     ACACIA RIDGE       64\n",
       "..             ...      ...\n",
       "174         SUMNER        3\n",
       "175   YEERONGPILLY        2\n",
       "176         ALBION        2\n",
       "177        BURBANK        2\n",
       "178    BOWEN HILLS        2\n",
       "\n",
       "[179 rows x 2 columns]"
      ]
     },
     "execution_count": 103,
     "metadata": {},
     "output_type": "execute_result"
    }
   ],
   "source": [
    "df_attack_suburb.reset_index(inplace=True)\n",
    "df_attack_suburb"
   ]
  },
  {
   "cell_type": "code",
   "execution_count": 104,
   "metadata": {},
   "outputs": [
    {
     "data": {
      "text/html": [
       "<div>\n",
       "<style scoped>\n",
       "    .dataframe tbody tr th:only-of-type {\n",
       "        vertical-align: middle;\n",
       "    }\n",
       "\n",
       "    .dataframe tbody tr th {\n",
       "        vertical-align: top;\n",
       "    }\n",
       "\n",
       "    .dataframe thead th {\n",
       "        text-align: right;\n",
       "    }\n",
       "</style>\n",
       "<table border=\"1\" class=\"dataframe\">\n",
       "  <thead>\n",
       "    <tr style=\"text-align: right;\">\n",
       "      <th></th>\n",
       "      <th>suburb</th>\n",
       "      <th>attacks</th>\n",
       "    </tr>\n",
       "  </thead>\n",
       "  <tbody>\n",
       "    <tr>\n",
       "      <th>0</th>\n",
       "      <td>INALA</td>\n",
       "      <td>144</td>\n",
       "    </tr>\n",
       "    <tr>\n",
       "      <th>1</th>\n",
       "      <td>BRACKEN RIDGE</td>\n",
       "      <td>88</td>\n",
       "    </tr>\n",
       "    <tr>\n",
       "      <th>2</th>\n",
       "      <td>FOREST LAKE</td>\n",
       "      <td>69</td>\n",
       "    </tr>\n",
       "    <tr>\n",
       "      <th>3</th>\n",
       "      <td>TARRAGINDI</td>\n",
       "      <td>67</td>\n",
       "    </tr>\n",
       "    <tr>\n",
       "      <th>4</th>\n",
       "      <td>ACACIA RIDGE</td>\n",
       "      <td>64</td>\n",
       "    </tr>\n",
       "    <tr>\n",
       "      <th>5</th>\n",
       "      <td>WYNNUM</td>\n",
       "      <td>64</td>\n",
       "    </tr>\n",
       "    <tr>\n",
       "      <th>6</th>\n",
       "      <td>ZILLMERE</td>\n",
       "      <td>63</td>\n",
       "    </tr>\n",
       "    <tr>\n",
       "      <th>7</th>\n",
       "      <td>EVERTON PARK</td>\n",
       "      <td>59</td>\n",
       "    </tr>\n",
       "    <tr>\n",
       "      <th>8</th>\n",
       "      <td>MANLY WEST</td>\n",
       "      <td>59</td>\n",
       "    </tr>\n",
       "    <tr>\n",
       "      <th>9</th>\n",
       "      <td>SUNNYBANK HILLS</td>\n",
       "      <td>58</td>\n",
       "    </tr>\n",
       "  </tbody>\n",
       "</table>\n",
       "</div>"
      ],
      "text/plain": [
       "            suburb  attacks\n",
       "0            INALA      144\n",
       "1    BRACKEN RIDGE       88\n",
       "2      FOREST LAKE       69\n",
       "3       TARRAGINDI       67\n",
       "4     ACACIA RIDGE       64\n",
       "5           WYNNUM       64\n",
       "6         ZILLMERE       63\n",
       "7     EVERTON PARK       59\n",
       "8       MANLY WEST       59\n",
       "9  SUNNYBANK HILLS       58"
      ]
     },
     "execution_count": 104,
     "metadata": {},
     "output_type": "execute_result"
    }
   ],
   "source": [
    "df_attack_suburb = df_attack_suburb.sort_values(by ='attacks', ascending=False)\n",
    "df_attack_suburb.head(10)"
   ]
  },
  {
   "cell_type": "code",
   "execution_count": 105,
   "metadata": {},
   "outputs": [
    {
     "data": {
      "text/html": [
       "<div>\n",
       "<style scoped>\n",
       "    .dataframe tbody tr th:only-of-type {\n",
       "        vertical-align: middle;\n",
       "    }\n",
       "\n",
       "    .dataframe tbody tr th {\n",
       "        vertical-align: top;\n",
       "    }\n",
       "\n",
       "    .dataframe thead th {\n",
       "        text-align: right;\n",
       "    }\n",
       "</style>\n",
       "<table border=\"1\" class=\"dataframe\">\n",
       "  <thead>\n",
       "    <tr style=\"text-align: right;\">\n",
       "      <th></th>\n",
       "      <th>suburb</th>\n",
       "      <th>attacks</th>\n",
       "    </tr>\n",
       "  </thead>\n",
       "  <tbody>\n",
       "    <tr>\n",
       "      <th>0</th>\n",
       "      <td>INALA</td>\n",
       "      <td>144</td>\n",
       "    </tr>\n",
       "    <tr>\n",
       "      <th>1</th>\n",
       "      <td>BRACKEN RIDGE</td>\n",
       "      <td>88</td>\n",
       "    </tr>\n",
       "    <tr>\n",
       "      <th>2</th>\n",
       "      <td>FOREST LAKE</td>\n",
       "      <td>69</td>\n",
       "    </tr>\n",
       "    <tr>\n",
       "      <th>3</th>\n",
       "      <td>TARRAGINDI</td>\n",
       "      <td>67</td>\n",
       "    </tr>\n",
       "    <tr>\n",
       "      <th>4</th>\n",
       "      <td>ACACIA RIDGE</td>\n",
       "      <td>64</td>\n",
       "    </tr>\n",
       "  </tbody>\n",
       "</table>\n",
       "</div>"
      ],
      "text/plain": [
       "          suburb  attacks\n",
       "0          INALA      144\n",
       "1  BRACKEN RIDGE       88\n",
       "2    FOREST LAKE       69\n",
       "3     TARRAGINDI       67\n",
       "4   ACACIA RIDGE       64"
      ]
     },
     "execution_count": 105,
     "metadata": {},
     "output_type": "execute_result"
    }
   ],
   "source": [
    "df_attack_suburb.head()"
   ]
  },
  {
   "cell_type": "code",
   "execution_count": 106,
   "metadata": {},
   "outputs": [
    {
     "data": {
      "text/plain": [
       "dtype('O')"
      ]
     },
     "execution_count": 106,
     "metadata": {},
     "output_type": "execute_result"
    }
   ],
   "source": [
    "#check suburb column dtype to be used for merging dataframes with ABS population data for per capita analysis\n",
    "df_attack_suburb.suburb.dtype"
   ]
  },
  {
   "cell_type": "code",
   "execution_count": 107,
   "metadata": {},
   "outputs": [
    {
     "data": {
      "text/plain": [
       "suburb     0\n",
       "attacks    0\n",
       "dtype: int64"
      ]
     },
     "execution_count": 107,
     "metadata": {},
     "output_type": "execute_result"
    }
   ],
   "source": [
    "#check no missing values\n",
    "df_attack_suburb.isna().sum()"
   ]
  },
  {
   "cell_type": "code",
   "execution_count": 108,
   "metadata": {},
   "outputs": [
    {
     "data": {
      "text/plain": [
       "<bound method NDFrame.describe of             suburb  attacks\n",
       "0            INALA      144\n",
       "1    BRACKEN RIDGE       88\n",
       "2      FOREST LAKE       69\n",
       "3       TARRAGINDI       67\n",
       "4     ACACIA RIDGE       64\n",
       "..             ...      ...\n",
       "174         SUMNER        3\n",
       "175   YEERONGPILLY        2\n",
       "176         ALBION        2\n",
       "177        BURBANK        2\n",
       "178    BOWEN HILLS        2\n",
       "\n",
       "[179 rows x 2 columns]>"
      ]
     },
     "execution_count": 108,
     "metadata": {},
     "output_type": "execute_result"
    }
   ],
   "source": [
    "df_attack_suburb.describe"
   ]
  },
  {
   "cell_type": "code",
   "execution_count": null,
   "metadata": {},
   "outputs": [],
   "source": []
  },
  {
   "cell_type": "code",
   "execution_count": null,
   "metadata": {},
   "outputs": [],
   "source": []
  },
  {
   "cell_type": "code",
   "execution_count": 109,
   "metadata": {},
   "outputs": [],
   "source": [
    "#First attempt at matching complaint data with population data was using Brisbane City Council data which uses the 2016 Aus Census information to provide population by Local Government Area"
   ]
  },
  {
   "cell_type": "code",
   "execution_count": 110,
   "metadata": {},
   "outputs": [],
   "source": [
    "#Brisbane City Council Local Gov Area data from website uploaded\n",
    "Bris_LGApop_by_suburb = pd.read_csv('../Assignment/BNE_BCC_suburbs_by_pop.csv', header=None)"
   ]
  },
  {
   "cell_type": "code",
   "execution_count": 111,
   "metadata": {},
   "outputs": [],
   "source": [
    "#Data checked and cleaned up on column titles and header cases\n",
    "Bris_LGApop_by_suburb.columns = [\"suburb\", \"population\"]"
   ]
  },
  {
   "cell_type": "code",
   "execution_count": 112,
   "metadata": {},
   "outputs": [
    {
     "data": {
      "text/html": [
       "<div>\n",
       "<style scoped>\n",
       "    .dataframe tbody tr th:only-of-type {\n",
       "        vertical-align: middle;\n",
       "    }\n",
       "\n",
       "    .dataframe tbody tr th {\n",
       "        vertical-align: top;\n",
       "    }\n",
       "\n",
       "    .dataframe thead th {\n",
       "        text-align: right;\n",
       "    }\n",
       "</style>\n",
       "<table border=\"1\" class=\"dataframe\">\n",
       "  <thead>\n",
       "    <tr style=\"text-align: right;\">\n",
       "      <th></th>\n",
       "      <th>suburb</th>\n",
       "      <th>population</th>\n",
       "    </tr>\n",
       "  </thead>\n",
       "  <tbody>\n",
       "    <tr>\n",
       "      <th>0</th>\n",
       "      <td>Albion</td>\n",
       "      <td>3542</td>\n",
       "    </tr>\n",
       "    <tr>\n",
       "      <th>1</th>\n",
       "      <td>Alderley</td>\n",
       "      <td>6618</td>\n",
       "    </tr>\n",
       "    <tr>\n",
       "      <th>2</th>\n",
       "      <td>Algester</td>\n",
       "      <td>9161</td>\n",
       "    </tr>\n",
       "    <tr>\n",
       "      <th>3</th>\n",
       "      <td>Annerley</td>\n",
       "      <td>12489</td>\n",
       "    </tr>\n",
       "    <tr>\n",
       "      <th>4</th>\n",
       "      <td>Ascot</td>\n",
       "      <td>5634</td>\n",
       "    </tr>\n",
       "  </tbody>\n",
       "</table>\n",
       "</div>"
      ],
      "text/plain": [
       "     suburb  population\n",
       "0    Albion        3542\n",
       "1  Alderley        6618\n",
       "2  Algester        9161\n",
       "3  Annerley       12489\n",
       "4     Ascot        5634"
      ]
     },
     "execution_count": 112,
     "metadata": {},
     "output_type": "execute_result"
    }
   ],
   "source": [
    "Bris_LGApop_by_suburb.head()"
   ]
  },
  {
   "cell_type": "code",
   "execution_count": 113,
   "metadata": {},
   "outputs": [],
   "source": [
    "Bris_LGApop_by_suburb['suburb'] = Bris_LGApop_by_suburb['suburb'].str.upper()"
   ]
  },
  {
   "cell_type": "code",
   "execution_count": 114,
   "metadata": {},
   "outputs": [
    {
     "data": {
      "text/html": [
       "<div>\n",
       "<style scoped>\n",
       "    .dataframe tbody tr th:only-of-type {\n",
       "        vertical-align: middle;\n",
       "    }\n",
       "\n",
       "    .dataframe tbody tr th {\n",
       "        vertical-align: top;\n",
       "    }\n",
       "\n",
       "    .dataframe thead th {\n",
       "        text-align: right;\n",
       "    }\n",
       "</style>\n",
       "<table border=\"1\" class=\"dataframe\">\n",
       "  <thead>\n",
       "    <tr style=\"text-align: right;\">\n",
       "      <th></th>\n",
       "      <th>suburb</th>\n",
       "      <th>population</th>\n",
       "    </tr>\n",
       "  </thead>\n",
       "  <tbody>\n",
       "    <tr>\n",
       "      <th>0</th>\n",
       "      <td>ALBION</td>\n",
       "      <td>3542</td>\n",
       "    </tr>\n",
       "    <tr>\n",
       "      <th>1</th>\n",
       "      <td>ALDERLEY</td>\n",
       "      <td>6618</td>\n",
       "    </tr>\n",
       "    <tr>\n",
       "      <th>2</th>\n",
       "      <td>ALGESTER</td>\n",
       "      <td>9161</td>\n",
       "    </tr>\n",
       "    <tr>\n",
       "      <th>3</th>\n",
       "      <td>ANNERLEY</td>\n",
       "      <td>12489</td>\n",
       "    </tr>\n",
       "    <tr>\n",
       "      <th>4</th>\n",
       "      <td>ASCOT</td>\n",
       "      <td>5634</td>\n",
       "    </tr>\n",
       "  </tbody>\n",
       "</table>\n",
       "</div>"
      ],
      "text/plain": [
       "     suburb  population\n",
       "0    ALBION        3542\n",
       "1  ALDERLEY        6618\n",
       "2  ALGESTER        9161\n",
       "3  ANNERLEY       12489\n",
       "4     ASCOT        5634"
      ]
     },
     "execution_count": 114,
     "metadata": {},
     "output_type": "execute_result"
    }
   ],
   "source": [
    "Bris_LGApop_by_suburb.head()"
   ]
  },
  {
   "cell_type": "code",
   "execution_count": 115,
   "metadata": {},
   "outputs": [
    {
     "data": {
      "text/plain": [
       "suburb        object\n",
       "population     int64\n",
       "dtype: object"
      ]
     },
     "execution_count": 115,
     "metadata": {},
     "output_type": "execute_result"
    }
   ],
   "source": [
    "#check dataset and data types for joing/merging with other data sets using the suburb columns values\n",
    "Bris_LGApop_by_suburb.dtypes"
   ]
  },
  {
   "cell_type": "code",
   "execution_count": 116,
   "metadata": {},
   "outputs": [
    {
     "data": {
      "text/plain": [
       "<bound method NDFrame.describe of                     suburb  population\n",
       "0                   ALBION        3542\n",
       "1                 ALDERLEY        6618\n",
       "2                 ALGESTER        9161\n",
       "3                 ANNERLEY       12489\n",
       "4                    ASCOT        5634\n",
       "..                     ...         ...\n",
       "128   WOOLOOWIN - LUTWYCHE       11154\n",
       "129                 WYNNUM       14466\n",
       "130  WYNNUM WEST - HEMMANT       15738\n",
       "131                YERONGA       10582\n",
       "132               ZILLMERE        9623\n",
       "\n",
       "[133 rows x 2 columns]>"
      ]
     },
     "execution_count": 116,
     "metadata": {},
     "output_type": "execute_result"
    }
   ],
   "source": [
    "Bris_LGApop_by_suburb.describe"
   ]
  },
  {
   "cell_type": "code",
   "execution_count": 117,
   "metadata": {},
   "outputs": [
    {
     "data": {
      "text/plain": [
       "array(['ALBION', 'ALDERLEY', 'ALGESTER', 'ANNERLEY', 'ASCOT', 'ASHGROVE',\n",
       "       'ASPLEY', 'AUCHENFLOWER', 'BALD HILLS', 'BALMORAL', 'BARDON',\n",
       "       'BELLBOWRIE - MOGGILL', 'BELMONT - GUMDALE', 'BOONDALL',\n",
       "       'BRACKEN RIDGE', 'BRIDGEMAN DOWNS', 'BRIGHTON (QLD)',\n",
       "       'BRISBANE AIRPORT', 'BRISBANE CITY', 'BRISBANE PORT - LYTTON',\n",
       "       'BROOKFIELD - KENMORE HILLS', 'BULIMBA', 'CALAMVALE - STRETTON',\n",
       "       'CAMP HILL', 'CANNON HILL', 'CARINA', 'CARINA HEIGHTS',\n",
       "       'CARINDALE', 'CARSELDINE', 'CHAPEL HILL', 'CHELMER - GRACEVILLE',\n",
       "       'CHERMSIDE', 'CHERMSIDE WEST', 'CLAYFIELD', 'COOPERS PLAINS',\n",
       "       'COORPAROO', 'CORINDA', 'DARRA - SUMNER', 'DEAGON', 'DURACK',\n",
       "       'EAGLE FARM - PINKENBA', 'EAST BRISBANE', 'EIGHT MILE PLAINS',\n",
       "       'ENOGGERA', 'ENOGGERA RESERVOIR', 'EVERTON PARK',\n",
       "       'FAIRFIELD - DUTTON PARK', 'FIG TREE POCKET',\n",
       "       'FOREST LAKE - DOOLANDELLA', 'FORTITUDE VALLEY', 'GEEBUNG',\n",
       "       'GRANGE', 'GREENSLOPES', 'HAMILTON (QLD)', 'HAWTHORNE', 'HENDRA',\n",
       "       'HIGHGATE HILL', 'HOLLAND PARK', 'HOLLAND PARK WEST',\n",
       "       'INALA - RICHLANDS', 'INDOOROOPILLY', 'JINDALEE - MOUNT OMMANEY',\n",
       "       'KANGAROO POINT', 'KARANA DOWNS', 'KEDRON - GORDON PARK',\n",
       "       'KELVIN GROVE - HERSTON', 'KENMORE', 'KEPERRA', 'KURABY',\n",
       "       'LAKE MANCHESTER - ENGLAND CREEK', 'MACGREGOR (QLD)',\n",
       "       'MANLY - LOTA', 'MANLY WEST', 'MANSFIELD (QLD)', 'MCDOWALL',\n",
       "       'MIDDLE PARK - JAMBOREE HEIGHTS', 'MOOROOKA',\n",
       "       'MORNINGSIDE - SEVEN HILLS', 'MOUNT COOT-THA', 'MOUNT GRAVATT',\n",
       "       'MURARRIE', 'NEW FARM', 'NEWMARKET', 'NEWSTEAD - BOWEN HILLS',\n",
       "       'NORMAN PARK', 'NORTHGATE - VIRGINIA', 'NUDGEE - BANYO', 'NUNDAH',\n",
       "       'OXLEY (QLD)', 'PADDINGTON - MILTON', 'PALLARA - WILLAWONG',\n",
       "       'PARKINSON - DREWVALE', 'PINJARRA HILLS - PULLENVALE',\n",
       "       'RED HILL (QLD)', 'RIVERHILLS', 'ROBERTSON', 'ROCHEDALE - BURBANK',\n",
       "       'ROCKLEA - ACACIA RIDGE', 'RUNCORN', 'SALISBURY - NATHAN',\n",
       "       'SANDGATE - SHORNCLIFFE', 'SCARBOROUGH - NEWPORT - MORETON ISLAND',\n",
       "       'SEVENTEEN MILE ROCKS - SINNAMON PARK', 'SHERWOOD',\n",
       "       'SOUTH BRISBANE', 'SPRING HILL', 'ST LUCIA', 'STAFFORD',\n",
       "       'STAFFORD HEIGHTS', 'SUNNYBANK', 'SUNNYBANK HILLS',\n",
       "       'TAIGUM - FITZGIBBON', 'TARINGA', 'TARRAGINDI', 'THE GAP',\n",
       "       'TINGALPA', 'TOOWONG', 'UPPER KEDRON - FERNY GROVE',\n",
       "       'UPPER MOUNT GRAVATT', 'WACOL', 'WAKERLEY', 'WAVELL HEIGHTS',\n",
       "       'WEST END', 'WESTLAKE', 'WILSTON', 'WINDSOR', 'WISHART',\n",
       "       'WOOLLOONGABBA', 'WOOLOOWIN - LUTWYCHE', 'WYNNUM',\n",
       "       'WYNNUM WEST - HEMMANT', 'YERONGA', 'ZILLMERE'], dtype=object)"
      ]
     },
     "execution_count": 117,
     "metadata": {},
     "output_type": "execute_result"
    }
   ],
   "source": [
    "#inspect the orignal Brisbane City Council suburb data. Can see they combine a number of suburbs which doesn't happen in the Animal Complaint data suburb data hence the join/ merging success rate would be impacted negatively\n",
    "Bris_LGApop_by_suburb['suburb'].unique()"
   ]
  },
  {
   "cell_type": "code",
   "execution_count": 118,
   "metadata": {},
   "outputs": [
    {
     "data": {
      "text/plain": [
       "<bound method DataFrame.info of                     suburb  population\n",
       "0                   ALBION        3542\n",
       "1                 ALDERLEY        6618\n",
       "2                 ALGESTER        9161\n",
       "3                 ANNERLEY       12489\n",
       "4                    ASCOT        5634\n",
       "..                     ...         ...\n",
       "128   WOOLOOWIN - LUTWYCHE       11154\n",
       "129                 WYNNUM       14466\n",
       "130  WYNNUM WEST - HEMMANT       15738\n",
       "131                YERONGA       10582\n",
       "132               ZILLMERE        9623\n",
       "\n",
       "[133 rows x 2 columns]>"
      ]
     },
     "execution_count": 118,
     "metadata": {},
     "output_type": "execute_result"
    }
   ],
   "source": [
    "# only a total of 133 suburbs which INCLUDES the merged suburb populations (so actual success merges would be less than this) showing again the merging with complaints data would be less successful\n",
    "Bris_LGApop_by_suburb.info"
   ]
  },
  {
   "cell_type": "code",
   "execution_count": null,
   "metadata": {},
   "outputs": [],
   "source": []
  },
  {
   "cell_type": "code",
   "execution_count": 119,
   "metadata": {},
   "outputs": [],
   "source": [
    "#Continue with Attempt 1 to start merging the revevant data sets"
   ]
  },
  {
   "cell_type": "code",
   "execution_count": 120,
   "metadata": {},
   "outputs": [
    {
     "data": {
      "text/html": [
       "<div>\n",
       "<style scoped>\n",
       "    .dataframe tbody tr th:only-of-type {\n",
       "        vertical-align: middle;\n",
       "    }\n",
       "\n",
       "    .dataframe tbody tr th {\n",
       "        vertical-align: top;\n",
       "    }\n",
       "\n",
       "    .dataframe thead th {\n",
       "        text-align: right;\n",
       "    }\n",
       "</style>\n",
       "<table border=\"1\" class=\"dataframe\">\n",
       "  <thead>\n",
       "    <tr style=\"text-align: right;\">\n",
       "      <th></th>\n",
       "      <th>suburb</th>\n",
       "      <th>complaints</th>\n",
       "      <th>attacks</th>\n",
       "    </tr>\n",
       "  </thead>\n",
       "  <tbody>\n",
       "    <tr>\n",
       "      <th>0</th>\n",
       "      <td>INALA</td>\n",
       "      <td>563</td>\n",
       "      <td>144.0</td>\n",
       "    </tr>\n",
       "    <tr>\n",
       "      <th>1</th>\n",
       "      <td>BRACKEN RIDGE</td>\n",
       "      <td>330</td>\n",
       "      <td>88.0</td>\n",
       "    </tr>\n",
       "    <tr>\n",
       "      <th>2</th>\n",
       "      <td>CHERMSIDE</td>\n",
       "      <td>304</td>\n",
       "      <td>35.0</td>\n",
       "    </tr>\n",
       "    <tr>\n",
       "      <th>3</th>\n",
       "      <td>FOREST LAKE</td>\n",
       "      <td>293</td>\n",
       "      <td>69.0</td>\n",
       "    </tr>\n",
       "    <tr>\n",
       "      <th>4</th>\n",
       "      <td>WYNNUM</td>\n",
       "      <td>258</td>\n",
       "      <td>64.0</td>\n",
       "    </tr>\n",
       "    <tr>\n",
       "      <th>...</th>\n",
       "      <td>...</td>\n",
       "      <td>...</td>\n",
       "      <td>...</td>\n",
       "    </tr>\n",
       "    <tr>\n",
       "      <th>182</th>\n",
       "      <td>LAKE MANCHESTER</td>\n",
       "      <td>5</td>\n",
       "      <td>NaN</td>\n",
       "    </tr>\n",
       "    <tr>\n",
       "      <th>183</th>\n",
       "      <td>EAGLE FARM</td>\n",
       "      <td>5</td>\n",
       "      <td>NaN</td>\n",
       "    </tr>\n",
       "    <tr>\n",
       "      <th>184</th>\n",
       "      <td>MORETON ISLAND</td>\n",
       "      <td>2</td>\n",
       "      <td>NaN</td>\n",
       "    </tr>\n",
       "    <tr>\n",
       "      <th>185</th>\n",
       "      <td>TENNYSON</td>\n",
       "      <td>2</td>\n",
       "      <td>NaN</td>\n",
       "    </tr>\n",
       "    <tr>\n",
       "      <th>186</th>\n",
       "      <td>PORT OF BRISBANE</td>\n",
       "      <td>1</td>\n",
       "      <td>NaN</td>\n",
       "    </tr>\n",
       "  </tbody>\n",
       "</table>\n",
       "<p>187 rows × 3 columns</p>\n",
       "</div>"
      ],
      "text/plain": [
       "               suburb  complaints  attacks\n",
       "0               INALA         563    144.0\n",
       "1       BRACKEN RIDGE         330     88.0\n",
       "2           CHERMSIDE         304     35.0\n",
       "3         FOREST LAKE         293     69.0\n",
       "4              WYNNUM         258     64.0\n",
       "..                ...         ...      ...\n",
       "182   LAKE MANCHESTER           5      NaN\n",
       "183        EAGLE FARM           5      NaN\n",
       "184    MORETON ISLAND           2      NaN\n",
       "185          TENNYSON           2      NaN\n",
       "186  PORT OF BRISBANE           1      NaN\n",
       "\n",
       "[187 rows x 3 columns]"
      ]
     },
     "execution_count": 120,
     "metadata": {},
     "output_type": "execute_result"
    }
   ],
   "source": [
    "#merge the datasets for total complaints by suburb and total attacks by suburb using the suburb column values\n",
    "df_suburbcounts_attack_join = pd.merge(df_suburb_count, df_attack_suburb,on='suburb',how='outer')\n",
    "df_suburbcounts_attack_join"
   ]
  },
  {
   "cell_type": "code",
   "execution_count": 121,
   "metadata": {},
   "outputs": [
    {
     "data": {
      "text/plain": [
       "suburb        0\n",
       "complaints    0\n",
       "attacks       8\n",
       "dtype: int64"
      ]
     },
     "execution_count": 121,
     "metadata": {},
     "output_type": "execute_result"
    }
   ],
   "source": [
    "#check missing data. Accepted that some suburbs might have zero attacks over the 24 month period\n",
    "df_suburbcounts_attack_join.isna().sum()"
   ]
  },
  {
   "cell_type": "code",
   "execution_count": null,
   "metadata": {},
   "outputs": [],
   "source": []
  },
  {
   "cell_type": "code",
   "execution_count": 122,
   "metadata": {},
   "outputs": [
    {
     "data": {
      "text/html": [
       "<div>\n",
       "<style scoped>\n",
       "    .dataframe tbody tr th:only-of-type {\n",
       "        vertical-align: middle;\n",
       "    }\n",
       "\n",
       "    .dataframe tbody tr th {\n",
       "        vertical-align: top;\n",
       "    }\n",
       "\n",
       "    .dataframe thead th {\n",
       "        text-align: right;\n",
       "    }\n",
       "</style>\n",
       "<table border=\"1\" class=\"dataframe\">\n",
       "  <thead>\n",
       "    <tr style=\"text-align: right;\">\n",
       "      <th></th>\n",
       "      <th>suburb</th>\n",
       "      <th>complaints</th>\n",
       "      <th>attacks</th>\n",
       "      <th>population</th>\n",
       "    </tr>\n",
       "  </thead>\n",
       "  <tbody>\n",
       "    <tr>\n",
       "      <th>0</th>\n",
       "      <td>INALA</td>\n",
       "      <td>563.0</td>\n",
       "      <td>144.0</td>\n",
       "      <td>NaN</td>\n",
       "    </tr>\n",
       "    <tr>\n",
       "      <th>1</th>\n",
       "      <td>BRACKEN RIDGE</td>\n",
       "      <td>330.0</td>\n",
       "      <td>88.0</td>\n",
       "      <td>17825.0</td>\n",
       "    </tr>\n",
       "    <tr>\n",
       "      <th>2</th>\n",
       "      <td>CHERMSIDE</td>\n",
       "      <td>304.0</td>\n",
       "      <td>35.0</td>\n",
       "      <td>10425.0</td>\n",
       "    </tr>\n",
       "    <tr>\n",
       "      <th>3</th>\n",
       "      <td>FOREST LAKE</td>\n",
       "      <td>293.0</td>\n",
       "      <td>69.0</td>\n",
       "      <td>NaN</td>\n",
       "    </tr>\n",
       "    <tr>\n",
       "      <th>4</th>\n",
       "      <td>WYNNUM</td>\n",
       "      <td>258.0</td>\n",
       "      <td>64.0</td>\n",
       "      <td>14466.0</td>\n",
       "    </tr>\n",
       "    <tr>\n",
       "      <th>...</th>\n",
       "      <td>...</td>\n",
       "      <td>...</td>\n",
       "      <td>...</td>\n",
       "      <td>...</td>\n",
       "    </tr>\n",
       "    <tr>\n",
       "      <th>224</th>\n",
       "      <td>SEVENTEEN MILE ROCKS - SINNAMON PARK</td>\n",
       "      <td>NaN</td>\n",
       "      <td>NaN</td>\n",
       "      <td>9929.0</td>\n",
       "    </tr>\n",
       "    <tr>\n",
       "      <th>225</th>\n",
       "      <td>TAIGUM - FITZGIBBON</td>\n",
       "      <td>NaN</td>\n",
       "      <td>NaN</td>\n",
       "      <td>14302.0</td>\n",
       "    </tr>\n",
       "    <tr>\n",
       "      <th>226</th>\n",
       "      <td>UPPER KEDRON - FERNY GROVE</td>\n",
       "      <td>NaN</td>\n",
       "      <td>NaN</td>\n",
       "      <td>11175.0</td>\n",
       "    </tr>\n",
       "    <tr>\n",
       "      <th>227</th>\n",
       "      <td>WOOLOOWIN - LUTWYCHE</td>\n",
       "      <td>NaN</td>\n",
       "      <td>NaN</td>\n",
       "      <td>11154.0</td>\n",
       "    </tr>\n",
       "    <tr>\n",
       "      <th>228</th>\n",
       "      <td>WYNNUM WEST - HEMMANT</td>\n",
       "      <td>NaN</td>\n",
       "      <td>NaN</td>\n",
       "      <td>15738.0</td>\n",
       "    </tr>\n",
       "  </tbody>\n",
       "</table>\n",
       "<p>229 rows × 4 columns</p>\n",
       "</div>"
      ],
      "text/plain": [
       "                                   suburb  complaints  attacks  population\n",
       "0                                   INALA       563.0    144.0         NaN\n",
       "1                           BRACKEN RIDGE       330.0     88.0     17825.0\n",
       "2                               CHERMSIDE       304.0     35.0     10425.0\n",
       "3                             FOREST LAKE       293.0     69.0         NaN\n",
       "4                                  WYNNUM       258.0     64.0     14466.0\n",
       "..                                    ...         ...      ...         ...\n",
       "224  SEVENTEEN MILE ROCKS - SINNAMON PARK         NaN      NaN      9929.0\n",
       "225                   TAIGUM - FITZGIBBON         NaN      NaN     14302.0\n",
       "226            UPPER KEDRON - FERNY GROVE         NaN      NaN     11175.0\n",
       "227                  WOOLOOWIN - LUTWYCHE         NaN      NaN     11154.0\n",
       "228                 WYNNUM WEST - HEMMANT         NaN      NaN     15738.0\n",
       "\n",
       "[229 rows x 4 columns]"
      ]
     },
     "execution_count": 122,
     "metadata": {},
     "output_type": "execute_result"
    }
   ],
   "source": [
    "#now merge this data set with the population by suburb data from Bris City Council to allow per capita complaint calculations. This is joining/merging which is a problem due to the different suburb definitions\n",
    "df_pop_attack_count_join = pd.merge(df_suburbcounts_attack_join, Bris_LGApop_by_suburb, on='suburb',how='outer')\n",
    "df_pop_attack_count_join"
   ]
  },
  {
   "cell_type": "code",
   "execution_count": 123,
   "metadata": {},
   "outputs": [
    {
     "data": {
      "text/plain": [
       "139"
      ]
     },
     "execution_count": 123,
     "metadata": {},
     "output_type": "execute_result"
    }
   ],
   "source": [
    "#check the number of rows with at least one missing value. This is high the number of total suburbs was c.180\n",
    "sum(df_pop_attack_count_join.apply(lambda x: sum(x.isnull().values), axis = 1)>0)"
   ]
  },
  {
   "cell_type": "code",
   "execution_count": 124,
   "metadata": {},
   "outputs": [
    {
     "data": {
      "text/plain": [
       "suburb         0\n",
       "complaints    42\n",
       "attacks       50\n",
       "population    96\n",
       "dtype: int64"
      ]
     },
     "execution_count": 124,
     "metadata": {},
     "output_type": "execute_result"
    }
   ],
   "source": [
    "#checking new joined data and missing values\n",
    "df_pop_attack_count_join.isna().sum()"
   ]
  },
  {
   "cell_type": "code",
   "execution_count": 125,
   "metadata": {},
   "outputs": [
    {
     "data": {
      "text/plain": [
       "<bound method NDFrame.describe of                                    suburb  complaints  attacks  population\n",
       "0                                   INALA       563.0    144.0         NaN\n",
       "1                           BRACKEN RIDGE       330.0     88.0     17825.0\n",
       "2                               CHERMSIDE       304.0     35.0     10425.0\n",
       "3                             FOREST LAKE       293.0     69.0         NaN\n",
       "4                                  WYNNUM       258.0     64.0     14466.0\n",
       "..                                    ...         ...      ...         ...\n",
       "224  SEVENTEEN MILE ROCKS - SINNAMON PARK         NaN      NaN      9929.0\n",
       "225                   TAIGUM - FITZGIBBON         NaN      NaN     14302.0\n",
       "226            UPPER KEDRON - FERNY GROVE         NaN      NaN     11175.0\n",
       "227                  WOOLOOWIN - LUTWYCHE         NaN      NaN     11154.0\n",
       "228                 WYNNUM WEST - HEMMANT         NaN      NaN     15738.0\n",
       "\n",
       "[229 rows x 4 columns]>"
      ]
     },
     "execution_count": 125,
     "metadata": {},
     "output_type": "execute_result"
    }
   ],
   "source": [
    "df_pop_attack_count_join.describe"
   ]
  },
  {
   "cell_type": "code",
   "execution_count": null,
   "metadata": {},
   "outputs": [],
   "source": []
  },
  {
   "cell_type": "code",
   "execution_count": null,
   "metadata": {},
   "outputs": [],
   "source": []
  },
  {
   "cell_type": "code",
   "execution_count": 126,
   "metadata": {},
   "outputs": [],
   "source": [
    "## Given the issues in matching by suburb, decision taken to investigate new suburb population data which better matches the Animal complaint data suburb definitions."
   ]
  },
  {
   "cell_type": "code",
   "execution_count": 127,
   "metadata": {},
   "outputs": [],
   "source": [
    "#new data set with population counts for all of QLD idenified from ABS website via their table builder using 2016 Census data for suburb. \n",
    "ABS_qldsuburbs_pop = pd.read_csv('../Assignment/table_ABS_qld_suburbs.csv', header=None)"
   ]
  },
  {
   "cell_type": "code",
   "execution_count": 128,
   "metadata": {},
   "outputs": [
    {
     "data": {
      "text/html": [
       "<div>\n",
       "<style scoped>\n",
       "    .dataframe tbody tr th:only-of-type {\n",
       "        vertical-align: middle;\n",
       "    }\n",
       "\n",
       "    .dataframe tbody tr th {\n",
       "        vertical-align: top;\n",
       "    }\n",
       "\n",
       "    .dataframe thead th {\n",
       "        text-align: right;\n",
       "    }\n",
       "</style>\n",
       "<table border=\"1\" class=\"dataframe\">\n",
       "  <thead>\n",
       "    <tr style=\"text-align: right;\">\n",
       "      <th></th>\n",
       "      <th>0</th>\n",
       "      <th>1</th>\n",
       "    </tr>\n",
       "  </thead>\n",
       "  <tbody>\n",
       "    <tr>\n",
       "      <th>0</th>\n",
       "      <td>Abbeywood</td>\n",
       "      <td>20</td>\n",
       "    </tr>\n",
       "    <tr>\n",
       "      <th>1</th>\n",
       "      <td>Abbotsford (Qld)</td>\n",
       "      <td>0</td>\n",
       "    </tr>\n",
       "    <tr>\n",
       "      <th>2</th>\n",
       "      <td>Abercorn</td>\n",
       "      <td>42</td>\n",
       "    </tr>\n",
       "    <tr>\n",
       "      <th>3</th>\n",
       "      <td>Abergowrie</td>\n",
       "      <td>434</td>\n",
       "    </tr>\n",
       "    <tr>\n",
       "      <th>4</th>\n",
       "      <td>Abingdon Downs</td>\n",
       "      <td>0</td>\n",
       "    </tr>\n",
       "    <tr>\n",
       "      <th>5</th>\n",
       "      <td>Abington (Qld)</td>\n",
       "      <td>57</td>\n",
       "    </tr>\n",
       "    <tr>\n",
       "      <th>6</th>\n",
       "      <td>Acacia Ridge</td>\n",
       "      <td>7430</td>\n",
       "    </tr>\n",
       "    <tr>\n",
       "      <th>7</th>\n",
       "      <td>Acland</td>\n",
       "      <td>27</td>\n",
       "    </tr>\n",
       "  </tbody>\n",
       "</table>\n",
       "</div>"
      ],
      "text/plain": [
       "                  0     1\n",
       "0         Abbeywood    20\n",
       "1  Abbotsford (Qld)     0\n",
       "2          Abercorn    42\n",
       "3        Abergowrie   434\n",
       "4    Abingdon Downs     0\n",
       "5    Abington (Qld)    57\n",
       "6      Acacia Ridge  7430\n",
       "7            Acland    27"
      ]
     },
     "execution_count": 128,
     "metadata": {},
     "output_type": "execute_result"
    }
   ],
   "source": [
    "#new data set checked. Can see some suburb have (Qld) after their name which is problem for joining. \n",
    "ABS_qldsuburbs_pop.head(8)"
   ]
  },
  {
   "cell_type": "code",
   "execution_count": 129,
   "metadata": {},
   "outputs": [],
   "source": [
    "#tidy up column names and check data types\n",
    "ABS_qldsuburbs_pop.columns = [\"suburb\", \"population\"]"
   ]
  },
  {
   "cell_type": "code",
   "execution_count": 130,
   "metadata": {},
   "outputs": [
    {
     "data": {
      "text/html": [
       "<div>\n",
       "<style scoped>\n",
       "    .dataframe tbody tr th:only-of-type {\n",
       "        vertical-align: middle;\n",
       "    }\n",
       "\n",
       "    .dataframe tbody tr th {\n",
       "        vertical-align: top;\n",
       "    }\n",
       "\n",
       "    .dataframe thead th {\n",
       "        text-align: right;\n",
       "    }\n",
       "</style>\n",
       "<table border=\"1\" class=\"dataframe\">\n",
       "  <thead>\n",
       "    <tr style=\"text-align: right;\">\n",
       "      <th></th>\n",
       "      <th>suburb</th>\n",
       "      <th>population</th>\n",
       "    </tr>\n",
       "  </thead>\n",
       "  <tbody>\n",
       "    <tr>\n",
       "      <th>0</th>\n",
       "      <td>Abbeywood</td>\n",
       "      <td>20</td>\n",
       "    </tr>\n",
       "    <tr>\n",
       "      <th>1</th>\n",
       "      <td>Abbotsford (Qld)</td>\n",
       "      <td>0</td>\n",
       "    </tr>\n",
       "    <tr>\n",
       "      <th>2</th>\n",
       "      <td>Abercorn</td>\n",
       "      <td>42</td>\n",
       "    </tr>\n",
       "    <tr>\n",
       "      <th>3</th>\n",
       "      <td>Abergowrie</td>\n",
       "      <td>434</td>\n",
       "    </tr>\n",
       "    <tr>\n",
       "      <th>4</th>\n",
       "      <td>Abingdon Downs</td>\n",
       "      <td>0</td>\n",
       "    </tr>\n",
       "  </tbody>\n",
       "</table>\n",
       "</div>"
      ],
      "text/plain": [
       "             suburb  population\n",
       "0         Abbeywood          20\n",
       "1  Abbotsford (Qld)           0\n",
       "2          Abercorn          42\n",
       "3        Abergowrie         434\n",
       "4    Abingdon Downs           0"
      ]
     },
     "execution_count": 130,
     "metadata": {},
     "output_type": "execute_result"
    }
   ],
   "source": [
    "ABS_qldsuburbs_pop.head()"
   ]
  },
  {
   "cell_type": "code",
   "execution_count": 131,
   "metadata": {},
   "outputs": [
    {
     "data": {
      "text/plain": [
       "suburb        object\n",
       "population     int64\n",
       "dtype: object"
      ]
     },
     "execution_count": 131,
     "metadata": {},
     "output_type": "execute_result"
    }
   ],
   "source": [
    "ABS_qldsuburbs_pop.dtypes"
   ]
  },
  {
   "cell_type": "code",
   "execution_count": null,
   "metadata": {},
   "outputs": [],
   "source": []
  },
  {
   "cell_type": "code",
   "execution_count": 132,
   "metadata": {},
   "outputs": [],
   "source": [
    "ABS_qldsuburbs_pop['suburb'] = ABS_qldsuburbs_pop['suburb'].str.upper()"
   ]
  },
  {
   "cell_type": "code",
   "execution_count": 133,
   "metadata": {},
   "outputs": [
    {
     "data": {
      "text/html": [
       "<div>\n",
       "<style scoped>\n",
       "    .dataframe tbody tr th:only-of-type {\n",
       "        vertical-align: middle;\n",
       "    }\n",
       "\n",
       "    .dataframe tbody tr th {\n",
       "        vertical-align: top;\n",
       "    }\n",
       "\n",
       "    .dataframe thead th {\n",
       "        text-align: right;\n",
       "    }\n",
       "</style>\n",
       "<table border=\"1\" class=\"dataframe\">\n",
       "  <thead>\n",
       "    <tr style=\"text-align: right;\">\n",
       "      <th></th>\n",
       "      <th>suburb</th>\n",
       "      <th>population</th>\n",
       "    </tr>\n",
       "  </thead>\n",
       "  <tbody>\n",
       "    <tr>\n",
       "      <th>0</th>\n",
       "      <td>ABBEYWOOD</td>\n",
       "      <td>20</td>\n",
       "    </tr>\n",
       "    <tr>\n",
       "      <th>1</th>\n",
       "      <td>ABBOTSFORD (QLD)</td>\n",
       "      <td>0</td>\n",
       "    </tr>\n",
       "    <tr>\n",
       "      <th>2</th>\n",
       "      <td>ABERCORN</td>\n",
       "      <td>42</td>\n",
       "    </tr>\n",
       "    <tr>\n",
       "      <th>3</th>\n",
       "      <td>ABERGOWRIE</td>\n",
       "      <td>434</td>\n",
       "    </tr>\n",
       "    <tr>\n",
       "      <th>4</th>\n",
       "      <td>ABINGDON DOWNS</td>\n",
       "      <td>0</td>\n",
       "    </tr>\n",
       "  </tbody>\n",
       "</table>\n",
       "</div>"
      ],
      "text/plain": [
       "             suburb  population\n",
       "0         ABBEYWOOD          20\n",
       "1  ABBOTSFORD (QLD)           0\n",
       "2          ABERCORN          42\n",
       "3        ABERGOWRIE         434\n",
       "4    ABINGDON DOWNS           0"
      ]
     },
     "execution_count": 133,
     "metadata": {},
     "output_type": "execute_result"
    }
   ],
   "source": [
    "ABS_qldsuburbs_pop.head()"
   ]
  },
  {
   "cell_type": "code",
   "execution_count": 134,
   "metadata": {},
   "outputs": [
    {
     "data": {
      "text/html": [
       "<div>\n",
       "<style scoped>\n",
       "    .dataframe tbody tr th:only-of-type {\n",
       "        vertical-align: middle;\n",
       "    }\n",
       "\n",
       "    .dataframe tbody tr th {\n",
       "        vertical-align: top;\n",
       "    }\n",
       "\n",
       "    .dataframe thead th {\n",
       "        text-align: right;\n",
       "    }\n",
       "</style>\n",
       "<table border=\"1\" class=\"dataframe\">\n",
       "  <thead>\n",
       "    <tr style=\"text-align: right;\">\n",
       "      <th></th>\n",
       "      <th>suburb</th>\n",
       "      <th>population</th>\n",
       "    </tr>\n",
       "  </thead>\n",
       "  <tbody>\n",
       "    <tr>\n",
       "      <th>0</th>\n",
       "      <td>ABBEYWOOD</td>\n",
       "      <td>20</td>\n",
       "    </tr>\n",
       "    <tr>\n",
       "      <th>1</th>\n",
       "      <td>ABBOTSFORD</td>\n",
       "      <td>0</td>\n",
       "    </tr>\n",
       "    <tr>\n",
       "      <th>2</th>\n",
       "      <td>ABERCORN</td>\n",
       "      <td>42</td>\n",
       "    </tr>\n",
       "    <tr>\n",
       "      <th>3</th>\n",
       "      <td>ABERGOWRIE</td>\n",
       "      <td>434</td>\n",
       "    </tr>\n",
       "    <tr>\n",
       "      <th>4</th>\n",
       "      <td>ABINGDON DOWNS</td>\n",
       "      <td>0</td>\n",
       "    </tr>\n",
       "    <tr>\n",
       "      <th>...</th>\n",
       "      <td>...</td>\n",
       "      <td>...</td>\n",
       "    </tr>\n",
       "    <tr>\n",
       "      <th>3255</th>\n",
       "      <td>YULEBA SOUTH</td>\n",
       "      <td>20</td>\n",
       "    </tr>\n",
       "    <tr>\n",
       "      <th>3256</th>\n",
       "      <td>YUNGABURRA</td>\n",
       "      <td>1234</td>\n",
       "    </tr>\n",
       "    <tr>\n",
       "      <th>3257</th>\n",
       "      <td>YURUGA</td>\n",
       "      <td>76</td>\n",
       "    </tr>\n",
       "    <tr>\n",
       "      <th>3258</th>\n",
       "      <td>ZILLMERE</td>\n",
       "      <td>8968</td>\n",
       "    </tr>\n",
       "    <tr>\n",
       "      <th>3259</th>\n",
       "      <td>ZILZIE</td>\n",
       "      <td>2710</td>\n",
       "    </tr>\n",
       "  </tbody>\n",
       "</table>\n",
       "<p>3260 rows × 2 columns</p>\n",
       "</div>"
      ],
      "text/plain": [
       "              suburb  population\n",
       "0          ABBEYWOOD          20\n",
       "1        ABBOTSFORD            0\n",
       "2           ABERCORN          42\n",
       "3         ABERGOWRIE         434\n",
       "4     ABINGDON DOWNS           0\n",
       "...              ...         ...\n",
       "3255    YULEBA SOUTH          20\n",
       "3256      YUNGABURRA        1234\n",
       "3257          YURUGA          76\n",
       "3258        ZILLMERE        8968\n",
       "3259          ZILZIE        2710\n",
       "\n",
       "[3260 rows x 2 columns]"
      ]
     },
     "execution_count": 134,
     "metadata": {},
     "output_type": "execute_result"
    }
   ],
   "source": [
    "#clean to aid joining success rate by removing (Qld) from all suburb values.\n",
    "ABS_qldsuburbs_pop['suburb'] = ABS_qldsuburbs_pop['suburb'].str.replace(r\"\\(.*\\)\",\"\")\n",
    "ABS_qldsuburbs_pop"
   ]
  },
  {
   "cell_type": "code",
   "execution_count": 135,
   "metadata": {},
   "outputs": [
    {
     "data": {
      "text/html": [
       "<div>\n",
       "<style scoped>\n",
       "    .dataframe tbody tr th:only-of-type {\n",
       "        vertical-align: middle;\n",
       "    }\n",
       "\n",
       "    .dataframe tbody tr th {\n",
       "        vertical-align: top;\n",
       "    }\n",
       "\n",
       "    .dataframe thead th {\n",
       "        text-align: right;\n",
       "    }\n",
       "</style>\n",
       "<table border=\"1\" class=\"dataframe\">\n",
       "  <thead>\n",
       "    <tr style=\"text-align: right;\">\n",
       "      <th></th>\n",
       "      <th>suburb</th>\n",
       "      <th>complaints</th>\n",
       "      <th>attacks</th>\n",
       "      <th>population</th>\n",
       "    </tr>\n",
       "  </thead>\n",
       "  <tbody>\n",
       "    <tr>\n",
       "      <th>0</th>\n",
       "      <td>INALA</td>\n",
       "      <td>563.0</td>\n",
       "      <td>144.0</td>\n",
       "      <td>14852.0</td>\n",
       "    </tr>\n",
       "    <tr>\n",
       "      <th>1</th>\n",
       "      <td>BRACKEN RIDGE</td>\n",
       "      <td>330.0</td>\n",
       "      <td>88.0</td>\n",
       "      <td>16935.0</td>\n",
       "    </tr>\n",
       "    <tr>\n",
       "      <th>2</th>\n",
       "      <td>CHERMSIDE</td>\n",
       "      <td>304.0</td>\n",
       "      <td>35.0</td>\n",
       "      <td>9315.0</td>\n",
       "    </tr>\n",
       "    <tr>\n",
       "      <th>3</th>\n",
       "      <td>FOREST LAKE</td>\n",
       "      <td>293.0</td>\n",
       "      <td>69.0</td>\n",
       "      <td>22898.0</td>\n",
       "    </tr>\n",
       "    <tr>\n",
       "      <th>4</th>\n",
       "      <td>WYNNUM</td>\n",
       "      <td>258.0</td>\n",
       "      <td>64.0</td>\n",
       "      <td>12910.0</td>\n",
       "    </tr>\n",
       "    <tr>\n",
       "      <th>...</th>\n",
       "      <td>...</td>\n",
       "      <td>...</td>\n",
       "      <td>...</td>\n",
       "      <td>...</td>\n",
       "    </tr>\n",
       "    <tr>\n",
       "      <th>3297</th>\n",
       "      <td>YULEBA NORTH</td>\n",
       "      <td>NaN</td>\n",
       "      <td>NaN</td>\n",
       "      <td>62.0</td>\n",
       "    </tr>\n",
       "    <tr>\n",
       "      <th>3298</th>\n",
       "      <td>YULEBA SOUTH</td>\n",
       "      <td>NaN</td>\n",
       "      <td>NaN</td>\n",
       "      <td>20.0</td>\n",
       "    </tr>\n",
       "    <tr>\n",
       "      <th>3299</th>\n",
       "      <td>YUNGABURRA</td>\n",
       "      <td>NaN</td>\n",
       "      <td>NaN</td>\n",
       "      <td>1234.0</td>\n",
       "    </tr>\n",
       "    <tr>\n",
       "      <th>3300</th>\n",
       "      <td>YURUGA</td>\n",
       "      <td>NaN</td>\n",
       "      <td>NaN</td>\n",
       "      <td>76.0</td>\n",
       "    </tr>\n",
       "    <tr>\n",
       "      <th>3301</th>\n",
       "      <td>ZILZIE</td>\n",
       "      <td>NaN</td>\n",
       "      <td>NaN</td>\n",
       "      <td>2710.0</td>\n",
       "    </tr>\n",
       "  </tbody>\n",
       "</table>\n",
       "<p>3302 rows × 4 columns</p>\n",
       "</div>"
      ],
      "text/plain": [
       "             suburb  complaints  attacks  population\n",
       "0             INALA       563.0    144.0     14852.0\n",
       "1     BRACKEN RIDGE       330.0     88.0     16935.0\n",
       "2         CHERMSIDE       304.0     35.0      9315.0\n",
       "3       FOREST LAKE       293.0     69.0     22898.0\n",
       "4            WYNNUM       258.0     64.0     12910.0\n",
       "...             ...         ...      ...         ...\n",
       "3297   YULEBA NORTH         NaN      NaN        62.0\n",
       "3298   YULEBA SOUTH         NaN      NaN        20.0\n",
       "3299     YUNGABURRA         NaN      NaN      1234.0\n",
       "3300         YURUGA         NaN      NaN        76.0\n",
       "3301         ZILZIE         NaN      NaN      2710.0\n",
       "\n",
       "[3302 rows x 4 columns]"
      ]
     },
     "execution_count": 135,
     "metadata": {},
     "output_type": "execute_result"
    }
   ],
   "source": [
    "#Now commence Attempt 2 to join/merge the new ABS population data with total Animal Complaint Data counts by suburb for attacks and complaints\n",
    "Joining_ABS_pop = pd.merge(df_suburbcounts_attack_join, ABS_qldsuburbs_pop, on='suburb',how='outer')\n",
    "Joining_ABS_pop"
   ]
  },
  {
   "cell_type": "code",
   "execution_count": 136,
   "metadata": {},
   "outputs": [],
   "source": [
    "#on first view, the Attempt 2 join rate looks more successful from Attempt 1"
   ]
  },
  {
   "cell_type": "code",
   "execution_count": 137,
   "metadata": {},
   "outputs": [
    {
     "data": {
      "text/plain": [
       "suburb           0\n",
       "complaints    3115\n",
       "attacks       3123\n",
       "population      42\n",
       "dtype: int64"
      ]
     },
     "execution_count": 137,
     "metadata": {},
     "output_type": "execute_result"
    }
   ],
   "source": [
    "#check the outcome and missing data\n",
    "Joining_ABS_pop.isna().sum()"
   ]
  },
  {
   "cell_type": "code",
   "execution_count": 138,
   "metadata": {},
   "outputs": [
    {
     "data": {
      "text/plain": [
       "<bound method NDFrame.describe of              suburb  complaints  attacks  population\n",
       "0             INALA       563.0    144.0     14852.0\n",
       "1     BRACKEN RIDGE       330.0     88.0     16935.0\n",
       "2         CHERMSIDE       304.0     35.0      9315.0\n",
       "3       FOREST LAKE       293.0     69.0     22898.0\n",
       "4            WYNNUM       258.0     64.0     12910.0\n",
       "...             ...         ...      ...         ...\n",
       "3297   YULEBA NORTH         NaN      NaN        62.0\n",
       "3298   YULEBA SOUTH         NaN      NaN        20.0\n",
       "3299     YUNGABURRA         NaN      NaN      1234.0\n",
       "3300         YURUGA         NaN      NaN        76.0\n",
       "3301         ZILZIE         NaN      NaN      2710.0\n",
       "\n",
       "[3302 rows x 4 columns]>"
      ]
     },
     "execution_count": 138,
     "metadata": {},
     "output_type": "execute_result"
    }
   ],
   "source": [
    "Joining_ABS_pop.describe"
   ]
  },
  {
   "cell_type": "code",
   "execution_count": 139,
   "metadata": {},
   "outputs": [
    {
     "data": {
      "text/plain": [
       "suburb         0.000000\n",
       "complaints    94.336766\n",
       "attacks       94.579043\n",
       "population     1.271956\n",
       "dtype: float64"
      ]
     },
     "execution_count": 139,
     "metadata": {},
     "output_type": "execute_result"
    }
   ],
   "source": [
    "missing_values_abs = (Joining_ABS_pop.isna().sum() / Joining_ABS_pop.shape[0]) * 100\n",
    "missing_values_abs"
   ]
  },
  {
   "cell_type": "code",
   "execution_count": 140,
   "metadata": {},
   "outputs": [
    {
     "data": {
      "text/plain": [
       "(3302, 4)"
      ]
     },
     "execution_count": 140,
     "metadata": {},
     "output_type": "execute_result"
    }
   ],
   "source": [
    "Joining_ABS_pop.shape"
   ]
  },
  {
   "cell_type": "code",
   "execution_count": 141,
   "metadata": {},
   "outputs": [
    {
     "data": {
      "text/html": [
       "<div>\n",
       "<style scoped>\n",
       "    .dataframe tbody tr th:only-of-type {\n",
       "        vertical-align: middle;\n",
       "    }\n",
       "\n",
       "    .dataframe tbody tr th {\n",
       "        vertical-align: top;\n",
       "    }\n",
       "\n",
       "    .dataframe thead th {\n",
       "        text-align: right;\n",
       "    }\n",
       "</style>\n",
       "<table border=\"1\" class=\"dataframe\">\n",
       "  <thead>\n",
       "    <tr style=\"text-align: right;\">\n",
       "      <th></th>\n",
       "      <th>suburb</th>\n",
       "      <th>complaints</th>\n",
       "      <th>attacks</th>\n",
       "      <th>population</th>\n",
       "    </tr>\n",
       "  </thead>\n",
       "  <tbody>\n",
       "    <tr>\n",
       "      <th>0</th>\n",
       "      <td>INALA</td>\n",
       "      <td>563.0</td>\n",
       "      <td>144.0</td>\n",
       "      <td>14852.0</td>\n",
       "    </tr>\n",
       "    <tr>\n",
       "      <th>1</th>\n",
       "      <td>BRACKEN RIDGE</td>\n",
       "      <td>330.0</td>\n",
       "      <td>88.0</td>\n",
       "      <td>16935.0</td>\n",
       "    </tr>\n",
       "    <tr>\n",
       "      <th>2</th>\n",
       "      <td>CHERMSIDE</td>\n",
       "      <td>304.0</td>\n",
       "      <td>35.0</td>\n",
       "      <td>9315.0</td>\n",
       "    </tr>\n",
       "    <tr>\n",
       "      <th>3</th>\n",
       "      <td>FOREST LAKE</td>\n",
       "      <td>293.0</td>\n",
       "      <td>69.0</td>\n",
       "      <td>22898.0</td>\n",
       "    </tr>\n",
       "    <tr>\n",
       "      <th>4</th>\n",
       "      <td>WYNNUM</td>\n",
       "      <td>258.0</td>\n",
       "      <td>64.0</td>\n",
       "      <td>12910.0</td>\n",
       "    </tr>\n",
       "    <tr>\n",
       "      <th>...</th>\n",
       "      <td>...</td>\n",
       "      <td>...</td>\n",
       "      <td>...</td>\n",
       "      <td>...</td>\n",
       "    </tr>\n",
       "    <tr>\n",
       "      <th>172</th>\n",
       "      <td>SUMNER</td>\n",
       "      <td>19.0</td>\n",
       "      <td>3.0</td>\n",
       "      <td>590.0</td>\n",
       "    </tr>\n",
       "    <tr>\n",
       "      <th>173</th>\n",
       "      <td>FORTITUDE VALLEY</td>\n",
       "      <td>18.0</td>\n",
       "      <td>3.0</td>\n",
       "      <td>6974.0</td>\n",
       "    </tr>\n",
       "    <tr>\n",
       "      <th>175</th>\n",
       "      <td>RANSOME</td>\n",
       "      <td>14.0</td>\n",
       "      <td>4.0</td>\n",
       "      <td>405.0</td>\n",
       "    </tr>\n",
       "    <tr>\n",
       "      <th>178</th>\n",
       "      <td>YEERONGPILLY</td>\n",
       "      <td>10.0</td>\n",
       "      <td>2.0</td>\n",
       "      <td>1934.0</td>\n",
       "    </tr>\n",
       "    <tr>\n",
       "      <th>179</th>\n",
       "      <td>CHUWAR</td>\n",
       "      <td>8.0</td>\n",
       "      <td>3.0</td>\n",
       "      <td>2245.0</td>\n",
       "    </tr>\n",
       "  </tbody>\n",
       "</table>\n",
       "<p>138 rows × 4 columns</p>\n",
       "</div>"
      ],
      "text/plain": [
       "               suburb  complaints  attacks  population\n",
       "0               INALA       563.0    144.0     14852.0\n",
       "1       BRACKEN RIDGE       330.0     88.0     16935.0\n",
       "2           CHERMSIDE       304.0     35.0      9315.0\n",
       "3         FOREST LAKE       293.0     69.0     22898.0\n",
       "4              WYNNUM       258.0     64.0     12910.0\n",
       "..                ...         ...      ...         ...\n",
       "172            SUMNER        19.0      3.0       590.0\n",
       "173  FORTITUDE VALLEY        18.0      3.0      6974.0\n",
       "175           RANSOME        14.0      4.0       405.0\n",
       "178      YEERONGPILLY        10.0      2.0      1934.0\n",
       "179            CHUWAR         8.0      3.0      2245.0\n",
       "\n",
       "[138 rows x 4 columns]"
      ]
     },
     "execution_count": 141,
     "metadata": {},
     "output_type": "execute_result"
    }
   ],
   "source": [
    "#decision taken to drop rows with no joined suburb data to get an indication of remaining data versus Attempt 1 join rate\n",
    "cleaned_abs_join = Joining_ABS_pop.dropna().copy()\n",
    "cleaned_abs_join"
   ]
  },
  {
   "cell_type": "code",
   "execution_count": 142,
   "metadata": {},
   "outputs": [],
   "source": [
    "# 138 suburb matches appear successful from the c.180 total suburbs which was higher than the rate for Brisbane City Council LGA data so decision take to go with this data for the per capita analysis"
   ]
  },
  {
   "cell_type": "code",
   "execution_count": 143,
   "metadata": {},
   "outputs": [
    {
     "data": {
      "text/html": [
       "<div>\n",
       "<style scoped>\n",
       "    .dataframe tbody tr th:only-of-type {\n",
       "        vertical-align: middle;\n",
       "    }\n",
       "\n",
       "    .dataframe tbody tr th {\n",
       "        vertical-align: top;\n",
       "    }\n",
       "\n",
       "    .dataframe thead th {\n",
       "        text-align: right;\n",
       "    }\n",
       "</style>\n",
       "<table border=\"1\" class=\"dataframe\">\n",
       "  <thead>\n",
       "    <tr style=\"text-align: right;\">\n",
       "      <th></th>\n",
       "      <th>suburb</th>\n",
       "      <th>complaints</th>\n",
       "      <th>attacks</th>\n",
       "      <th>population</th>\n",
       "      <th>complaint % of Pop</th>\n",
       "    </tr>\n",
       "  </thead>\n",
       "  <tbody>\n",
       "    <tr>\n",
       "      <th>0</th>\n",
       "      <td>INALA</td>\n",
       "      <td>563.0</td>\n",
       "      <td>144.0</td>\n",
       "      <td>14852.0</td>\n",
       "      <td>3.79</td>\n",
       "    </tr>\n",
       "    <tr>\n",
       "      <th>1</th>\n",
       "      <td>BRACKEN RIDGE</td>\n",
       "      <td>330.0</td>\n",
       "      <td>88.0</td>\n",
       "      <td>16935.0</td>\n",
       "      <td>1.95</td>\n",
       "    </tr>\n",
       "    <tr>\n",
       "      <th>2</th>\n",
       "      <td>CHERMSIDE</td>\n",
       "      <td>304.0</td>\n",
       "      <td>35.0</td>\n",
       "      <td>9315.0</td>\n",
       "      <td>3.26</td>\n",
       "    </tr>\n",
       "    <tr>\n",
       "      <th>3</th>\n",
       "      <td>FOREST LAKE</td>\n",
       "      <td>293.0</td>\n",
       "      <td>69.0</td>\n",
       "      <td>22898.0</td>\n",
       "      <td>1.28</td>\n",
       "    </tr>\n",
       "    <tr>\n",
       "      <th>4</th>\n",
       "      <td>WYNNUM</td>\n",
       "      <td>258.0</td>\n",
       "      <td>64.0</td>\n",
       "      <td>12910.0</td>\n",
       "      <td>2.00</td>\n",
       "    </tr>\n",
       "    <tr>\n",
       "      <th>...</th>\n",
       "      <td>...</td>\n",
       "      <td>...</td>\n",
       "      <td>...</td>\n",
       "      <td>...</td>\n",
       "      <td>...</td>\n",
       "    </tr>\n",
       "    <tr>\n",
       "      <th>172</th>\n",
       "      <td>SUMNER</td>\n",
       "      <td>19.0</td>\n",
       "      <td>3.0</td>\n",
       "      <td>590.0</td>\n",
       "      <td>3.22</td>\n",
       "    </tr>\n",
       "    <tr>\n",
       "      <th>173</th>\n",
       "      <td>FORTITUDE VALLEY</td>\n",
       "      <td>18.0</td>\n",
       "      <td>3.0</td>\n",
       "      <td>6974.0</td>\n",
       "      <td>0.26</td>\n",
       "    </tr>\n",
       "    <tr>\n",
       "      <th>175</th>\n",
       "      <td>RANSOME</td>\n",
       "      <td>14.0</td>\n",
       "      <td>4.0</td>\n",
       "      <td>405.0</td>\n",
       "      <td>3.46</td>\n",
       "    </tr>\n",
       "    <tr>\n",
       "      <th>178</th>\n",
       "      <td>YEERONGPILLY</td>\n",
       "      <td>10.0</td>\n",
       "      <td>2.0</td>\n",
       "      <td>1934.0</td>\n",
       "      <td>0.52</td>\n",
       "    </tr>\n",
       "    <tr>\n",
       "      <th>179</th>\n",
       "      <td>CHUWAR</td>\n",
       "      <td>8.0</td>\n",
       "      <td>3.0</td>\n",
       "      <td>2245.0</td>\n",
       "      <td>0.36</td>\n",
       "    </tr>\n",
       "  </tbody>\n",
       "</table>\n",
       "<p>138 rows × 5 columns</p>\n",
       "</div>"
      ],
      "text/plain": [
       "               suburb  complaints  attacks  population  complaint % of Pop\n",
       "0               INALA       563.0    144.0     14852.0                3.79\n",
       "1       BRACKEN RIDGE       330.0     88.0     16935.0                1.95\n",
       "2           CHERMSIDE       304.0     35.0      9315.0                3.26\n",
       "3         FOREST LAKE       293.0     69.0     22898.0                1.28\n",
       "4              WYNNUM       258.0     64.0     12910.0                2.00\n",
       "..                ...         ...      ...         ...                 ...\n",
       "172            SUMNER        19.0      3.0       590.0                3.22\n",
       "173  FORTITUDE VALLEY        18.0      3.0      6974.0                0.26\n",
       "175           RANSOME        14.0      4.0       405.0                3.46\n",
       "178      YEERONGPILLY        10.0      2.0      1934.0                0.52\n",
       "179            CHUWAR         8.0      3.0      2245.0                0.36\n",
       "\n",
       "[138 rows x 5 columns]"
      ]
     },
     "execution_count": 143,
     "metadata": {},
     "output_type": "execute_result"
    }
   ],
   "source": [
    "#calculation columns added to the new Attempt 2 joined up data from to show the relative complaints and attack percentages versus the population sizes. \n",
    "\n",
    "cleaned_abs_join['complaint % of Pop'] = (cleaned_abs_join['complaints'] / cleaned_abs_join['population']).round(4)*100\n",
    "cleaned_abs_join"
   ]
  },
  {
   "cell_type": "code",
   "execution_count": 144,
   "metadata": {},
   "outputs": [
    {
     "data": {
      "text/html": [
       "<div>\n",
       "<style scoped>\n",
       "    .dataframe tbody tr th:only-of-type {\n",
       "        vertical-align: middle;\n",
       "    }\n",
       "\n",
       "    .dataframe tbody tr th {\n",
       "        vertical-align: top;\n",
       "    }\n",
       "\n",
       "    .dataframe thead th {\n",
       "        text-align: right;\n",
       "    }\n",
       "</style>\n",
       "<table border=\"1\" class=\"dataframe\">\n",
       "  <thead>\n",
       "    <tr style=\"text-align: right;\">\n",
       "      <th></th>\n",
       "      <th>suburb</th>\n",
       "      <th>complaints</th>\n",
       "      <th>attacks</th>\n",
       "      <th>population</th>\n",
       "      <th>complaint % of Pop</th>\n",
       "      <th>attacks % of Pop</th>\n",
       "    </tr>\n",
       "  </thead>\n",
       "  <tbody>\n",
       "    <tr>\n",
       "      <th>0</th>\n",
       "      <td>INALA</td>\n",
       "      <td>563.0</td>\n",
       "      <td>144.0</td>\n",
       "      <td>14852.0</td>\n",
       "      <td>3.79</td>\n",
       "      <td>0.97</td>\n",
       "    </tr>\n",
       "    <tr>\n",
       "      <th>1</th>\n",
       "      <td>BRACKEN RIDGE</td>\n",
       "      <td>330.0</td>\n",
       "      <td>88.0</td>\n",
       "      <td>16935.0</td>\n",
       "      <td>1.95</td>\n",
       "      <td>0.52</td>\n",
       "    </tr>\n",
       "    <tr>\n",
       "      <th>2</th>\n",
       "      <td>CHERMSIDE</td>\n",
       "      <td>304.0</td>\n",
       "      <td>35.0</td>\n",
       "      <td>9315.0</td>\n",
       "      <td>3.26</td>\n",
       "      <td>0.38</td>\n",
       "    </tr>\n",
       "    <tr>\n",
       "      <th>3</th>\n",
       "      <td>FOREST LAKE</td>\n",
       "      <td>293.0</td>\n",
       "      <td>69.0</td>\n",
       "      <td>22898.0</td>\n",
       "      <td>1.28</td>\n",
       "      <td>0.30</td>\n",
       "    </tr>\n",
       "    <tr>\n",
       "      <th>4</th>\n",
       "      <td>WYNNUM</td>\n",
       "      <td>258.0</td>\n",
       "      <td>64.0</td>\n",
       "      <td>12910.0</td>\n",
       "      <td>2.00</td>\n",
       "      <td>0.50</td>\n",
       "    </tr>\n",
       "    <tr>\n",
       "      <th>...</th>\n",
       "      <td>...</td>\n",
       "      <td>...</td>\n",
       "      <td>...</td>\n",
       "      <td>...</td>\n",
       "      <td>...</td>\n",
       "      <td>...</td>\n",
       "    </tr>\n",
       "    <tr>\n",
       "      <th>172</th>\n",
       "      <td>SUMNER</td>\n",
       "      <td>19.0</td>\n",
       "      <td>3.0</td>\n",
       "      <td>590.0</td>\n",
       "      <td>3.22</td>\n",
       "      <td>0.51</td>\n",
       "    </tr>\n",
       "    <tr>\n",
       "      <th>173</th>\n",
       "      <td>FORTITUDE VALLEY</td>\n",
       "      <td>18.0</td>\n",
       "      <td>3.0</td>\n",
       "      <td>6974.0</td>\n",
       "      <td>0.26</td>\n",
       "      <td>0.04</td>\n",
       "    </tr>\n",
       "    <tr>\n",
       "      <th>175</th>\n",
       "      <td>RANSOME</td>\n",
       "      <td>14.0</td>\n",
       "      <td>4.0</td>\n",
       "      <td>405.0</td>\n",
       "      <td>3.46</td>\n",
       "      <td>0.99</td>\n",
       "    </tr>\n",
       "    <tr>\n",
       "      <th>178</th>\n",
       "      <td>YEERONGPILLY</td>\n",
       "      <td>10.0</td>\n",
       "      <td>2.0</td>\n",
       "      <td>1934.0</td>\n",
       "      <td>0.52</td>\n",
       "      <td>0.10</td>\n",
       "    </tr>\n",
       "    <tr>\n",
       "      <th>179</th>\n",
       "      <td>CHUWAR</td>\n",
       "      <td>8.0</td>\n",
       "      <td>3.0</td>\n",
       "      <td>2245.0</td>\n",
       "      <td>0.36</td>\n",
       "      <td>0.13</td>\n",
       "    </tr>\n",
       "  </tbody>\n",
       "</table>\n",
       "<p>138 rows × 6 columns</p>\n",
       "</div>"
      ],
      "text/plain": [
       "               suburb  complaints  attacks  population  complaint % of Pop  \\\n",
       "0               INALA       563.0    144.0     14852.0                3.79   \n",
       "1       BRACKEN RIDGE       330.0     88.0     16935.0                1.95   \n",
       "2           CHERMSIDE       304.0     35.0      9315.0                3.26   \n",
       "3         FOREST LAKE       293.0     69.0     22898.0                1.28   \n",
       "4              WYNNUM       258.0     64.0     12910.0                2.00   \n",
       "..                ...         ...      ...         ...                 ...   \n",
       "172            SUMNER        19.0      3.0       590.0                3.22   \n",
       "173  FORTITUDE VALLEY        18.0      3.0      6974.0                0.26   \n",
       "175           RANSOME        14.0      4.0       405.0                3.46   \n",
       "178      YEERONGPILLY        10.0      2.0      1934.0                0.52   \n",
       "179            CHUWAR         8.0      3.0      2245.0                0.36   \n",
       "\n",
       "     attacks % of Pop  \n",
       "0                0.97  \n",
       "1                0.52  \n",
       "2                0.38  \n",
       "3                0.30  \n",
       "4                0.50  \n",
       "..                ...  \n",
       "172              0.51  \n",
       "173              0.04  \n",
       "175              0.99  \n",
       "178              0.10  \n",
       "179              0.13  \n",
       "\n",
       "[138 rows x 6 columns]"
      ]
     },
     "execution_count": 144,
     "metadata": {},
     "output_type": "execute_result"
    }
   ],
   "source": [
    "cleaned_abs_join['attacks % of Pop'] = (cleaned_abs_join['attacks'] / cleaned_abs_join['population']).round(4)*100\n",
    "cleaned_abs_join"
   ]
  },
  {
   "cell_type": "code",
   "execution_count": 146,
   "metadata": {},
   "outputs": [],
   "source": [
    "#joined up final dataset uploaded for later graphical analysis\n",
    "cleaned_abs_join.to_csv(r'..\\assignment\\two_years_complaints_percap.csv', index = False)"
   ]
  },
  {
   "cell_type": "code",
   "execution_count": null,
   "metadata": {},
   "outputs": [],
   "source": []
  },
  {
   "cell_type": "code",
   "execution_count": 149,
   "metadata": {},
   "outputs": [],
   "source": [
    "#end of main cleaning"
   ]
  }
 ],
 "metadata": {
  "kernelspec": {
   "display_name": "Python 3",
   "language": "python",
   "name": "python3"
  },
  "language_info": {
   "codemirror_mode": {
    "name": "ipython",
    "version": 3
   },
   "file_extension": ".py",
   "mimetype": "text/x-python",
   "name": "python",
   "nbconvert_exporter": "python",
   "pygments_lexer": "ipython3",
   "version": "3.8.3"
  }
 },
 "nbformat": 4,
 "nbformat_minor": 4
}
