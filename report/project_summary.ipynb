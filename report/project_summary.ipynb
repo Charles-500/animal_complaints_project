{
 "cells": [
  {
   "cell_type": "markdown",
   "metadata": {},
   "source": [
    "# A Basic Analysis of Animal Complaints reported to Brisbane City Council over the 2-year period ending September 2020\n",
    "\n",
    "\n",
    "## Description / Overview\n",
    "Aim of the project was to investigate animal and complaints made to the Brisbane City Council (BCC) over a 2-year period to understand trends across complaint volumes, complaint types (in particular attacks), suburbs reporting complaints and also compare results where relevant across suburbs based on their population size. \n",
    "\n",
    "\n",
    "## Data Used\n",
    "The project utilised two basic data sources which involved a total of 9 csv files. An additional data source was explored in detail before being abandoned. The key sources were:\n",
    "\n",
    "1.\tThe Brisbane City Council reports quarterly on animal complaints received. The data includes the suburb and the type / nature of the complaint. \n",
    "https://www.data.brisbane.qld.gov.au/data/dataset/animal-related-complaints\n",
    "8 files covering the most recent 8 quarters were downloaded. \n",
    "Animal complaints – Jul-Sep 2020 – CSV\n",
    "Animal complaints – April-Jun 2020 - CSV\n",
    "Animal complaints – Jan-Mar 2020 – CSV\n",
    "Animal complaints – Oct-Sep 2019 - CSV\n",
    "Animal complaints – Jul-Sep 2019 – CSV\n",
    "Animal complaints – April-Jun 2019 - CSV\n",
    "Animal complaints – Jan-Mar 2019 – CSV\n",
    "Animal complaints – Oct-Dec 2028 – CSV\n",
    "\n",
    "2.\tIn order to compare complaints by suburb relative to their population, additional data was sought on population size by suburb for the Brisbane City Council region. \n",
    "Initially this data was sourced from the BCC website which has a community profile builder. \n",
    "\n",
    "https://www.brisbane.qld.gov.au/about-council/governance-and-strategy/business-in-brisbane/business-opportunities/brisbane-community-profiles\n",
    "\n",
    "Selecting the Brisbane Local Government area suburbs via the profile builder generated a CSV file with these suburbs and their population counts. Unfortunately, during the data cleaning process to match this data by suburb to the Animal Complaints data by suburb, it was discovered that the population data information combined a number of suburbs. The Complaints Data included 188 unique suburbs however the population data only had 133 suburbs which included combined suburbs (c.36 combined suburbs which would not be able to be matched). \n",
    "A new data set was sourced via the Australian Bureau of Statistics (ABS) website and 2016 Census information. This data was access by registering for the free ABS Table Builder online tool. From within this tool, a download of total Queensland population counts by suburb was accessed. \n",
    "\n",
    "https://www.abs.gov.au/websitedbs/censushome.nsf/home/tablebuilder\n",
    "\n",
    "The table builder information can be viewed via the link above but it requires registration and log-in. It’s not the easiest interface to initially navigate and hence I got help from the ABS to set-up the correct query. The query utilised the 2016 Population and Housing Survey data and the Census Table Builder basic function. 138 suburbs were merged / joined with this file so it was preferred to the Council profile builder information due to the higher matching rate. This ‘joining’ challenge in not reaching 100% success rate for all suburbs in the complaints data (188 suburbs) is an obvious limitation of this project. \n",
    "\n",
    "\n",
    "\n",
    "## Cleaning Process\n",
    "The cleaning process proved more time consuming than anticipated and involved a lot of trial and error. The code folder for the cleaning and preparation of the data includes markdown comments on the steps involved. At a summary level, the process involved:\n",
    "\n",
    "1.\tLoading and checking the 8 complaint data csv files. Adding a column in each to denote the relevant quarter as this was only in the file name.  Then joining up the 8 files to get one data set covering the total 2-year period with all complaints. \n",
    "\n",
    "2.\tReviewing this data set for missing values. Two approach were taken. The very small number (1%) of rows with missing suburbs were dropped. The Reporting Level category had 16% missing values and the mode was used fill as the most frequently occurring value.  This master data set was then checked and normalised. Clean file was uploaded for charting. \n",
    "\n",
    "3.\tA second data set was then created which was a total of complaints by suburb to be used with the ABS population data to understand complaints as % of suburb population. Value counts were used to determine total complaints by suburb, and total attacks by suburb. \n",
    "\n",
    "4.\tTo see changes over time, additional data sets were also compiled for total complaints by quarter and total Attacks by quarter. Some initial analysis was conducted in compiling these data sets. In hindsight these steps may have been completed solely in the Analysis stage. \n",
    "\n",
    "5.\tThe matching of the ABS population by suburb data to the Animal complaint total by suburbs for complaints and animal attacks was then completed. This involved joining the datasets, and also cleaning the ABS dataset column values.  This followed the initial joining of this suburb data using the Council profile data which is within the clean code but was not utilised in the final datasets used for charting. \n",
    "\n",
    "\n",
    "## Results - Questions and Analysis\n",
    "\n",
    "### Which suburb has the highest number of total animal complaints over the 2-year period?\n",
    "\n",
    "This was very clearly the suburb of Inala with 563 complaints. Inala is an outer Brisbane suburb located 15kms south west from the Brisbane central business district (CBD).  The Inala complaints total represented an average of 0.78 complaints per day over the 2-year period. \n",
    "\n",
    "\n",
    "### Which suburb has the lowest number of total animal complaints over the period? \n",
    "\n",
    "Port of Brisbane had the lowest number of reported complaints for the 2-year period with just one. This is likely to be expected given its industrial nature. It also had a population count of 0 from the ABS data as there is no residential areas. Tennyson had 2 complaints which was otherwise the lowest. This excludes the regional areas of Moreton Island and Lake Manchester which also had 2 complaints.  \n",
    "\n",
    "\n",
    "\n",
    "### Do the suburbs with the highest and lowest total complaint numbers change based on relative % of suburb population size?\n",
    "\n",
    "Inala was ranked 14 of all suburbs based on % of total complaints versus population size. All suburbs ranking higher than Inala had populations under 4,000 in total. Inala’s population was reported at just under 15,000. The top 5 suburbs for complaints as a % of population all had population’s of under 500 people. Karawatha which is 18km south of the CBD had a reported population of 16 people but had 23 total complaints reported over the 2-year period (highest % complaints at 143%).  For suburbs with a population of over 100, Nudgee Beach (population 266) had the highest percent complaints versus population at 36.47%. It is likely that the large dog park located in this suburb is a driver of this high % rate of complaints versus the population size. \n",
    "Fortitude Valley is a high-density suburb very close to the CBD which had the lowest complaints as % of population at 0.26% representing 18 complaints over 2 years. Its population was recorded at 6,974. \n",
    "\n",
    "\n",
    "\n",
    "### Which suburb has had the most 'attack' complaint types over the 2-year period and how did this compare as percentage of their population? \n",
    "\n",
    "Inala also had the highest number of total attacks reported over the 2-year period at 144. This was followed by Bracken Ridge at 88 and Forest Lake at 69. In terms of % of population, similar trends to total complaints by population were observed. Karawatha (25%) was again the highest with 4 attacks reported with a total population of only 16. For suburbs with a population of over 1,000, Ellen Grove had the highest % attacks to population at 1.45% from 42 attacks and a population of 2,902. \n",
    "\n",
    "\n",
    "\n",
    "### How do the distributions of total aanimal complaints by suburb and suburb populations compare? \n",
    "\n",
    "The visualisation (excluding a small number of outliers) shows that that there is a general positive linear correlation. It’s not unexpected that total complaints increase as the population size of the suburb increases. \n",
    "\n",
    "\n",
    "\n",
    "### How do the distributions of % total animal complaints by suburb and % total attack complaints by suburb compare? \n",
    "\n",
    "On initial view of the visualisation (excluding a small number of outliers) there is generally minimal correlation, however upon using the zoom feature a degree of positive correlation is visible. \n",
    "\n",
    "\n",
    "\n",
    "### How do the distributions of total animal complaints by suburb and % total animal complaints by suburb compare? \n",
    "\n",
    "No correlation visible. \n",
    "\n",
    "\n",
    "\n",
    "### What is the most common complaint type?\n",
    "\n",
    "Dogs are very clearly the largest reported complaint type with 8,017 (45%) of the total 17,072 complaints for the 2-year period. \n",
    "\n",
    "\n",
    "\n",
    "### What is the most common complaint reporting level and which suburb has the most occurrences? \n",
    "\n",
    "Animal ‘Wandering’ is the most common complaint reporting level making up 7,182 (42%) complaints of the total 17,072 complaints for the 2-year period. Chermside reported the most ‘Wandering’ complaints with 222 for the 2 years. BCC advise that 'Reporting Level' provides some further information on the processing of the complaint. \n",
    "\n",
    "\n",
    "\n",
    "### Which suburb had the most fox complaints reported over the 2-year period? \n",
    "\n",
    "Tarragindi reported the most fox complaints with 35 for the 2 years. There were a total of 777 fox complaints for the period with the top 10 suburbs making up 28.9%. \n",
    "\n",
    "\n",
    "\n",
    "### Are total animal complaints increasing or decreasing over the last 2 years, and did they change over the most recent 6-month period when more people were likely to be at home during the week due to Covid-19? \n",
    "\n",
    "Reported animal complaints are trending up by quarter over the last 2 years. The most recent two quarters (covering April – Sept 2020) have shown solid increases. This would include the period of Covid19 impacts. There is a possibility that with more people confined to home during this period they have been more conscious of animal issues. \n",
    "\n",
    "\n",
    "\n",
    "### Are total attack complaints increasing or decreasing over the last 2 years?\n",
    "\n",
    "Total reported 'attack' are marginally down when directly comparing quarter on quarter numbers for the most recent 12-month period versus the 12-months prior. The limited data available (only 2 years) points to potentially seasonality with complaints for the 6 month period April to September being higher than the October to March period. "
   ]
  },
  {
   "cell_type": "markdown",
   "metadata": {},
   "source": [
    "## Visualisations"
   ]
  },
  {
   "cell_type": "markdown",
   "metadata": {},
   "source": [
    "![](Total_complaints_by_qtr.png)"
   ]
  },
  {
   "cell_type": "markdown",
   "metadata": {},
   "source": [
    "![](complaints_by_type.png)"
   ]
  },
  {
   "cell_type": "markdown",
   "metadata": {},
   "source": [
    "![](top_20_complaint_suburbs.png)"
   ]
  },
  {
   "cell_type": "markdown",
   "metadata": {},
   "source": [
    "![](b_total_pop.png)"
   ]
  },
  {
   "cell_type": "markdown",
   "metadata": {},
   "source": [
    "![](total_attacks_graph_f.png)"
   ]
  },
  {
   "cell_type": "markdown",
   "metadata": {},
   "source": [
    "![](b_percents.png)"
   ]
  },
  {
   "cell_type": "markdown",
   "metadata": {},
   "source": [
    "![](b_complaints_andperc.png)"
   ]
  },
  {
   "cell_type": "markdown",
   "metadata": {},
   "source": [
    "![](Total_complaints_YoY_qtr.png)"
   ]
  },
  {
   "cell_type": "markdown",
   "metadata": {},
   "source": [
    "![](top10_wandering_suburbs.png)"
   ]
  },
  {
   "cell_type": "markdown",
   "metadata": {},
   "source": [
    "![](top10fox_complaints.png)"
   ]
  },
  {
   "cell_type": "markdown",
   "metadata": {},
   "source": [
    "## Conclusion\n",
    "\n",
    "There were a total of 17,702 animal complaints made to the BCC over the 2 years from October 2018 to September 2020. The greatest number of complaints received by the BCC over the 2-year period were for the suburb of Inala with 563.  Generally, complaints numbers increase with the population size of the suburb. For suburbs with populations over 100, Nudgee Beach had the highest percent of complaints to population size. It is anticipated that this is driven by the large dog park located in the suburb. \n",
    "\n",
    "Total complaints increased for the 12-month period ending September 2020 versus the previous 12 months ending September 2019. Total animal complaints increased most significantly in the April to June period of 2020 where they were up 44% versus the same quarter in 2019. No conclusion can be reached on the impact of covid19 on complaint levels however it is interesting that in the limited data analysed (only 2 years) complaints increased in year 2.  \n",
    "\n",
    "Interestingly, there were 777 fox complaints received over the 2 years. The highest number of complaints were received for the suburb of Tarragindi with 35. \n",
    "\n",
    "This project has been a valuable experience to learn and practice using python for data analysis. The code used in this project is undoubtably inefficient but it has still helped me improve my skills significantly. \n",
    "\n",
    "Limitations in the analysis were encountered due the BCC data being basic only and only 2 years of data being utilised. The % of the population conclusions in the analysis were also limited due to the challenges in matching the suburb definitions / classifications used in the Brisbane City Council complaints data versus the ABS population by suburbs data. \n",
    "\n",
    "\n",
    "## Future Work\n",
    "\n",
    "The existing data has limited categories / richness to support significant further analysis. \n",
    "\n",
    "There may be opportunities to combine additional data to uncover further insights. Some potential areas could include:  \n",
    "\n",
    "•\tExtend the analysis to compare to capital cities across the country. This would depend upon the level of local council reporting available in each city. \n",
    "\n",
    "•\tExpand the time series used in the data set beyond 2 years. \n",
    "\n",
    "•\tIncorporate interactive visualisations to map some of the key results over the Brisbane City Council area map of suburbs. \n",
    "\n",
    "•\tIt might also be possible to incorporate other suburb population characteristics available in ABS data to uncover correlations with animal complaints by suburb. This could include income levels, suburb sizes and densities, and the locations of parklands. \n",
    "\n"
   ]
  }
 ],
 "metadata": {
  "kernelspec": {
   "display_name": "Python 3",
   "language": "python",
   "name": "python3"
  },
  "language_info": {
   "codemirror_mode": {
    "name": "ipython",
    "version": 3
   },
   "file_extension": ".py",
   "mimetype": "text/x-python",
   "name": "python",
   "nbconvert_exporter": "python",
   "pygments_lexer": "ipython3",
   "version": "3.8.3"
  }
 },
 "nbformat": 4,
 "nbformat_minor": 4
}
